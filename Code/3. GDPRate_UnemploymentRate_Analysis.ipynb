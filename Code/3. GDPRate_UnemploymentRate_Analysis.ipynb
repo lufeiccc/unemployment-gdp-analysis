{
 "cells": [
  {
   "cell_type": "markdown",
   "metadata": {},
   "source": [
    "## GDP Rate and Unemployment Rate Analysis\n",
    "### Author: zhixuanj"
   ]
  },
  {
   "cell_type": "markdown",
   "metadata": {},
   "source": [
    "##### Q1: Is there a correlation between the GDP growth rate and the unemployment rate?\n",
    "##### Q2: Are there any anomalies in the correlation analysis? If so, what are the causes of these anomalies?"
   ]
  },
  {
   "cell_type": "markdown",
   "metadata": {},
   "source": [
    "##### A1:\n",
    "There is a negative correlation between GDP growth rate and unemployment rate in most of the countries, indicating that as GDP growth rate increases, unemployment rate tends to decrease. This relationship is stronger in continents with higher poverty levels and weaker in North America and Europe."
   ]
  },
  {
   "cell_type": "markdown",
   "metadata": {},
   "source": [
    "##### A2:\n",
    "(1) The correlation in AS/EU area is positive might be the outcome of geopolics and war, the war between Russia and Ukraine might stimulate the prosperity of Arms industry and boost GDP growth.\n",
    "\n",
    "(2) According to \"The correlation between unemployment and economic growth in Latin America – Okun’s law estimates by country\", the correlation in South America area is positive might can be attributed to following reasons:\n",
    "1. Agricultural Employment Share: The higher the proportion of agricultural employment, the less sensitive the unemployment rate is to GDP growth.\n",
    "2. Informal Employment: A high proportion of informal employment reduces the impact of economic fluctuations on the unemployment rate.\n",
    "3. Unpaid Family Labor: This type of work typically increases during economic contractions and exhibits countercyclical characteristics.\n",
    "4. Labor Market Protection: Employment protection laws have no significant impact on Okun’s coefficient."
   ]
  },
  {
   "cell_type": "markdown",
   "metadata": {},
   "source": [
    "## GDP Growth Rate and Unemployment Rate by Continent"
   ]
  },
  {
   "cell_type": "code",
   "execution_count": 1,
   "metadata": {},
   "outputs": [],
   "source": [
    "import pandas as pd\n",
    "import numpy as np \n",
    "import matplotlib.pyplot as plt\n",
    "import seaborn as sns\n",
    "from seaborn import objects as so\n",
    "import plotly.express as px\n",
    "import plotly.graph_objects as go\n",
    "pd.set_option('display.max_columns', None)\n",
    "\n",
    "gdp_unemp = pd.read_csv('../Data/gdp_unemp_final.csv')"
   ]
  },
  {
   "cell_type": "code",
   "execution_count": 2,
   "metadata": {},
   "outputs": [
    {
     "data": {
      "text/html": [
       "<div>\n",
       "<style scoped>\n",
       "    .dataframe tbody tr th:only-of-type {\n",
       "        vertical-align: middle;\n",
       "    }\n",
       "\n",
       "    .dataframe tbody tr th {\n",
       "        vertical-align: top;\n",
       "    }\n",
       "\n",
       "    .dataframe thead th {\n",
       "        text-align: right;\n",
       "    }\n",
       "</style>\n",
       "<table border=\"1\" class=\"dataframe\">\n",
       "  <thead>\n",
       "    <tr style=\"text-align: right;\">\n",
       "      <th></th>\n",
       "      <th>Country</th>\n",
       "      <th>Continent</th>\n",
       "      <th>Sex</th>\n",
       "      <th>Age_Group</th>\n",
       "      <th>Age_Categories</th>\n",
       "      <th>GDP Growth Rate % [2014]</th>\n",
       "      <th>GDP Growth Rate % [2015]</th>\n",
       "      <th>GDP Growth Rate % [2016]</th>\n",
       "      <th>GDP Growth Rate % [2017]</th>\n",
       "      <th>GDP Growth Rate % [2018]</th>\n",
       "      <th>GDP Growth Rate % [2019]</th>\n",
       "      <th>GDP Growth Rate % [2020]</th>\n",
       "      <th>GDP Growth Rate % [2021]</th>\n",
       "      <th>GDP Growth Rate % [2022]</th>\n",
       "      <th>GDP Growth Rate % [2023]</th>\n",
       "      <th>Unemployment Rate [2014]</th>\n",
       "      <th>Unemployment Rate [2015]</th>\n",
       "      <th>Unemployment Rate [2016]</th>\n",
       "      <th>Unemployment Rate [2017]</th>\n",
       "      <th>Unemployment Rate [2018]</th>\n",
       "      <th>Unemployment Rate [2019]</th>\n",
       "      <th>Unemployment Rate [2020]</th>\n",
       "      <th>Unemployment Rate [2021]</th>\n",
       "      <th>Unemployment Rate [2022]</th>\n",
       "      <th>Unemployment Rate [2023]</th>\n",
       "    </tr>\n",
       "  </thead>\n",
       "  <tbody>\n",
       "    <tr>\n",
       "      <th>0</th>\n",
       "      <td>AFGHANISTAN</td>\n",
       "      <td>AS</td>\n",
       "      <td>Female</td>\n",
       "      <td>15-24</td>\n",
       "      <td>Youth</td>\n",
       "      <td>2.7</td>\n",
       "      <td>1.0</td>\n",
       "      <td>2.2</td>\n",
       "      <td>2.6</td>\n",
       "      <td>1.2</td>\n",
       "      <td>3.9</td>\n",
       "      <td>-2.4</td>\n",
       "      <td>-14.5</td>\n",
       "      <td>-6.2</td>\n",
       "      <td>2.7</td>\n",
       "      <td>13.340</td>\n",
       "      <td>15.974</td>\n",
       "      <td>18.570</td>\n",
       "      <td>21.137</td>\n",
       "      <td>20.649</td>\n",
       "      <td>20.154</td>\n",
       "      <td>21.228</td>\n",
       "      <td>21.640</td>\n",
       "      <td>30.561</td>\n",
       "      <td>32.200</td>\n",
       "    </tr>\n",
       "    <tr>\n",
       "      <th>1</th>\n",
       "      <td>AFGHANISTAN</td>\n",
       "      <td>AS</td>\n",
       "      <td>Female</td>\n",
       "      <td>25+</td>\n",
       "      <td>Adults</td>\n",
       "      <td>2.7</td>\n",
       "      <td>1.0</td>\n",
       "      <td>2.2</td>\n",
       "      <td>2.6</td>\n",
       "      <td>1.2</td>\n",
       "      <td>3.9</td>\n",
       "      <td>-2.4</td>\n",
       "      <td>-14.5</td>\n",
       "      <td>-6.2</td>\n",
       "      <td>2.7</td>\n",
       "      <td>8.576</td>\n",
       "      <td>9.014</td>\n",
       "      <td>9.463</td>\n",
       "      <td>9.920</td>\n",
       "      <td>11.223</td>\n",
       "      <td>12.587</td>\n",
       "      <td>14.079</td>\n",
       "      <td>14.415</td>\n",
       "      <td>23.818</td>\n",
       "      <td>26.192</td>\n",
       "    </tr>\n",
       "    <tr>\n",
       "      <th>2</th>\n",
       "      <td>AFGHANISTAN</td>\n",
       "      <td>AS</td>\n",
       "      <td>Male</td>\n",
       "      <td>15-24</td>\n",
       "      <td>Youth</td>\n",
       "      <td>2.7</td>\n",
       "      <td>1.0</td>\n",
       "      <td>2.2</td>\n",
       "      <td>2.6</td>\n",
       "      <td>1.2</td>\n",
       "      <td>3.9</td>\n",
       "      <td>-2.4</td>\n",
       "      <td>-14.5</td>\n",
       "      <td>-6.2</td>\n",
       "      <td>2.7</td>\n",
       "      <td>9.206</td>\n",
       "      <td>11.502</td>\n",
       "      <td>13.772</td>\n",
       "      <td>16.027</td>\n",
       "      <td>15.199</td>\n",
       "      <td>14.361</td>\n",
       "      <td>14.452</td>\n",
       "      <td>15.099</td>\n",
       "      <td>16.655</td>\n",
       "      <td>18.512</td>\n",
       "    </tr>\n",
       "    <tr>\n",
       "      <th>3</th>\n",
       "      <td>AFGHANISTAN</td>\n",
       "      <td>AS</td>\n",
       "      <td>Male</td>\n",
       "      <td>25+</td>\n",
       "      <td>Adults</td>\n",
       "      <td>2.7</td>\n",
       "      <td>1.0</td>\n",
       "      <td>2.2</td>\n",
       "      <td>2.6</td>\n",
       "      <td>1.2</td>\n",
       "      <td>3.9</td>\n",
       "      <td>-2.4</td>\n",
       "      <td>-14.5</td>\n",
       "      <td>-6.2</td>\n",
       "      <td>2.7</td>\n",
       "      <td>6.463</td>\n",
       "      <td>6.879</td>\n",
       "      <td>7.301</td>\n",
       "      <td>7.728</td>\n",
       "      <td>7.833</td>\n",
       "      <td>7.961</td>\n",
       "      <td>8.732</td>\n",
       "      <td>9.199</td>\n",
       "      <td>11.357</td>\n",
       "      <td>12.327</td>\n",
       "    </tr>\n",
       "    <tr>\n",
       "      <th>4</th>\n",
       "      <td>ALBANIA</td>\n",
       "      <td>EU</td>\n",
       "      <td>Female</td>\n",
       "      <td>15-24</td>\n",
       "      <td>Youth</td>\n",
       "      <td>1.8</td>\n",
       "      <td>2.2</td>\n",
       "      <td>3.3</td>\n",
       "      <td>3.8</td>\n",
       "      <td>4.0</td>\n",
       "      <td>2.1</td>\n",
       "      <td>-3.3</td>\n",
       "      <td>8.9</td>\n",
       "      <td>4.9</td>\n",
       "      <td>3.5</td>\n",
       "      <td>32.590</td>\n",
       "      <td>40.274</td>\n",
       "      <td>34.102</td>\n",
       "      <td>27.429</td>\n",
       "      <td>25.765</td>\n",
       "      <td>26.005</td>\n",
       "      <td>29.766</td>\n",
       "      <td>28.687</td>\n",
       "      <td>27.004</td>\n",
       "      <td>25.758</td>\n",
       "    </tr>\n",
       "  </tbody>\n",
       "</table>\n",
       "</div>"
      ],
      "text/plain": [
       "       Country Continent     Sex Age_Group Age_Categories  \\\n",
       "0  AFGHANISTAN        AS  Female     15-24          Youth   \n",
       "1  AFGHANISTAN        AS  Female       25+         Adults   \n",
       "2  AFGHANISTAN        AS    Male     15-24          Youth   \n",
       "3  AFGHANISTAN        AS    Male       25+         Adults   \n",
       "4      ALBANIA        EU  Female     15-24          Youth   \n",
       "\n",
       "   GDP Growth Rate % [2014]  GDP Growth Rate % [2015]  \\\n",
       "0                       2.7                       1.0   \n",
       "1                       2.7                       1.0   \n",
       "2                       2.7                       1.0   \n",
       "3                       2.7                       1.0   \n",
       "4                       1.8                       2.2   \n",
       "\n",
       "   GDP Growth Rate % [2016]  GDP Growth Rate % [2017]  \\\n",
       "0                       2.2                       2.6   \n",
       "1                       2.2                       2.6   \n",
       "2                       2.2                       2.6   \n",
       "3                       2.2                       2.6   \n",
       "4                       3.3                       3.8   \n",
       "\n",
       "   GDP Growth Rate % [2018]  GDP Growth Rate % [2019]  \\\n",
       "0                       1.2                       3.9   \n",
       "1                       1.2                       3.9   \n",
       "2                       1.2                       3.9   \n",
       "3                       1.2                       3.9   \n",
       "4                       4.0                       2.1   \n",
       "\n",
       "   GDP Growth Rate % [2020]  GDP Growth Rate % [2021]  \\\n",
       "0                      -2.4                     -14.5   \n",
       "1                      -2.4                     -14.5   \n",
       "2                      -2.4                     -14.5   \n",
       "3                      -2.4                     -14.5   \n",
       "4                      -3.3                       8.9   \n",
       "\n",
       "   GDP Growth Rate % [2022]  GDP Growth Rate % [2023]  \\\n",
       "0                      -6.2                       2.7   \n",
       "1                      -6.2                       2.7   \n",
       "2                      -6.2                       2.7   \n",
       "3                      -6.2                       2.7   \n",
       "4                       4.9                       3.5   \n",
       "\n",
       "   Unemployment Rate [2014]  Unemployment Rate [2015]  \\\n",
       "0                    13.340                    15.974   \n",
       "1                     8.576                     9.014   \n",
       "2                     9.206                    11.502   \n",
       "3                     6.463                     6.879   \n",
       "4                    32.590                    40.274   \n",
       "\n",
       "   Unemployment Rate [2016]  Unemployment Rate [2017]  \\\n",
       "0                    18.570                    21.137   \n",
       "1                     9.463                     9.920   \n",
       "2                    13.772                    16.027   \n",
       "3                     7.301                     7.728   \n",
       "4                    34.102                    27.429   \n",
       "\n",
       "   Unemployment Rate [2018]  Unemployment Rate [2019]  \\\n",
       "0                    20.649                    20.154   \n",
       "1                    11.223                    12.587   \n",
       "2                    15.199                    14.361   \n",
       "3                     7.833                     7.961   \n",
       "4                    25.765                    26.005   \n",
       "\n",
       "   Unemployment Rate [2020]  Unemployment Rate [2021]  \\\n",
       "0                    21.228                    21.640   \n",
       "1                    14.079                    14.415   \n",
       "2                    14.452                    15.099   \n",
       "3                     8.732                     9.199   \n",
       "4                    29.766                    28.687   \n",
       "\n",
       "   Unemployment Rate [2022]  Unemployment Rate [2023]  \n",
       "0                    30.561                    32.200  \n",
       "1                    23.818                    26.192  \n",
       "2                    16.655                    18.512  \n",
       "3                    11.357                    12.327  \n",
       "4                    27.004                    25.758  "
      ]
     },
     "execution_count": 2,
     "metadata": {},
     "output_type": "execute_result"
    }
   ],
   "source": [
    "gdp_unemp.head()"
   ]
  },
  {
   "cell_type": "code",
   "execution_count": 3,
   "metadata": {},
   "outputs": [],
   "source": [
    "continents = gdp_unemp['Continent'].unique()\n",
    "years = list(range(2014, 2024))\n",
    "gdp_columns = [f'GDP Growth Rate % [{year}]' for year in years]\n",
    "unemployment_columns = [f'Unemployment Rate [{year}]' for year in years]"
   ]
  },
  {
   "cell_type": "code",
   "execution_count": 4,
   "metadata": {},
   "outputs": [],
   "source": [
    "# Manipulating data for Plotly, calculating average GDP growth rate and unemployment rate for each continent\n",
    "plotly_data = []\n",
    "for continent in continents:\n",
    "    continent_data = gdp_unemp[gdp_unemp['Continent'] == continent]\n",
    "    avg_gdp_growth = continent_data[gdp_columns].mean().values\n",
    "    avg_unemp_rate = continent_data[unemployment_columns].mean().values\n",
    "    for year, gdp, unemp in zip(years, avg_gdp_growth, avg_unemp_rate):\n",
    "        plotly_data.append({'Continent': continent,'Year': year, 'GDP': gdp,'Unemployment': unemp})"
   ]
  },
  {
   "cell_type": "code",
   "execution_count": 5,
   "metadata": {},
   "outputs": [
    {
     "data": {
      "text/html": [
       "<div>\n",
       "<style scoped>\n",
       "    .dataframe tbody tr th:only-of-type {\n",
       "        vertical-align: middle;\n",
       "    }\n",
       "\n",
       "    .dataframe tbody tr th {\n",
       "        vertical-align: top;\n",
       "    }\n",
       "\n",
       "    .dataframe thead th {\n",
       "        text-align: right;\n",
       "    }\n",
       "</style>\n",
       "<table border=\"1\" class=\"dataframe\">\n",
       "  <thead>\n",
       "    <tr style=\"text-align: right;\">\n",
       "      <th></th>\n",
       "      <th>Continent</th>\n",
       "      <th>Year</th>\n",
       "      <th>GDP</th>\n",
       "      <th>Unemployment</th>\n",
       "    </tr>\n",
       "  </thead>\n",
       "  <tbody>\n",
       "    <tr>\n",
       "      <th>0</th>\n",
       "      <td>AS</td>\n",
       "      <td>2014</td>\n",
       "      <td>4.156818</td>\n",
       "      <td>8.734489</td>\n",
       "    </tr>\n",
       "    <tr>\n",
       "      <th>1</th>\n",
       "      <td>AS</td>\n",
       "      <td>2015</td>\n",
       "      <td>2.561364</td>\n",
       "      <td>9.103773</td>\n",
       "    </tr>\n",
       "    <tr>\n",
       "      <th>2</th>\n",
       "      <td>AS</td>\n",
       "      <td>2016</td>\n",
       "      <td>3.895455</td>\n",
       "      <td>9.319727</td>\n",
       "    </tr>\n",
       "    <tr>\n",
       "      <th>3</th>\n",
       "      <td>AS</td>\n",
       "      <td>2017</td>\n",
       "      <td>3.802273</td>\n",
       "      <td>9.726511</td>\n",
       "    </tr>\n",
       "    <tr>\n",
       "      <th>4</th>\n",
       "      <td>AS</td>\n",
       "      <td>2018</td>\n",
       "      <td>3.904545</td>\n",
       "      <td>9.530352</td>\n",
       "    </tr>\n",
       "  </tbody>\n",
       "</table>\n",
       "</div>"
      ],
      "text/plain": [
       "  Continent  Year       GDP  Unemployment\n",
       "0        AS  2014  4.156818      8.734489\n",
       "1        AS  2015  2.561364      9.103773\n",
       "2        AS  2016  3.895455      9.319727\n",
       "3        AS  2017  3.802273      9.726511\n",
       "4        AS  2018  3.904545      9.530352"
      ]
     },
     "execution_count": 5,
     "metadata": {},
     "output_type": "execute_result"
    }
   ],
   "source": [
    "#Converting data to DataFrame\n",
    "plotlydf = pd.DataFrame(plotly_data)\n",
    "plotlydf.head()"
   ]
  },
  {
   "cell_type": "code",
   "execution_count": 6,
   "metadata": {},
   "outputs": [
    {
     "data": {
      "application/vnd.plotly.v1+json": {
       "config": {
        "plotlyServerURL": "https://plot.ly"
       },
       "data": [
        {
         "hovertemplate": "Continent=AS<br>Type=GDP<br>Year=%{x}<br>Rate (%)=%{y}<extra></extra>",
         "legendgroup": "AS, GDP",
         "line": {
          "color": "#636efa",
          "dash": "solid"
         },
         "marker": {
          "symbol": "circle"
         },
         "mode": "markers+lines",
         "name": "AS, GDP",
         "orientation": "v",
         "showlegend": true,
         "type": "scatter",
         "x": [
          2014,
          2015,
          2016,
          2017,
          2018,
          2019,
          2020,
          2021,
          2022,
          2023
         ],
         "xaxis": "x",
         "y": [
          4.156818181818181,
          2.5613636363636387,
          3.8954545454545464,
          3.802272727272725,
          3.9045454545454534,
          3.193181818181822,
          -5.190909090909094,
          4.547727272727277,
          4.095454545454545,
          4.809090909090903
         ],
         "yaxis": "y"
        },
        {
         "hovertemplate": "Continent=AS<br>Type=Unemployment<br>Year=%{x}<br>Rate (%)=%{y}<extra></extra>",
         "legendgroup": "AS, Unemployment",
         "line": {
          "color": "#636efa",
          "dash": "dot"
         },
         "marker": {
          "symbol": "circle"
         },
         "mode": "markers+lines",
         "name": "AS, Unemployment",
         "orientation": "v",
         "showlegend": true,
         "type": "scatter",
         "x": [
          2014,
          2015,
          2016,
          2017,
          2018,
          2019,
          2020,
          2021,
          2022,
          2023
         ],
         "xaxis": "x",
         "y": [
          8.734488636363638,
          9.103772727272728,
          9.319727272727269,
          9.726511363636368,
          9.530352272727272,
          9.158465909090909,
          10.524585227272729,
          10.059784090909087,
          9.41957954545455,
          9.301607954545453
         ],
         "yaxis": "y"
        },
        {
         "hovertemplate": "Continent=EU<br>Type=GDP<br>Year=%{x}<br>Rate (%)=%{y}<extra></extra>",
         "legendgroup": "EU, GDP",
         "line": {
          "color": "#EF553B",
          "dash": "solid"
         },
         "marker": {
          "symbol": "circle"
         },
         "mode": "markers+lines",
         "name": "EU, GDP",
         "orientation": "v",
         "showlegend": true,
         "type": "scatter",
         "x": [
          2014,
          2015,
          2016,
          2017,
          2018,
          2019,
          2020,
          2021,
          2022,
          2023
         ],
         "xaxis": "x",
         "y": [
          2.1684210526315795,
          3.171052631578946,
          2.5894736842105224,
          3.7263157894736865,
          3.3368421052631545,
          2.7973684210526337,
          -4.486842105263153,
          7.3500000000000005,
          3.481578947368418,
          1.2052631578947368
         ],
         "yaxis": "y"
        },
        {
         "hovertemplate": "Continent=EU<br>Type=Unemployment<br>Year=%{x}<br>Rate (%)=%{y}<extra></extra>",
         "legendgroup": "EU, Unemployment",
         "line": {
          "color": "#EF553B",
          "dash": "dot"
         },
         "marker": {
          "symbol": "circle"
         },
         "mode": "markers+lines",
         "name": "EU, Unemployment",
         "orientation": "v",
         "showlegend": true,
         "type": "scatter",
         "x": [
          2014,
          2015,
          2016,
          2017,
          2018,
          2019,
          2020,
          2021,
          2022,
          2023
         ],
         "xaxis": "x",
         "y": [
          17.565934210526315,
          16.39744736842105,
          14.928263157894733,
          13.294046052631582,
          11.837638157894736,
          10.882447368421053,
          12.539960526315797,
          12.334315789473688,
          10.810927631578945,
          10.383440789473685
         ],
         "yaxis": "y"
        },
        {
         "hovertemplate": "Continent=AF<br>Type=GDP<br>Year=%{x}<br>Rate (%)=%{y}<extra></extra>",
         "legendgroup": "AF, GDP",
         "line": {
          "color": "#00cc96",
          "dash": "solid"
         },
         "marker": {
          "symbol": "circle"
         },
         "mode": "markers+lines",
         "name": "AF, GDP",
         "orientation": "v",
         "showlegend": true,
         "type": "scatter",
         "x": [
          2014,
          2015,
          2016,
          2017,
          2018,
          2019,
          2020,
          2021,
          2022,
          2023
         ],
         "xaxis": "x",
         "y": [
          3.711538461538466,
          3.1269230769230725,
          2.4557692307692274,
          3.9999999999999982,
          3.6115384615384607,
          3.0115384615384597,
          -2.6211538461538457,
          5.098076923076926,
          4.003846153846151,
          3.650000000000003
         ],
         "yaxis": "y"
        },
        {
         "hovertemplate": "Continent=AF<br>Type=Unemployment<br>Year=%{x}<br>Rate (%)=%{y}<extra></extra>",
         "legendgroup": "AF, Unemployment",
         "line": {
          "color": "#00cc96",
          "dash": "dot"
         },
         "marker": {
          "symbol": "circle"
         },
         "mode": "markers+lines",
         "name": "AF, Unemployment",
         "orientation": "v",
         "showlegend": true,
         "type": "scatter",
         "x": [
          2014,
          2015,
          2016,
          2017,
          2018,
          2019,
          2020,
          2021,
          2022,
          2023
         ],
         "xaxis": "x",
         "y": [
          12.935764423076922,
          13.125610576923073,
          13.16134615384616,
          13.272346153846156,
          13.115365384615385,
          13.261225961538464,
          14.501451923076917,
          14.450432692307686,
          13.553163461538457,
          13.39398076923078
         ],
         "yaxis": "y"
        },
        {
         "hovertemplate": "Continent=SAM<br>Type=GDP<br>Year=%{x}<br>Rate (%)=%{y}<extra></extra>",
         "legendgroup": "SAM, GDP",
         "line": {
          "color": "#ab63fa",
          "dash": "solid"
         },
         "marker": {
          "symbol": "circle"
         },
         "mode": "markers+lines",
         "name": "SAM, GDP",
         "orientation": "v",
         "showlegend": true,
         "type": "scatter",
         "x": [
          2014,
          2015,
          2016,
          2017,
          2018,
          2019,
          2020,
          2021,
          2022,
          2023
         ],
         "xaxis": "x",
         "y": [
          1.916666666666667,
          0.6,
          -0.4999999999999997,
          1.3083333333333325,
          0.6666666666666673,
          -1.083333333333333,
          -5.499999999999997,
          7.908333333333338,
          8.983333333333329,
          4.266666666666667
         ],
         "yaxis": "y"
        },
        {
         "hovertemplate": "Continent=SAM<br>Type=Unemployment<br>Year=%{x}<br>Rate (%)=%{y}<extra></extra>",
         "legendgroup": "SAM, Unemployment",
         "line": {
          "color": "#ab63fa",
          "dash": "dot"
         },
         "marker": {
          "symbol": "circle"
         },
         "mode": "markers+lines",
         "name": "SAM, Unemployment",
         "orientation": "v",
         "showlegend": true,
         "type": "scatter",
         "x": [
          2014,
          2015,
          2016,
          2017,
          2018,
          2019,
          2020,
          2021,
          2022,
          2023
         ],
         "xaxis": "x",
         "y": [
          10.133479166666666,
          10.354708333333333,
          11.604145833333334,
          11.998770833333333,
          12.152125,
          12.4990625,
          15.975708333333332,
          13.994020833333332,
          11.637624999999998,
          11.21977083333333
         ],
         "yaxis": "y"
        },
        {
         "hovertemplate": "Continent=OC<br>Type=GDP<br>Year=%{x}<br>Rate (%)=%{y}<extra></extra>",
         "legendgroup": "OC, GDP",
         "line": {
          "color": "#FFA15A",
          "dash": "solid"
         },
         "marker": {
          "symbol": "circle"
         },
         "mode": "markers+lines",
         "name": "OC, GDP",
         "orientation": "v",
         "showlegend": true,
         "type": "scatter",
         "x": [
          2014,
          2015,
          2016,
          2017,
          2018,
          2019,
          2020,
          2021,
          2022,
          2023
         ],
         "xaxis": "x",
         "y": [
          4.050000000000001,
          3.0500000000000016,
          4.949999999999998,
          3.599999999999999,
          1.9625000000000004,
          2.2500000000000004,
          -4.237500000000002,
          -0.2500000000000001,
          3.7875000000000028,
          3.5374999999999996
         ],
         "yaxis": "y"
        },
        {
         "hovertemplate": "Continent=OC<br>Type=Unemployment<br>Year=%{x}<br>Rate (%)=%{y}<extra></extra>",
         "legendgroup": "OC, Unemployment",
         "line": {
          "color": "#FFA15A",
          "dash": "dot"
         },
         "marker": {
          "symbol": "circle"
         },
         "mode": "markers+lines",
         "name": "OC, Unemployment",
         "orientation": "v",
         "showlegend": true,
         "type": "scatter",
         "x": [
          2014,
          2015,
          2016,
          2017,
          2018,
          2019,
          2020,
          2021,
          2022,
          2023
         ],
         "xaxis": "x",
         "y": [
          6.69540625,
          6.818749999999999,
          6.87778125,
          6.986843749999998,
          6.926249999999999,
          6.912625000000001,
          7.509093749999999,
          7.0631562500000005,
          6.760062499999999,
          6.6806874999999994
         ],
         "yaxis": "y"
        },
        {
         "hovertemplate": "Continent=AS/EU<br>Type=GDP<br>Year=%{x}<br>Rate (%)=%{y}<extra></extra>",
         "legendgroup": "AS/EU, GDP",
         "line": {
          "color": "#19d3f3",
          "dash": "solid"
         },
         "marker": {
          "symbol": "circle"
         },
         "mode": "markers+lines",
         "name": "AS/EU, GDP",
         "orientation": "v",
         "showlegend": true,
         "type": "scatter",
         "x": [
          2014,
          2015,
          2016,
          2017,
          2018,
          2019,
          2020,
          2021,
          2022,
          2023
         ],
         "xaxis": "x",
         "y": [
          3.1249999999999996,
          2.1500000000000004,
          0.95,
          3.675,
          3.349999999999999,
          2.725,
          -2.825000000000001,
          8.375000000000002,
          4.999999999999999,
          4.325
         ],
         "yaxis": "y"
        },
        {
         "hovertemplate": "Continent=AS/EU<br>Type=Unemployment<br>Year=%{x}<br>Rate (%)=%{y}<extra></extra>",
         "legendgroup": "AS/EU, Unemployment",
         "line": {
          "color": "#19d3f3",
          "dash": "dot"
         },
         "marker": {
          "symbol": "circle"
         },
         "mode": "markers+lines",
         "name": "AS/EU, Unemployment",
         "orientation": "v",
         "showlegend": true,
         "type": "scatter",
         "x": [
          2014,
          2015,
          2016,
          2017,
          2018,
          2019,
          2020,
          2021,
          2022,
          2023
         ],
         "xaxis": "x",
         "y": [
          14.230187500000001,
          14.665562500000002,
          14.64175,
          13.780812500000001,
          13.583812499999997,
          14.0609375,
          15.141999999999998,
          14.360312500000001,
          13.3453125,
          12.790187499999998
         ],
         "yaxis": "y"
        },
        {
         "hovertemplate": "Continent=NAM<br>Type=GDP<br>Year=%{x}<br>Rate (%)=%{y}<extra></extra>",
         "legendgroup": "NAM, GDP",
         "line": {
          "color": "#FF6692",
          "dash": "solid"
         },
         "marker": {
          "symbol": "circle"
         },
         "mode": "markers+lines",
         "name": "NAM, GDP",
         "orientation": "v",
         "showlegend": true,
         "type": "scatter",
         "x": [
          2014,
          2015,
          2016,
          2017,
          2018,
          2019,
          2020,
          2021,
          2022,
          2023
         ],
         "xaxis": "x",
         "y": [
          2.684210526315791,
          2.38421052631579,
          1.9684210526315793,
          2.005263157894736,
          1.8052631578947373,
          1.363157894736841,
          -8.957894736842103,
          7.636842105263163,
          6.089473684210529,
          2.921052631578947
         ],
         "yaxis": "y"
        },
        {
         "hovertemplate": "Continent=NAM<br>Type=Unemployment<br>Year=%{x}<br>Rate (%)=%{y}<extra></extra>",
         "legendgroup": "NAM, Unemployment",
         "line": {
          "color": "#FF6692",
          "dash": "dot"
         },
         "marker": {
          "symbol": "circle"
         },
         "mode": "markers+lines",
         "name": "NAM, Unemployment",
         "orientation": "v",
         "showlegend": true,
         "type": "scatter",
         "x": [
          2014,
          2015,
          2016,
          2017,
          2018,
          2019,
          2020,
          2021,
          2022,
          2023
         ],
         "xaxis": "x",
         "y": [
          13.830881578947368,
          13.156342105263155,
          13.026921052631579,
          12.288763157894735,
          12.266657894736847,
          12.410171052631584,
          15.844592105263159,
          14.47201315789473,
          12.439828947368419,
          11.961644736842102
         ],
         "yaxis": "y"
        }
       ],
       "layout": {
        "legend": {
         "title": {
          "text": "Continent and Type"
         },
         "tracegroupgap": 0
        },
        "template": {
         "data": {
          "bar": [
           {
            "error_x": {
             "color": "#f2f5fa"
            },
            "error_y": {
             "color": "#f2f5fa"
            },
            "marker": {
             "line": {
              "color": "rgb(17,17,17)",
              "width": 0.5
             },
             "pattern": {
              "fillmode": "overlay",
              "size": 10,
              "solidity": 0.2
             }
            },
            "type": "bar"
           }
          ],
          "barpolar": [
           {
            "marker": {
             "line": {
              "color": "rgb(17,17,17)",
              "width": 0.5
             },
             "pattern": {
              "fillmode": "overlay",
              "size": 10,
              "solidity": 0.2
             }
            },
            "type": "barpolar"
           }
          ],
          "carpet": [
           {
            "aaxis": {
             "endlinecolor": "#A2B1C6",
             "gridcolor": "#506784",
             "linecolor": "#506784",
             "minorgridcolor": "#506784",
             "startlinecolor": "#A2B1C6"
            },
            "baxis": {
             "endlinecolor": "#A2B1C6",
             "gridcolor": "#506784",
             "linecolor": "#506784",
             "minorgridcolor": "#506784",
             "startlinecolor": "#A2B1C6"
            },
            "type": "carpet"
           }
          ],
          "choropleth": [
           {
            "colorbar": {
             "outlinewidth": 0,
             "ticks": ""
            },
            "type": "choropleth"
           }
          ],
          "contour": [
           {
            "colorbar": {
             "outlinewidth": 0,
             "ticks": ""
            },
            "colorscale": [
             [
              0,
              "#0d0887"
             ],
             [
              0.1111111111111111,
              "#46039f"
             ],
             [
              0.2222222222222222,
              "#7201a8"
             ],
             [
              0.3333333333333333,
              "#9c179e"
             ],
             [
              0.4444444444444444,
              "#bd3786"
             ],
             [
              0.5555555555555556,
              "#d8576b"
             ],
             [
              0.6666666666666666,
              "#ed7953"
             ],
             [
              0.7777777777777778,
              "#fb9f3a"
             ],
             [
              0.8888888888888888,
              "#fdca26"
             ],
             [
              1,
              "#f0f921"
             ]
            ],
            "type": "contour"
           }
          ],
          "contourcarpet": [
           {
            "colorbar": {
             "outlinewidth": 0,
             "ticks": ""
            },
            "type": "contourcarpet"
           }
          ],
          "heatmap": [
           {
            "colorbar": {
             "outlinewidth": 0,
             "ticks": ""
            },
            "colorscale": [
             [
              0,
              "#0d0887"
             ],
             [
              0.1111111111111111,
              "#46039f"
             ],
             [
              0.2222222222222222,
              "#7201a8"
             ],
             [
              0.3333333333333333,
              "#9c179e"
             ],
             [
              0.4444444444444444,
              "#bd3786"
             ],
             [
              0.5555555555555556,
              "#d8576b"
             ],
             [
              0.6666666666666666,
              "#ed7953"
             ],
             [
              0.7777777777777778,
              "#fb9f3a"
             ],
             [
              0.8888888888888888,
              "#fdca26"
             ],
             [
              1,
              "#f0f921"
             ]
            ],
            "type": "heatmap"
           }
          ],
          "heatmapgl": [
           {
            "colorbar": {
             "outlinewidth": 0,
             "ticks": ""
            },
            "colorscale": [
             [
              0,
              "#0d0887"
             ],
             [
              0.1111111111111111,
              "#46039f"
             ],
             [
              0.2222222222222222,
              "#7201a8"
             ],
             [
              0.3333333333333333,
              "#9c179e"
             ],
             [
              0.4444444444444444,
              "#bd3786"
             ],
             [
              0.5555555555555556,
              "#d8576b"
             ],
             [
              0.6666666666666666,
              "#ed7953"
             ],
             [
              0.7777777777777778,
              "#fb9f3a"
             ],
             [
              0.8888888888888888,
              "#fdca26"
             ],
             [
              1,
              "#f0f921"
             ]
            ],
            "type": "heatmapgl"
           }
          ],
          "histogram": [
           {
            "marker": {
             "pattern": {
              "fillmode": "overlay",
              "size": 10,
              "solidity": 0.2
             }
            },
            "type": "histogram"
           }
          ],
          "histogram2d": [
           {
            "colorbar": {
             "outlinewidth": 0,
             "ticks": ""
            },
            "colorscale": [
             [
              0,
              "#0d0887"
             ],
             [
              0.1111111111111111,
              "#46039f"
             ],
             [
              0.2222222222222222,
              "#7201a8"
             ],
             [
              0.3333333333333333,
              "#9c179e"
             ],
             [
              0.4444444444444444,
              "#bd3786"
             ],
             [
              0.5555555555555556,
              "#d8576b"
             ],
             [
              0.6666666666666666,
              "#ed7953"
             ],
             [
              0.7777777777777778,
              "#fb9f3a"
             ],
             [
              0.8888888888888888,
              "#fdca26"
             ],
             [
              1,
              "#f0f921"
             ]
            ],
            "type": "histogram2d"
           }
          ],
          "histogram2dcontour": [
           {
            "colorbar": {
             "outlinewidth": 0,
             "ticks": ""
            },
            "colorscale": [
             [
              0,
              "#0d0887"
             ],
             [
              0.1111111111111111,
              "#46039f"
             ],
             [
              0.2222222222222222,
              "#7201a8"
             ],
             [
              0.3333333333333333,
              "#9c179e"
             ],
             [
              0.4444444444444444,
              "#bd3786"
             ],
             [
              0.5555555555555556,
              "#d8576b"
             ],
             [
              0.6666666666666666,
              "#ed7953"
             ],
             [
              0.7777777777777778,
              "#fb9f3a"
             ],
             [
              0.8888888888888888,
              "#fdca26"
             ],
             [
              1,
              "#f0f921"
             ]
            ],
            "type": "histogram2dcontour"
           }
          ],
          "mesh3d": [
           {
            "colorbar": {
             "outlinewidth": 0,
             "ticks": ""
            },
            "type": "mesh3d"
           }
          ],
          "parcoords": [
           {
            "line": {
             "colorbar": {
              "outlinewidth": 0,
              "ticks": ""
             }
            },
            "type": "parcoords"
           }
          ],
          "pie": [
           {
            "automargin": true,
            "type": "pie"
           }
          ],
          "scatter": [
           {
            "marker": {
             "line": {
              "color": "#283442"
             }
            },
            "type": "scatter"
           }
          ],
          "scatter3d": [
           {
            "line": {
             "colorbar": {
              "outlinewidth": 0,
              "ticks": ""
             }
            },
            "marker": {
             "colorbar": {
              "outlinewidth": 0,
              "ticks": ""
             }
            },
            "type": "scatter3d"
           }
          ],
          "scattercarpet": [
           {
            "marker": {
             "colorbar": {
              "outlinewidth": 0,
              "ticks": ""
             }
            },
            "type": "scattercarpet"
           }
          ],
          "scattergeo": [
           {
            "marker": {
             "colorbar": {
              "outlinewidth": 0,
              "ticks": ""
             }
            },
            "type": "scattergeo"
           }
          ],
          "scattergl": [
           {
            "marker": {
             "line": {
              "color": "#283442"
             }
            },
            "type": "scattergl"
           }
          ],
          "scattermapbox": [
           {
            "marker": {
             "colorbar": {
              "outlinewidth": 0,
              "ticks": ""
             }
            },
            "type": "scattermapbox"
           }
          ],
          "scatterpolar": [
           {
            "marker": {
             "colorbar": {
              "outlinewidth": 0,
              "ticks": ""
             }
            },
            "type": "scatterpolar"
           }
          ],
          "scatterpolargl": [
           {
            "marker": {
             "colorbar": {
              "outlinewidth": 0,
              "ticks": ""
             }
            },
            "type": "scatterpolargl"
           }
          ],
          "scatterternary": [
           {
            "marker": {
             "colorbar": {
              "outlinewidth": 0,
              "ticks": ""
             }
            },
            "type": "scatterternary"
           }
          ],
          "surface": [
           {
            "colorbar": {
             "outlinewidth": 0,
             "ticks": ""
            },
            "colorscale": [
             [
              0,
              "#0d0887"
             ],
             [
              0.1111111111111111,
              "#46039f"
             ],
             [
              0.2222222222222222,
              "#7201a8"
             ],
             [
              0.3333333333333333,
              "#9c179e"
             ],
             [
              0.4444444444444444,
              "#bd3786"
             ],
             [
              0.5555555555555556,
              "#d8576b"
             ],
             [
              0.6666666666666666,
              "#ed7953"
             ],
             [
              0.7777777777777778,
              "#fb9f3a"
             ],
             [
              0.8888888888888888,
              "#fdca26"
             ],
             [
              1,
              "#f0f921"
             ]
            ],
            "type": "surface"
           }
          ],
          "table": [
           {
            "cells": {
             "fill": {
              "color": "#506784"
             },
             "line": {
              "color": "rgb(17,17,17)"
             }
            },
            "header": {
             "fill": {
              "color": "#2a3f5f"
             },
             "line": {
              "color": "rgb(17,17,17)"
             }
            },
            "type": "table"
           }
          ]
         },
         "layout": {
          "annotationdefaults": {
           "arrowcolor": "#f2f5fa",
           "arrowhead": 0,
           "arrowwidth": 1
          },
          "autotypenumbers": "strict",
          "coloraxis": {
           "colorbar": {
            "outlinewidth": 0,
            "ticks": ""
           }
          },
          "colorscale": {
           "diverging": [
            [
             0,
             "#8e0152"
            ],
            [
             0.1,
             "#c51b7d"
            ],
            [
             0.2,
             "#de77ae"
            ],
            [
             0.3,
             "#f1b6da"
            ],
            [
             0.4,
             "#fde0ef"
            ],
            [
             0.5,
             "#f7f7f7"
            ],
            [
             0.6,
             "#e6f5d0"
            ],
            [
             0.7,
             "#b8e186"
            ],
            [
             0.8,
             "#7fbc41"
            ],
            [
             0.9,
             "#4d9221"
            ],
            [
             1,
             "#276419"
            ]
           ],
           "sequential": [
            [
             0,
             "#0d0887"
            ],
            [
             0.1111111111111111,
             "#46039f"
            ],
            [
             0.2222222222222222,
             "#7201a8"
            ],
            [
             0.3333333333333333,
             "#9c179e"
            ],
            [
             0.4444444444444444,
             "#bd3786"
            ],
            [
             0.5555555555555556,
             "#d8576b"
            ],
            [
             0.6666666666666666,
             "#ed7953"
            ],
            [
             0.7777777777777778,
             "#fb9f3a"
            ],
            [
             0.8888888888888888,
             "#fdca26"
            ],
            [
             1,
             "#f0f921"
            ]
           ],
           "sequentialminus": [
            [
             0,
             "#0d0887"
            ],
            [
             0.1111111111111111,
             "#46039f"
            ],
            [
             0.2222222222222222,
             "#7201a8"
            ],
            [
             0.3333333333333333,
             "#9c179e"
            ],
            [
             0.4444444444444444,
             "#bd3786"
            ],
            [
             0.5555555555555556,
             "#d8576b"
            ],
            [
             0.6666666666666666,
             "#ed7953"
            ],
            [
             0.7777777777777778,
             "#fb9f3a"
            ],
            [
             0.8888888888888888,
             "#fdca26"
            ],
            [
             1,
             "#f0f921"
            ]
           ]
          },
          "colorway": [
           "#636efa",
           "#EF553B",
           "#00cc96",
           "#ab63fa",
           "#FFA15A",
           "#19d3f3",
           "#FF6692",
           "#B6E880",
           "#FF97FF",
           "#FECB52"
          ],
          "font": {
           "color": "#f2f5fa"
          },
          "geo": {
           "bgcolor": "rgb(17,17,17)",
           "lakecolor": "rgb(17,17,17)",
           "landcolor": "rgb(17,17,17)",
           "showlakes": true,
           "showland": true,
           "subunitcolor": "#506784"
          },
          "hoverlabel": {
           "align": "left"
          },
          "hovermode": "closest",
          "mapbox": {
           "style": "dark"
          },
          "paper_bgcolor": "rgb(17,17,17)",
          "plot_bgcolor": "rgb(17,17,17)",
          "polar": {
           "angularaxis": {
            "gridcolor": "#506784",
            "linecolor": "#506784",
            "ticks": ""
           },
           "bgcolor": "rgb(17,17,17)",
           "radialaxis": {
            "gridcolor": "#506784",
            "linecolor": "#506784",
            "ticks": ""
           }
          },
          "scene": {
           "xaxis": {
            "backgroundcolor": "rgb(17,17,17)",
            "gridcolor": "#506784",
            "gridwidth": 2,
            "linecolor": "#506784",
            "showbackground": true,
            "ticks": "",
            "zerolinecolor": "#C8D4E3"
           },
           "yaxis": {
            "backgroundcolor": "rgb(17,17,17)",
            "gridcolor": "#506784",
            "gridwidth": 2,
            "linecolor": "#506784",
            "showbackground": true,
            "ticks": "",
            "zerolinecolor": "#C8D4E3"
           },
           "zaxis": {
            "backgroundcolor": "rgb(17,17,17)",
            "gridcolor": "#506784",
            "gridwidth": 2,
            "linecolor": "#506784",
            "showbackground": true,
            "ticks": "",
            "zerolinecolor": "#C8D4E3"
           }
          },
          "shapedefaults": {
           "line": {
            "color": "#f2f5fa"
           }
          },
          "sliderdefaults": {
           "bgcolor": "#C8D4E3",
           "bordercolor": "rgb(17,17,17)",
           "borderwidth": 1,
           "tickwidth": 0
          },
          "ternary": {
           "aaxis": {
            "gridcolor": "#506784",
            "linecolor": "#506784",
            "ticks": ""
           },
           "baxis": {
            "gridcolor": "#506784",
            "linecolor": "#506784",
            "ticks": ""
           },
           "bgcolor": "rgb(17,17,17)",
           "caxis": {
            "gridcolor": "#506784",
            "linecolor": "#506784",
            "ticks": ""
           }
          },
          "title": {
           "x": 0.05
          },
          "updatemenudefaults": {
           "bgcolor": "#506784",
           "borderwidth": 0
          },
          "xaxis": {
           "automargin": true,
           "gridcolor": "#283442",
           "linecolor": "#506784",
           "ticks": "",
           "title": {
            "standoff": 15
           },
           "zerolinecolor": "#283442",
           "zerolinewidth": 2
          },
          "yaxis": {
           "automargin": true,
           "gridcolor": "#283442",
           "linecolor": "#506784",
           "ticks": "",
           "title": {
            "standoff": 15
           },
           "zerolinecolor": "#283442",
           "zerolinewidth": 2
          }
         }
        },
        "title": {
         "text": "GDP Growth Rate and Unemployment Rate by Continent"
        },
        "xaxis": {
         "anchor": "y",
         "domain": [
          0,
          1
         ],
         "title": {
          "text": "Year"
         }
        },
        "yaxis": {
         "anchor": "x",
         "domain": [
          0,
          1
         ],
         "title": {
          "text": "Rate (%)"
         }
        }
       }
      }
     },
     "metadata": {},
     "output_type": "display_data"
    }
   ],
   "source": [
    "#Creating a line plot which shows the changes of GDP Growth Rate \n",
    "# and Unemployment Rate by Continent\n",
    "plotly_express_data = pd.melt(\n",
    "    plotlydf,\n",
    "    id_vars=['Continent', 'Year'],\n",
    "    value_vars=['GDP', 'Unemployment'],\n",
    "    var_name='Metric',\n",
    "    value_name='Rate'\n",
    ")\n",
    "\n",
    "fig = px.line(\n",
    "    plotly_express_data,\n",
    "    x='Year',\n",
    "    y='Rate',\n",
    "    color='Continent',\n",
    "    line_dash='Metric', \n",
    "    title=\"GDP Growth Rate and Unemployment Rate by Continent\",\n",
    "    labels={'Rate': 'Rate (%)', 'Metric': 'Type'},\n",
    "    markers=True\n",
    ")\n",
    "\n",
    "fig.update_layout(\n",
    "    xaxis_title=\"Year\",\n",
    "    yaxis_title=\"Rate (%)\",\n",
    "    legend_title=\"Continent and Type\",\n",
    "    template=\"plotly_dark\"\n",
    ")\n",
    "\n",
    "fig.show()"
   ]
  },
  {
   "cell_type": "markdown",
   "metadata": {},
   "source": [
    "# Correlation analysis between GDP Growth Rate and Unemployment Rate"
   ]
  },
  {
   "cell_type": "code",
   "execution_count": 7,
   "metadata": {},
   "outputs": [
    {
     "name": "stdout",
     "output_type": "stream",
     "text": [
      "-0.13989592085320676\n",
      "Continent\n",
      "AF      -0.306366\n",
      "AS      -0.243687\n",
      "AS/EU    0.535456\n",
      "EU      -0.048725\n",
      "NAM     -0.097996\n",
      "OC      -0.239831\n",
      "SAM      0.155221\n",
      "dtype: float64\n"
     ]
    }
   ],
   "source": [
    "#add new columns to the dataframe for the average GDP growth rate and unemployment rate\n",
    "gdp_unemp['GDP Growth Avg'] = gdp_unemp[gdp_columns].mean(axis=1)\n",
    "gdp_unemp['Unemployment Avg'] = gdp_unemp[unemployment_columns].mean(axis=1)\n",
    "\n",
    "#Calculating the correlation between GDP Growth Rate and Unemployment Rate of all countries\n",
    "overall_corr = gdp_unemp[['GDP Growth Avg', 'Unemployment Avg']].corr().iloc[0, 1]\n",
    "\n",
    "#Calculating the correlation between GDP Growth Rate and Unemployment Rate by Continent\n",
    "continent_corr = gdp_unemp.groupby('Continent', group_keys=False).apply(\n",
    "    lambda group: group[['GDP Growth Avg', 'Unemployment Avg']].corr().iloc[0, 1]\n",
    ")\n",
    "\n",
    "print(overall_corr)\n",
    "print(continent_corr)"
   ]
  },
  {
   "cell_type": "code",
   "execution_count": 8,
   "metadata": {},
   "outputs": [
    {
     "data": {
      "application/vnd.plotly.v1+json": {
       "config": {
        "plotlyServerURL": "https://plot.ly"
       },
       "data": [
        {
         "alignmentgroup": "True",
         "hovertemplate": "Continent=%{x}<br>Correlation=%{y}<extra></extra>",
         "legendgroup": "",
         "marker": {
          "color": "#636efa",
          "pattern": {
           "shape": ""
          }
         },
         "name": "",
         "offsetgroup": "",
         "orientation": "v",
         "showlegend": false,
         "textposition": "auto",
         "type": "bar",
         "x": [
          "AF",
          "AS",
          "AS/EU",
          "EU",
          "NAM",
          "OC",
          "SAM"
         ],
         "xaxis": "x",
         "y": [
          -0.3063657174068147,
          -0.24368663633080695,
          0.535455678382029,
          -0.04872490815737785,
          -0.09799575438417003,
          -0.2398309053929208,
          0.1552207906913754
         ],
         "yaxis": "y"
        }
       ],
       "layout": {
        "barmode": "relative",
        "legend": {
         "tracegroupgap": 0
        },
        "template": {
         "data": {
          "bar": [
           {
            "error_x": {
             "color": "#f2f5fa"
            },
            "error_y": {
             "color": "#f2f5fa"
            },
            "marker": {
             "line": {
              "color": "rgb(17,17,17)",
              "width": 0.5
             },
             "pattern": {
              "fillmode": "overlay",
              "size": 10,
              "solidity": 0.2
             }
            },
            "type": "bar"
           }
          ],
          "barpolar": [
           {
            "marker": {
             "line": {
              "color": "rgb(17,17,17)",
              "width": 0.5
             },
             "pattern": {
              "fillmode": "overlay",
              "size": 10,
              "solidity": 0.2
             }
            },
            "type": "barpolar"
           }
          ],
          "carpet": [
           {
            "aaxis": {
             "endlinecolor": "#A2B1C6",
             "gridcolor": "#506784",
             "linecolor": "#506784",
             "minorgridcolor": "#506784",
             "startlinecolor": "#A2B1C6"
            },
            "baxis": {
             "endlinecolor": "#A2B1C6",
             "gridcolor": "#506784",
             "linecolor": "#506784",
             "minorgridcolor": "#506784",
             "startlinecolor": "#A2B1C6"
            },
            "type": "carpet"
           }
          ],
          "choropleth": [
           {
            "colorbar": {
             "outlinewidth": 0,
             "ticks": ""
            },
            "type": "choropleth"
           }
          ],
          "contour": [
           {
            "colorbar": {
             "outlinewidth": 0,
             "ticks": ""
            },
            "colorscale": [
             [
              0,
              "#0d0887"
             ],
             [
              0.1111111111111111,
              "#46039f"
             ],
             [
              0.2222222222222222,
              "#7201a8"
             ],
             [
              0.3333333333333333,
              "#9c179e"
             ],
             [
              0.4444444444444444,
              "#bd3786"
             ],
             [
              0.5555555555555556,
              "#d8576b"
             ],
             [
              0.6666666666666666,
              "#ed7953"
             ],
             [
              0.7777777777777778,
              "#fb9f3a"
             ],
             [
              0.8888888888888888,
              "#fdca26"
             ],
             [
              1,
              "#f0f921"
             ]
            ],
            "type": "contour"
           }
          ],
          "contourcarpet": [
           {
            "colorbar": {
             "outlinewidth": 0,
             "ticks": ""
            },
            "type": "contourcarpet"
           }
          ],
          "heatmap": [
           {
            "colorbar": {
             "outlinewidth": 0,
             "ticks": ""
            },
            "colorscale": [
             [
              0,
              "#0d0887"
             ],
             [
              0.1111111111111111,
              "#46039f"
             ],
             [
              0.2222222222222222,
              "#7201a8"
             ],
             [
              0.3333333333333333,
              "#9c179e"
             ],
             [
              0.4444444444444444,
              "#bd3786"
             ],
             [
              0.5555555555555556,
              "#d8576b"
             ],
             [
              0.6666666666666666,
              "#ed7953"
             ],
             [
              0.7777777777777778,
              "#fb9f3a"
             ],
             [
              0.8888888888888888,
              "#fdca26"
             ],
             [
              1,
              "#f0f921"
             ]
            ],
            "type": "heatmap"
           }
          ],
          "heatmapgl": [
           {
            "colorbar": {
             "outlinewidth": 0,
             "ticks": ""
            },
            "colorscale": [
             [
              0,
              "#0d0887"
             ],
             [
              0.1111111111111111,
              "#46039f"
             ],
             [
              0.2222222222222222,
              "#7201a8"
             ],
             [
              0.3333333333333333,
              "#9c179e"
             ],
             [
              0.4444444444444444,
              "#bd3786"
             ],
             [
              0.5555555555555556,
              "#d8576b"
             ],
             [
              0.6666666666666666,
              "#ed7953"
             ],
             [
              0.7777777777777778,
              "#fb9f3a"
             ],
             [
              0.8888888888888888,
              "#fdca26"
             ],
             [
              1,
              "#f0f921"
             ]
            ],
            "type": "heatmapgl"
           }
          ],
          "histogram": [
           {
            "marker": {
             "pattern": {
              "fillmode": "overlay",
              "size": 10,
              "solidity": 0.2
             }
            },
            "type": "histogram"
           }
          ],
          "histogram2d": [
           {
            "colorbar": {
             "outlinewidth": 0,
             "ticks": ""
            },
            "colorscale": [
             [
              0,
              "#0d0887"
             ],
             [
              0.1111111111111111,
              "#46039f"
             ],
             [
              0.2222222222222222,
              "#7201a8"
             ],
             [
              0.3333333333333333,
              "#9c179e"
             ],
             [
              0.4444444444444444,
              "#bd3786"
             ],
             [
              0.5555555555555556,
              "#d8576b"
             ],
             [
              0.6666666666666666,
              "#ed7953"
             ],
             [
              0.7777777777777778,
              "#fb9f3a"
             ],
             [
              0.8888888888888888,
              "#fdca26"
             ],
             [
              1,
              "#f0f921"
             ]
            ],
            "type": "histogram2d"
           }
          ],
          "histogram2dcontour": [
           {
            "colorbar": {
             "outlinewidth": 0,
             "ticks": ""
            },
            "colorscale": [
             [
              0,
              "#0d0887"
             ],
             [
              0.1111111111111111,
              "#46039f"
             ],
             [
              0.2222222222222222,
              "#7201a8"
             ],
             [
              0.3333333333333333,
              "#9c179e"
             ],
             [
              0.4444444444444444,
              "#bd3786"
             ],
             [
              0.5555555555555556,
              "#d8576b"
             ],
             [
              0.6666666666666666,
              "#ed7953"
             ],
             [
              0.7777777777777778,
              "#fb9f3a"
             ],
             [
              0.8888888888888888,
              "#fdca26"
             ],
             [
              1,
              "#f0f921"
             ]
            ],
            "type": "histogram2dcontour"
           }
          ],
          "mesh3d": [
           {
            "colorbar": {
             "outlinewidth": 0,
             "ticks": ""
            },
            "type": "mesh3d"
           }
          ],
          "parcoords": [
           {
            "line": {
             "colorbar": {
              "outlinewidth": 0,
              "ticks": ""
             }
            },
            "type": "parcoords"
           }
          ],
          "pie": [
           {
            "automargin": true,
            "type": "pie"
           }
          ],
          "scatter": [
           {
            "marker": {
             "line": {
              "color": "#283442"
             }
            },
            "type": "scatter"
           }
          ],
          "scatter3d": [
           {
            "line": {
             "colorbar": {
              "outlinewidth": 0,
              "ticks": ""
             }
            },
            "marker": {
             "colorbar": {
              "outlinewidth": 0,
              "ticks": ""
             }
            },
            "type": "scatter3d"
           }
          ],
          "scattercarpet": [
           {
            "marker": {
             "colorbar": {
              "outlinewidth": 0,
              "ticks": ""
             }
            },
            "type": "scattercarpet"
           }
          ],
          "scattergeo": [
           {
            "marker": {
             "colorbar": {
              "outlinewidth": 0,
              "ticks": ""
             }
            },
            "type": "scattergeo"
           }
          ],
          "scattergl": [
           {
            "marker": {
             "line": {
              "color": "#283442"
             }
            },
            "type": "scattergl"
           }
          ],
          "scattermapbox": [
           {
            "marker": {
             "colorbar": {
              "outlinewidth": 0,
              "ticks": ""
             }
            },
            "type": "scattermapbox"
           }
          ],
          "scatterpolar": [
           {
            "marker": {
             "colorbar": {
              "outlinewidth": 0,
              "ticks": ""
             }
            },
            "type": "scatterpolar"
           }
          ],
          "scatterpolargl": [
           {
            "marker": {
             "colorbar": {
              "outlinewidth": 0,
              "ticks": ""
             }
            },
            "type": "scatterpolargl"
           }
          ],
          "scatterternary": [
           {
            "marker": {
             "colorbar": {
              "outlinewidth": 0,
              "ticks": ""
             }
            },
            "type": "scatterternary"
           }
          ],
          "surface": [
           {
            "colorbar": {
             "outlinewidth": 0,
             "ticks": ""
            },
            "colorscale": [
             [
              0,
              "#0d0887"
             ],
             [
              0.1111111111111111,
              "#46039f"
             ],
             [
              0.2222222222222222,
              "#7201a8"
             ],
             [
              0.3333333333333333,
              "#9c179e"
             ],
             [
              0.4444444444444444,
              "#bd3786"
             ],
             [
              0.5555555555555556,
              "#d8576b"
             ],
             [
              0.6666666666666666,
              "#ed7953"
             ],
             [
              0.7777777777777778,
              "#fb9f3a"
             ],
             [
              0.8888888888888888,
              "#fdca26"
             ],
             [
              1,
              "#f0f921"
             ]
            ],
            "type": "surface"
           }
          ],
          "table": [
           {
            "cells": {
             "fill": {
              "color": "#506784"
             },
             "line": {
              "color": "rgb(17,17,17)"
             }
            },
            "header": {
             "fill": {
              "color": "#2a3f5f"
             },
             "line": {
              "color": "rgb(17,17,17)"
             }
            },
            "type": "table"
           }
          ]
         },
         "layout": {
          "annotationdefaults": {
           "arrowcolor": "#f2f5fa",
           "arrowhead": 0,
           "arrowwidth": 1
          },
          "autotypenumbers": "strict",
          "coloraxis": {
           "colorbar": {
            "outlinewidth": 0,
            "ticks": ""
           }
          },
          "colorscale": {
           "diverging": [
            [
             0,
             "#8e0152"
            ],
            [
             0.1,
             "#c51b7d"
            ],
            [
             0.2,
             "#de77ae"
            ],
            [
             0.3,
             "#f1b6da"
            ],
            [
             0.4,
             "#fde0ef"
            ],
            [
             0.5,
             "#f7f7f7"
            ],
            [
             0.6,
             "#e6f5d0"
            ],
            [
             0.7,
             "#b8e186"
            ],
            [
             0.8,
             "#7fbc41"
            ],
            [
             0.9,
             "#4d9221"
            ],
            [
             1,
             "#276419"
            ]
           ],
           "sequential": [
            [
             0,
             "#0d0887"
            ],
            [
             0.1111111111111111,
             "#46039f"
            ],
            [
             0.2222222222222222,
             "#7201a8"
            ],
            [
             0.3333333333333333,
             "#9c179e"
            ],
            [
             0.4444444444444444,
             "#bd3786"
            ],
            [
             0.5555555555555556,
             "#d8576b"
            ],
            [
             0.6666666666666666,
             "#ed7953"
            ],
            [
             0.7777777777777778,
             "#fb9f3a"
            ],
            [
             0.8888888888888888,
             "#fdca26"
            ],
            [
             1,
             "#f0f921"
            ]
           ],
           "sequentialminus": [
            [
             0,
             "#0d0887"
            ],
            [
             0.1111111111111111,
             "#46039f"
            ],
            [
             0.2222222222222222,
             "#7201a8"
            ],
            [
             0.3333333333333333,
             "#9c179e"
            ],
            [
             0.4444444444444444,
             "#bd3786"
            ],
            [
             0.5555555555555556,
             "#d8576b"
            ],
            [
             0.6666666666666666,
             "#ed7953"
            ],
            [
             0.7777777777777778,
             "#fb9f3a"
            ],
            [
             0.8888888888888888,
             "#fdca26"
            ],
            [
             1,
             "#f0f921"
            ]
           ]
          },
          "colorway": [
           "#636efa",
           "#EF553B",
           "#00cc96",
           "#ab63fa",
           "#FFA15A",
           "#19d3f3",
           "#FF6692",
           "#B6E880",
           "#FF97FF",
           "#FECB52"
          ],
          "font": {
           "color": "#f2f5fa"
          },
          "geo": {
           "bgcolor": "rgb(17,17,17)",
           "lakecolor": "rgb(17,17,17)",
           "landcolor": "rgb(17,17,17)",
           "showlakes": true,
           "showland": true,
           "subunitcolor": "#506784"
          },
          "hoverlabel": {
           "align": "left"
          },
          "hovermode": "closest",
          "mapbox": {
           "style": "dark"
          },
          "paper_bgcolor": "rgb(17,17,17)",
          "plot_bgcolor": "rgb(17,17,17)",
          "polar": {
           "angularaxis": {
            "gridcolor": "#506784",
            "linecolor": "#506784",
            "ticks": ""
           },
           "bgcolor": "rgb(17,17,17)",
           "radialaxis": {
            "gridcolor": "#506784",
            "linecolor": "#506784",
            "ticks": ""
           }
          },
          "scene": {
           "xaxis": {
            "backgroundcolor": "rgb(17,17,17)",
            "gridcolor": "#506784",
            "gridwidth": 2,
            "linecolor": "#506784",
            "showbackground": true,
            "ticks": "",
            "zerolinecolor": "#C8D4E3"
           },
           "yaxis": {
            "backgroundcolor": "rgb(17,17,17)",
            "gridcolor": "#506784",
            "gridwidth": 2,
            "linecolor": "#506784",
            "showbackground": true,
            "ticks": "",
            "zerolinecolor": "#C8D4E3"
           },
           "zaxis": {
            "backgroundcolor": "rgb(17,17,17)",
            "gridcolor": "#506784",
            "gridwidth": 2,
            "linecolor": "#506784",
            "showbackground": true,
            "ticks": "",
            "zerolinecolor": "#C8D4E3"
           }
          },
          "shapedefaults": {
           "line": {
            "color": "#f2f5fa"
           }
          },
          "sliderdefaults": {
           "bgcolor": "#C8D4E3",
           "bordercolor": "rgb(17,17,17)",
           "borderwidth": 1,
           "tickwidth": 0
          },
          "ternary": {
           "aaxis": {
            "gridcolor": "#506784",
            "linecolor": "#506784",
            "ticks": ""
           },
           "baxis": {
            "gridcolor": "#506784",
            "linecolor": "#506784",
            "ticks": ""
           },
           "bgcolor": "rgb(17,17,17)",
           "caxis": {
            "gridcolor": "#506784",
            "linecolor": "#506784",
            "ticks": ""
           }
          },
          "title": {
           "x": 0.05
          },
          "updatemenudefaults": {
           "bgcolor": "#506784",
           "borderwidth": 0
          },
          "xaxis": {
           "automargin": true,
           "gridcolor": "#283442",
           "linecolor": "#506784",
           "ticks": "",
           "title": {
            "standoff": 15
           },
           "zerolinecolor": "#283442",
           "zerolinewidth": 2
          },
          "yaxis": {
           "automargin": true,
           "gridcolor": "#283442",
           "linecolor": "#506784",
           "ticks": "",
           "title": {
            "standoff": 15
           },
           "zerolinecolor": "#283442",
           "zerolinewidth": 2
          }
         }
        },
        "title": {
         "text": "Correlation between GDP Growth Rate and Unemployment Rate by Continent"
        },
        "xaxis": {
         "anchor": "y",
         "domain": [
          0,
          1
         ],
         "title": {
          "text": "Continent"
         }
        },
        "yaxis": {
         "anchor": "x",
         "domain": [
          0,
          1
         ],
         "title": {
          "text": "Correlation"
         }
        }
       }
      }
     },
     "metadata": {},
     "output_type": "display_data"
    }
   ],
   "source": [
    "# creating bar plot for the correlation between GDP Growth Rate \n",
    "# and Unemployment Rate by Continent\n",
    "px.bar(continent_corr, x = continent_corr.index, y = continent_corr.values, title = 'Correlation between GDP Growth Rate and Unemployment Rate by Continent', labels = {'x': 'Continent', 'y': 'Correlation'}, template = 'plotly_dark').show()"
   ]
  }
 ],
 "metadata": {
  "kernelspec": {
   "display_name": "base",
   "language": "python",
   "name": "python3"
  },
  "language_info": {
   "codemirror_mode": {
    "name": "ipython",
    "version": 3
   },
   "file_extension": ".py",
   "mimetype": "text/x-python",
   "name": "python",
   "nbconvert_exporter": "python",
   "pygments_lexer": "ipython3",
   "version": "3.8.8"
  }
 },
 "nbformat": 4,
 "nbformat_minor": 2
}
