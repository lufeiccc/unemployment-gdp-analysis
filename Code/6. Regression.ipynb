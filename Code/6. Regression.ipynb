{
 "cells": [
  {
   "cell_type": "markdown",
   "metadata": {},
   "source": [
    "## Panel Regression\n",
    "### Author: kselvapa"
   ]
  },
  {
   "cell_type": "markdown",
   "metadata": {},
   "source": [
    "#### Conclusion\n",
    "The analysis suggests that the unemployment rate is a weak predictor of GDP growth across different regions, with minimal variation in R-squared values, indicating that other factors likely drive economic performance. Analysing R-Squared (Between), in regions like North America and Oceania, the model's performance is worse than a simple mean model, potentially due to the lack of substantial variation in economic conditions or similar economic structures within these regions. Europe, with its diverse economies, shows a more balanced result, where the model neither significantly explains nor fails to explain the variance between countries. The F-statistic further highlights that regions like North America and Africa have stronger model fits, implying that the unemployment rate may have a more notable impact on GDP in these areas, while regions like Oceania and South America show weaker relationships. This suggests that regional economic characteristics and other underlying factors influence the relationship between unemployment and GDP growth that has to be accounted for to improve the model's explanatory power, as evidenced by the varying model fits and statistical significance observed in different regions."
   ]
  },
  {
   "cell_type": "code",
   "execution_count": 60,
   "metadata": {},
   "outputs": [
    {
     "data": {
      "text/html": [
       "<div>\n",
       "<style scoped>\n",
       "    .dataframe tbody tr th:only-of-type {\n",
       "        vertical-align: middle;\n",
       "    }\n",
       "\n",
       "    .dataframe tbody tr th {\n",
       "        vertical-align: top;\n",
       "    }\n",
       "\n",
       "    .dataframe thead th {\n",
       "        text-align: right;\n",
       "    }\n",
       "</style>\n",
       "<table border=\"1\" class=\"dataframe\">\n",
       "  <thead>\n",
       "    <tr style=\"text-align: right;\">\n",
       "      <th></th>\n",
       "      <th>Country</th>\n",
       "      <th>Continent</th>\n",
       "      <th>Sex</th>\n",
       "      <th>Age_Group</th>\n",
       "      <th>Age_Categories</th>\n",
       "      <th>GDP Growth Rate % [2014]</th>\n",
       "      <th>GDP Growth Rate % [2015]</th>\n",
       "      <th>GDP Growth Rate % [2016]</th>\n",
       "      <th>GDP Growth Rate % [2017]</th>\n",
       "      <th>GDP Growth Rate % [2018]</th>\n",
       "      <th>GDP Growth Rate % [2019]</th>\n",
       "      <th>GDP Growth Rate % [2020]</th>\n",
       "      <th>GDP Growth Rate % [2021]</th>\n",
       "      <th>GDP Growth Rate % [2022]</th>\n",
       "      <th>GDP Growth Rate % [2023]</th>\n",
       "      <th>Unemployment Rate [2014]</th>\n",
       "      <th>Unemployment Rate [2015]</th>\n",
       "      <th>Unemployment Rate [2016]</th>\n",
       "      <th>Unemployment Rate [2017]</th>\n",
       "      <th>Unemployment Rate [2018]</th>\n",
       "      <th>Unemployment Rate [2019]</th>\n",
       "      <th>Unemployment Rate [2020]</th>\n",
       "      <th>Unemployment Rate [2021]</th>\n",
       "      <th>Unemployment Rate [2022]</th>\n",
       "      <th>Unemployment Rate [2023]</th>\n",
       "    </tr>\n",
       "  </thead>\n",
       "  <tbody>\n",
       "    <tr>\n",
       "      <th>0</th>\n",
       "      <td>AFGHANISTAN</td>\n",
       "      <td>AS</td>\n",
       "      <td>Female</td>\n",
       "      <td>15-24</td>\n",
       "      <td>Youth</td>\n",
       "      <td>2.7</td>\n",
       "      <td>1.0</td>\n",
       "      <td>2.2</td>\n",
       "      <td>2.6</td>\n",
       "      <td>1.2</td>\n",
       "      <td>3.9</td>\n",
       "      <td>-2.4</td>\n",
       "      <td>-14.5</td>\n",
       "      <td>-6.2</td>\n",
       "      <td>2.7</td>\n",
       "      <td>13.340</td>\n",
       "      <td>15.974</td>\n",
       "      <td>18.570</td>\n",
       "      <td>21.137</td>\n",
       "      <td>20.649</td>\n",
       "      <td>20.154</td>\n",
       "      <td>21.228</td>\n",
       "      <td>21.640</td>\n",
       "      <td>30.561</td>\n",
       "      <td>32.200</td>\n",
       "    </tr>\n",
       "    <tr>\n",
       "      <th>1</th>\n",
       "      <td>AFGHANISTAN</td>\n",
       "      <td>AS</td>\n",
       "      <td>Female</td>\n",
       "      <td>25+</td>\n",
       "      <td>Adults</td>\n",
       "      <td>2.7</td>\n",
       "      <td>1.0</td>\n",
       "      <td>2.2</td>\n",
       "      <td>2.6</td>\n",
       "      <td>1.2</td>\n",
       "      <td>3.9</td>\n",
       "      <td>-2.4</td>\n",
       "      <td>-14.5</td>\n",
       "      <td>-6.2</td>\n",
       "      <td>2.7</td>\n",
       "      <td>8.576</td>\n",
       "      <td>9.014</td>\n",
       "      <td>9.463</td>\n",
       "      <td>9.920</td>\n",
       "      <td>11.223</td>\n",
       "      <td>12.587</td>\n",
       "      <td>14.079</td>\n",
       "      <td>14.415</td>\n",
       "      <td>23.818</td>\n",
       "      <td>26.192</td>\n",
       "    </tr>\n",
       "    <tr>\n",
       "      <th>2</th>\n",
       "      <td>AFGHANISTAN</td>\n",
       "      <td>AS</td>\n",
       "      <td>Male</td>\n",
       "      <td>15-24</td>\n",
       "      <td>Youth</td>\n",
       "      <td>2.7</td>\n",
       "      <td>1.0</td>\n",
       "      <td>2.2</td>\n",
       "      <td>2.6</td>\n",
       "      <td>1.2</td>\n",
       "      <td>3.9</td>\n",
       "      <td>-2.4</td>\n",
       "      <td>-14.5</td>\n",
       "      <td>-6.2</td>\n",
       "      <td>2.7</td>\n",
       "      <td>9.206</td>\n",
       "      <td>11.502</td>\n",
       "      <td>13.772</td>\n",
       "      <td>16.027</td>\n",
       "      <td>15.199</td>\n",
       "      <td>14.361</td>\n",
       "      <td>14.452</td>\n",
       "      <td>15.099</td>\n",
       "      <td>16.655</td>\n",
       "      <td>18.512</td>\n",
       "    </tr>\n",
       "    <tr>\n",
       "      <th>3</th>\n",
       "      <td>AFGHANISTAN</td>\n",
       "      <td>AS</td>\n",
       "      <td>Male</td>\n",
       "      <td>25+</td>\n",
       "      <td>Adults</td>\n",
       "      <td>2.7</td>\n",
       "      <td>1.0</td>\n",
       "      <td>2.2</td>\n",
       "      <td>2.6</td>\n",
       "      <td>1.2</td>\n",
       "      <td>3.9</td>\n",
       "      <td>-2.4</td>\n",
       "      <td>-14.5</td>\n",
       "      <td>-6.2</td>\n",
       "      <td>2.7</td>\n",
       "      <td>6.463</td>\n",
       "      <td>6.879</td>\n",
       "      <td>7.301</td>\n",
       "      <td>7.728</td>\n",
       "      <td>7.833</td>\n",
       "      <td>7.961</td>\n",
       "      <td>8.732</td>\n",
       "      <td>9.199</td>\n",
       "      <td>11.357</td>\n",
       "      <td>12.327</td>\n",
       "    </tr>\n",
       "    <tr>\n",
       "      <th>4</th>\n",
       "      <td>ALBANIA</td>\n",
       "      <td>EU</td>\n",
       "      <td>Female</td>\n",
       "      <td>15-24</td>\n",
       "      <td>Youth</td>\n",
       "      <td>1.8</td>\n",
       "      <td>2.2</td>\n",
       "      <td>3.3</td>\n",
       "      <td>3.8</td>\n",
       "      <td>4.0</td>\n",
       "      <td>2.1</td>\n",
       "      <td>-3.3</td>\n",
       "      <td>8.9</td>\n",
       "      <td>4.9</td>\n",
       "      <td>3.5</td>\n",
       "      <td>32.590</td>\n",
       "      <td>40.274</td>\n",
       "      <td>34.102</td>\n",
       "      <td>27.429</td>\n",
       "      <td>25.765</td>\n",
       "      <td>26.005</td>\n",
       "      <td>29.766</td>\n",
       "      <td>28.687</td>\n",
       "      <td>27.004</td>\n",
       "      <td>25.758</td>\n",
       "    </tr>\n",
       "  </tbody>\n",
       "</table>\n",
       "</div>"
      ],
      "text/plain": [
       "       Country Continent     Sex Age_Group Age_Categories  \\\n",
       "0  AFGHANISTAN        AS  Female     15-24          Youth   \n",
       "1  AFGHANISTAN        AS  Female       25+         Adults   \n",
       "2  AFGHANISTAN        AS    Male     15-24          Youth   \n",
       "3  AFGHANISTAN        AS    Male       25+         Adults   \n",
       "4      ALBANIA        EU  Female     15-24          Youth   \n",
       "\n",
       "   GDP Growth Rate % [2014]  GDP Growth Rate % [2015]  \\\n",
       "0                       2.7                       1.0   \n",
       "1                       2.7                       1.0   \n",
       "2                       2.7                       1.0   \n",
       "3                       2.7                       1.0   \n",
       "4                       1.8                       2.2   \n",
       "\n",
       "   GDP Growth Rate % [2016]  GDP Growth Rate % [2017]  \\\n",
       "0                       2.2                       2.6   \n",
       "1                       2.2                       2.6   \n",
       "2                       2.2                       2.6   \n",
       "3                       2.2                       2.6   \n",
       "4                       3.3                       3.8   \n",
       "\n",
       "   GDP Growth Rate % [2018]  GDP Growth Rate % [2019]  \\\n",
       "0                       1.2                       3.9   \n",
       "1                       1.2                       3.9   \n",
       "2                       1.2                       3.9   \n",
       "3                       1.2                       3.9   \n",
       "4                       4.0                       2.1   \n",
       "\n",
       "   GDP Growth Rate % [2020]  GDP Growth Rate % [2021]  \\\n",
       "0                      -2.4                     -14.5   \n",
       "1                      -2.4                     -14.5   \n",
       "2                      -2.4                     -14.5   \n",
       "3                      -2.4                     -14.5   \n",
       "4                      -3.3                       8.9   \n",
       "\n",
       "   GDP Growth Rate % [2022]  GDP Growth Rate % [2023]  \\\n",
       "0                      -6.2                       2.7   \n",
       "1                      -6.2                       2.7   \n",
       "2                      -6.2                       2.7   \n",
       "3                      -6.2                       2.7   \n",
       "4                       4.9                       3.5   \n",
       "\n",
       "   Unemployment Rate [2014]  Unemployment Rate [2015]  \\\n",
       "0                    13.340                    15.974   \n",
       "1                     8.576                     9.014   \n",
       "2                     9.206                    11.502   \n",
       "3                     6.463                     6.879   \n",
       "4                    32.590                    40.274   \n",
       "\n",
       "   Unemployment Rate [2016]  Unemployment Rate [2017]  \\\n",
       "0                    18.570                    21.137   \n",
       "1                     9.463                     9.920   \n",
       "2                    13.772                    16.027   \n",
       "3                     7.301                     7.728   \n",
       "4                    34.102                    27.429   \n",
       "\n",
       "   Unemployment Rate [2018]  Unemployment Rate [2019]  \\\n",
       "0                    20.649                    20.154   \n",
       "1                    11.223                    12.587   \n",
       "2                    15.199                    14.361   \n",
       "3                     7.833                     7.961   \n",
       "4                    25.765                    26.005   \n",
       "\n",
       "   Unemployment Rate [2020]  Unemployment Rate [2021]  \\\n",
       "0                    21.228                    21.640   \n",
       "1                    14.079                    14.415   \n",
       "2                    14.452                    15.099   \n",
       "3                     8.732                     9.199   \n",
       "4                    29.766                    28.687   \n",
       "\n",
       "   Unemployment Rate [2022]  Unemployment Rate [2023]  \n",
       "0                    30.561                    32.200  \n",
       "1                    23.818                    26.192  \n",
       "2                    16.655                    18.512  \n",
       "3                    11.357                    12.327  \n",
       "4                    27.004                    25.758  "
      ]
     },
     "execution_count": 60,
     "metadata": {},
     "output_type": "execute_result"
    }
   ],
   "source": [
    "import pandas as pd\n",
    "import statsmodels.api as sm\n",
    "from linearmodels.panel import PanelOLS, RandomEffects\n",
    "from linearmodels.panel import compare\n",
    "import numpy as np\n",
    "from scipy import stats\n",
    "import plotly.express as px\n",
    "import seaborn as sns\n",
    "import matplotlib.pyplot as plt\n",
    "pd.set_option('display.max_columns', None)\n",
    "\n",
    "gdp_unemp = pd.read_csv('../Data/gdp_unemp_final.csv')\n",
    "gdp_unemp.head()"
   ]
  },
  {
   "cell_type": "code",
   "execution_count": 61,
   "metadata": {},
   "outputs": [
    {
     "data": {
      "text/plain": [
       "array(['AS', 'EU', 'AF', 'SAM', 'OC', 'AS/EU', 'NAM'], dtype=object)"
      ]
     },
     "execution_count": 61,
     "metadata": {},
     "output_type": "execute_result"
    }
   ],
   "source": [
    "gdp_unemp['Continent'].unique()"
   ]
  },
  {
   "cell_type": "code",
   "execution_count": 62,
   "metadata": {},
   "outputs": [
    {
     "data": {
      "text/html": [
       "<div>\n",
       "<style scoped>\n",
       "    .dataframe tbody tr th:only-of-type {\n",
       "        vertical-align: middle;\n",
       "    }\n",
       "\n",
       "    .dataframe tbody tr th {\n",
       "        vertical-align: top;\n",
       "    }\n",
       "\n",
       "    .dataframe thead th {\n",
       "        text-align: right;\n",
       "    }\n",
       "</style>\n",
       "<table border=\"1\" class=\"dataframe\">\n",
       "  <thead>\n",
       "    <tr style=\"text-align: right;\">\n",
       "      <th></th>\n",
       "      <th>Country</th>\n",
       "      <th>GDP Growth Rate % [2014]</th>\n",
       "      <th>GDP Growth Rate % [2015]</th>\n",
       "      <th>GDP Growth Rate % [2016]</th>\n",
       "      <th>GDP Growth Rate % [2017]</th>\n",
       "      <th>GDP Growth Rate % [2018]</th>\n",
       "      <th>GDP Growth Rate % [2019]</th>\n",
       "      <th>GDP Growth Rate % [2020]</th>\n",
       "      <th>GDP Growth Rate % [2021]</th>\n",
       "      <th>GDP Growth Rate % [2022]</th>\n",
       "      <th>GDP Growth Rate % [2023]</th>\n",
       "      <th>Unemployment Rate [2014]</th>\n",
       "      <th>Unemployment Rate [2015]</th>\n",
       "      <th>Unemployment Rate [2016]</th>\n",
       "      <th>Unemployment Rate [2017]</th>\n",
       "      <th>Unemployment Rate [2018]</th>\n",
       "      <th>Unemployment Rate [2019]</th>\n",
       "      <th>Unemployment Rate [2020]</th>\n",
       "      <th>Unemployment Rate [2021]</th>\n",
       "      <th>Unemployment Rate [2022]</th>\n",
       "      <th>Unemployment Rate [2023]</th>\n",
       "    </tr>\n",
       "  </thead>\n",
       "  <tbody>\n",
       "    <tr>\n",
       "      <th>0</th>\n",
       "      <td>AFGHANISTAN</td>\n",
       "      <td>2.7</td>\n",
       "      <td>1.0</td>\n",
       "      <td>2.2</td>\n",
       "      <td>2.6</td>\n",
       "      <td>1.2</td>\n",
       "      <td>3.9</td>\n",
       "      <td>-2.4</td>\n",
       "      <td>-14.5</td>\n",
       "      <td>-6.2</td>\n",
       "      <td>2.7</td>\n",
       "      <td>9.39625</td>\n",
       "      <td>10.84225</td>\n",
       "      <td>12.27650</td>\n",
       "      <td>13.70300</td>\n",
       "      <td>13.72600</td>\n",
       "      <td>13.76575</td>\n",
       "      <td>14.62275</td>\n",
       "      <td>15.08825</td>\n",
       "      <td>20.59775</td>\n",
       "      <td>22.30775</td>\n",
       "    </tr>\n",
       "    <tr>\n",
       "      <th>1</th>\n",
       "      <td>ALBANIA</td>\n",
       "      <td>1.8</td>\n",
       "      <td>2.2</td>\n",
       "      <td>3.3</td>\n",
       "      <td>3.8</td>\n",
       "      <td>4.0</td>\n",
       "      <td>2.1</td>\n",
       "      <td>-3.3</td>\n",
       "      <td>8.9</td>\n",
       "      <td>4.9</td>\n",
       "      <td>3.5</td>\n",
       "      <td>26.51550</td>\n",
       "      <td>27.07275</td>\n",
       "      <td>24.29625</td>\n",
       "      <td>21.07475</td>\n",
       "      <td>19.04600</td>\n",
       "      <td>18.26250</td>\n",
       "      <td>20.69025</td>\n",
       "      <td>20.12650</td>\n",
       "      <td>18.99000</td>\n",
       "      <td>18.15625</td>\n",
       "    </tr>\n",
       "    <tr>\n",
       "      <th>2</th>\n",
       "      <td>ALGERIA</td>\n",
       "      <td>4.1</td>\n",
       "      <td>3.2</td>\n",
       "      <td>3.9</td>\n",
       "      <td>1.5</td>\n",
       "      <td>1.4</td>\n",
       "      <td>0.9</td>\n",
       "      <td>-5.0</td>\n",
       "      <td>3.8</td>\n",
       "      <td>3.6</td>\n",
       "      <td>4.1</td>\n",
       "      <td>20.07875</td>\n",
       "      <td>22.77475</td>\n",
       "      <td>21.74250</td>\n",
       "      <td>24.38900</td>\n",
       "      <td>24.75850</td>\n",
       "      <td>25.07025</td>\n",
       "      <td>28.48025</td>\n",
       "      <td>27.43150</td>\n",
       "      <td>25.79900</td>\n",
       "      <td>25.35050</td>\n",
       "    </tr>\n",
       "    <tr>\n",
       "      <th>3</th>\n",
       "      <td>ANGOLA</td>\n",
       "      <td>4.7</td>\n",
       "      <td>0.8</td>\n",
       "      <td>-1.7</td>\n",
       "      <td>-0.1</td>\n",
       "      <td>-0.6</td>\n",
       "      <td>-0.2</td>\n",
       "      <td>-4.0</td>\n",
       "      <td>2.1</td>\n",
       "      <td>4.2</td>\n",
       "      <td>1.0</td>\n",
       "      <td>22.54875</td>\n",
       "      <td>22.49700</td>\n",
       "      <td>22.42900</td>\n",
       "      <td>22.25800</td>\n",
       "      <td>21.98375</td>\n",
       "      <td>21.56400</td>\n",
       "      <td>21.98850</td>\n",
       "      <td>20.55575</td>\n",
       "      <td>19.05525</td>\n",
       "      <td>18.73725</td>\n",
       "    </tr>\n",
       "    <tr>\n",
       "      <th>4</th>\n",
       "      <td>ARGENTINA</td>\n",
       "      <td>-2.5</td>\n",
       "      <td>2.7</td>\n",
       "      <td>-2.1</td>\n",
       "      <td>2.8</td>\n",
       "      <td>-2.6</td>\n",
       "      <td>-2.0</td>\n",
       "      <td>-9.9</td>\n",
       "      <td>10.4</td>\n",
       "      <td>5.3</td>\n",
       "      <td>-1.6</td>\n",
       "      <td>12.57825</td>\n",
       "      <td>13.26225</td>\n",
       "      <td>14.21925</td>\n",
       "      <td>14.84425</td>\n",
       "      <td>15.75250</td>\n",
       "      <td>16.87075</td>\n",
       "      <td>20.02625</td>\n",
       "      <td>15.32050</td>\n",
       "      <td>12.25650</td>\n",
       "      <td>12.13175</td>\n",
       "    </tr>\n",
       "  </tbody>\n",
       "</table>\n",
       "</div>"
      ],
      "text/plain": [
       "       Country  GDP Growth Rate % [2014]  GDP Growth Rate % [2015]  \\\n",
       "0  AFGHANISTAN                       2.7                       1.0   \n",
       "1      ALBANIA                       1.8                       2.2   \n",
       "2      ALGERIA                       4.1                       3.2   \n",
       "3       ANGOLA                       4.7                       0.8   \n",
       "4    ARGENTINA                      -2.5                       2.7   \n",
       "\n",
       "   GDP Growth Rate % [2016]  GDP Growth Rate % [2017]  \\\n",
       "0                       2.2                       2.6   \n",
       "1                       3.3                       3.8   \n",
       "2                       3.9                       1.5   \n",
       "3                      -1.7                      -0.1   \n",
       "4                      -2.1                       2.8   \n",
       "\n",
       "   GDP Growth Rate % [2018]  GDP Growth Rate % [2019]  \\\n",
       "0                       1.2                       3.9   \n",
       "1                       4.0                       2.1   \n",
       "2                       1.4                       0.9   \n",
       "3                      -0.6                      -0.2   \n",
       "4                      -2.6                      -2.0   \n",
       "\n",
       "   GDP Growth Rate % [2020]  GDP Growth Rate % [2021]  \\\n",
       "0                      -2.4                     -14.5   \n",
       "1                      -3.3                       8.9   \n",
       "2                      -5.0                       3.8   \n",
       "3                      -4.0                       2.1   \n",
       "4                      -9.9                      10.4   \n",
       "\n",
       "   GDP Growth Rate % [2022]  GDP Growth Rate % [2023]  \\\n",
       "0                      -6.2                       2.7   \n",
       "1                       4.9                       3.5   \n",
       "2                       3.6                       4.1   \n",
       "3                       4.2                       1.0   \n",
       "4                       5.3                      -1.6   \n",
       "\n",
       "   Unemployment Rate [2014]  Unemployment Rate [2015]  \\\n",
       "0                   9.39625                  10.84225   \n",
       "1                  26.51550                  27.07275   \n",
       "2                  20.07875                  22.77475   \n",
       "3                  22.54875                  22.49700   \n",
       "4                  12.57825                  13.26225   \n",
       "\n",
       "   Unemployment Rate [2016]  Unemployment Rate [2017]  \\\n",
       "0                  12.27650                  13.70300   \n",
       "1                  24.29625                  21.07475   \n",
       "2                  21.74250                  24.38900   \n",
       "3                  22.42900                  22.25800   \n",
       "4                  14.21925                  14.84425   \n",
       "\n",
       "   Unemployment Rate [2018]  Unemployment Rate [2019]  \\\n",
       "0                  13.72600                  13.76575   \n",
       "1                  19.04600                  18.26250   \n",
       "2                  24.75850                  25.07025   \n",
       "3                  21.98375                  21.56400   \n",
       "4                  15.75250                  16.87075   \n",
       "\n",
       "   Unemployment Rate [2020]  Unemployment Rate [2021]  \\\n",
       "0                  14.62275                  15.08825   \n",
       "1                  20.69025                  20.12650   \n",
       "2                  28.48025                  27.43150   \n",
       "3                  21.98850                  20.55575   \n",
       "4                  20.02625                  15.32050   \n",
       "\n",
       "   Unemployment Rate [2022]  Unemployment Rate [2023]  \n",
       "0                  20.59775                  22.30775  \n",
       "1                  18.99000                  18.15625  \n",
       "2                  25.79900                  25.35050  \n",
       "3                  19.05525                  18.73725  \n",
       "4                  12.25650                  12.13175  "
      ]
     },
     "execution_count": 62,
     "metadata": {},
     "output_type": "execute_result"
    }
   ],
   "source": [
    "# Aggregate the mean by 'Country' and reset the index\n",
    "gdp_unemp_agg_reset = (\n",
    "    gdp_unemp\n",
    "    .groupby('Country', as_index=False)\n",
    "    .mean(numeric_only=True)  # Calculate the mean for numeric columns only\n",
    ")\n",
    "# Display the first few rows\n",
    "gdp_unemp_agg_reset.head()"
   ]
  },
  {
   "cell_type": "markdown",
   "metadata": {},
   "source": [
    "#### Reshaping Data"
   ]
  },
  {
   "cell_type": "code",
   "execution_count": 63,
   "metadata": {},
   "outputs": [
    {
     "data": {
      "text/html": [
       "<div>\n",
       "<style scoped>\n",
       "    .dataframe tbody tr th:only-of-type {\n",
       "        vertical-align: middle;\n",
       "    }\n",
       "\n",
       "    .dataframe tbody tr th {\n",
       "        vertical-align: top;\n",
       "    }\n",
       "\n",
       "    .dataframe thead th {\n",
       "        text-align: right;\n",
       "    }\n",
       "</style>\n",
       "<table border=\"1\" class=\"dataframe\">\n",
       "  <thead>\n",
       "    <tr style=\"text-align: right;\">\n",
       "      <th></th>\n",
       "      <th>Country</th>\n",
       "      <th>Year</th>\n",
       "      <th>GDP Growth Rate</th>\n",
       "      <th>Unemployment Rate</th>\n",
       "    </tr>\n",
       "  </thead>\n",
       "  <tbody>\n",
       "    <tr>\n",
       "      <th>0</th>\n",
       "      <td>AFGHANISTAN</td>\n",
       "      <td>2014</td>\n",
       "      <td>2.7</td>\n",
       "      <td>9.39625</td>\n",
       "    </tr>\n",
       "    <tr>\n",
       "      <th>1</th>\n",
       "      <td>ALBANIA</td>\n",
       "      <td>2014</td>\n",
       "      <td>1.8</td>\n",
       "      <td>26.51550</td>\n",
       "    </tr>\n",
       "    <tr>\n",
       "      <th>2</th>\n",
       "      <td>ALGERIA</td>\n",
       "      <td>2014</td>\n",
       "      <td>4.1</td>\n",
       "      <td>20.07875</td>\n",
       "    </tr>\n",
       "    <tr>\n",
       "      <th>3</th>\n",
       "      <td>ANGOLA</td>\n",
       "      <td>2014</td>\n",
       "      <td>4.7</td>\n",
       "      <td>22.54875</td>\n",
       "    </tr>\n",
       "    <tr>\n",
       "      <th>4</th>\n",
       "      <td>ARGENTINA</td>\n",
       "      <td>2014</td>\n",
       "      <td>-2.5</td>\n",
       "      <td>12.57825</td>\n",
       "    </tr>\n",
       "  </tbody>\n",
       "</table>\n",
       "</div>"
      ],
      "text/plain": [
       "       Country  Year  GDP Growth Rate  Unemployment Rate\n",
       "0  AFGHANISTAN  2014              2.7            9.39625\n",
       "1      ALBANIA  2014              1.8           26.51550\n",
       "2      ALGERIA  2014              4.1           20.07875\n",
       "3       ANGOLA  2014              4.7           22.54875\n",
       "4    ARGENTINA  2014             -2.5           12.57825"
      ]
     },
     "execution_count": 63,
     "metadata": {},
     "output_type": "execute_result"
    }
   ],
   "source": [
    "# Reshape GDP Growth Rate\n",
    "gdp_long = gdp_unemp_agg_reset.melt(id_vars=['Country'], \n",
    "                   value_vars=[col for col in gdp_unemp_agg_reset.columns if 'GDP Growth Rate' in col],\n",
    "                   var_name='Year', value_name='GDP Growth Rate')\n",
    "\n",
    "# Reshape Unemployment Rate\n",
    "unemp_long = gdp_unemp_agg_reset.melt(id_vars=['Country'], \n",
    "                     value_vars=[col for col in gdp_unemp_agg_reset.columns if 'Unemployment Rate' in col],\n",
    "                     var_name='Year', value_name='Unemployment Rate')\n",
    "\n",
    "# Merge the two datasets\n",
    "gdp_long['Year'] = gdp_long['Year'].str.extract(r'(\\d{4})').astype(int)\n",
    "unemp_long['Year'] = unemp_long['Year'].str.extract(r'(\\d{4})').astype(int)\n",
    "merged_df = pd.merge(gdp_long, unemp_long, on=['Country', 'Year'])\n",
    "\n",
    "merged_df.head()"
   ]
  },
  {
   "cell_type": "markdown",
   "metadata": {},
   "source": [
    "#### Determine whether to use Fixed Effects (FE) or Random Effects (RE) using Hausman Test \n",
    "The Hausman statistic is used to test whether there is a significant difference between the coefficients estimated by the Fixed Effects (FE) and Random Effects (RE) models. It tells us whether the unobserved effects (like country-specific factors) are correlated with the independent variable (Unemployment Rate).\n"
   ]
  },
  {
   "cell_type": "code",
   "execution_count": 64,
   "metadata": {},
   "outputs": [
    {
     "data": {
      "text/html": [
       "<div>\n",
       "<style scoped>\n",
       "    .dataframe tbody tr th:only-of-type {\n",
       "        vertical-align: middle;\n",
       "    }\n",
       "\n",
       "    .dataframe tbody tr th {\n",
       "        vertical-align: top;\n",
       "    }\n",
       "\n",
       "    .dataframe thead th {\n",
       "        text-align: right;\n",
       "    }\n",
       "</style>\n",
       "<table border=\"1\" class=\"dataframe\">\n",
       "  <thead>\n",
       "    <tr style=\"text-align: right;\">\n",
       "      <th></th>\n",
       "      <th></th>\n",
       "      <th>GDP Growth Rate</th>\n",
       "      <th>Unemployment Rate</th>\n",
       "    </tr>\n",
       "    <tr>\n",
       "      <th>Country</th>\n",
       "      <th>Year</th>\n",
       "      <th></th>\n",
       "      <th></th>\n",
       "    </tr>\n",
       "  </thead>\n",
       "  <tbody>\n",
       "    <tr>\n",
       "      <th>AFGHANISTAN</th>\n",
       "      <th>2014</th>\n",
       "      <td>2.7</td>\n",
       "      <td>9.39625</td>\n",
       "    </tr>\n",
       "    <tr>\n",
       "      <th>ALBANIA</th>\n",
       "      <th>2014</th>\n",
       "      <td>1.8</td>\n",
       "      <td>26.51550</td>\n",
       "    </tr>\n",
       "    <tr>\n",
       "      <th>ALGERIA</th>\n",
       "      <th>2014</th>\n",
       "      <td>4.1</td>\n",
       "      <td>20.07875</td>\n",
       "    </tr>\n",
       "    <tr>\n",
       "      <th>ANGOLA</th>\n",
       "      <th>2014</th>\n",
       "      <td>4.7</td>\n",
       "      <td>22.54875</td>\n",
       "    </tr>\n",
       "    <tr>\n",
       "      <th>ARGENTINA</th>\n",
       "      <th>2014</th>\n",
       "      <td>-2.5</td>\n",
       "      <td>12.57825</td>\n",
       "    </tr>\n",
       "  </tbody>\n",
       "</table>\n",
       "</div>"
      ],
      "text/plain": [
       "                  GDP Growth Rate  Unemployment Rate\n",
       "Country     Year                                    \n",
       "AFGHANISTAN 2014              2.7            9.39625\n",
       "ALBANIA     2014              1.8           26.51550\n",
       "ALGERIA     2014              4.1           20.07875\n",
       "ANGOLA      2014              4.7           22.54875\n",
       "ARGENTINA   2014             -2.5           12.57825"
      ]
     },
     "execution_count": 64,
     "metadata": {},
     "output_type": "execute_result"
    }
   ],
   "source": [
    "# Ensure 'Country' and 'Year' are the multi-index\n",
    "merged_df_reset = merged_df.set_index(['Country', 'Year'])\n",
    "merged_df_reset.head()"
   ]
  },
  {
   "cell_type": "code",
   "execution_count": 65,
   "metadata": {},
   "outputs": [
    {
     "name": "stdout",
     "output_type": "stream",
     "text": [
      "                              Model Comparison                              \n",
      "============================================================================\n",
      "                                      Fixed Effects           Random Effects\n",
      "----------------------------------------------------------------------------\n",
      "Dep. Variable                  Q('GDP Growth Rate')     Q('GDP Growth Rate')\n",
      "Estimator                                  PanelOLS            RandomEffects\n",
      "No. Observations                               1760                     1760\n",
      "Cov. Est.                                Unadjusted               Unadjusted\n",
      "R-squared                                    0.0205                   0.0204\n",
      "R-Squared (Within)                           0.0205                  -0.0130\n",
      "R-Squared (Between)                         -3.3345                   0.2476\n",
      "R-Squared (Overall)                         -1.0972                   0.0738\n",
      "F-statistic                                  33.186                   36.625\n",
      "P-value (F-stat)                             0.0000                   0.0000\n",
      "========================     ======================   ======================\n",
      "Q('Unemployment Rate')                      -0.3461                   0.0963\n",
      "                                          (-5.7607)                 (6.0518)\n",
      "========================== ======================== ========================\n",
      "Effects                                      Entity                         \n",
      "----------------------------------------------------------------------------\n",
      "\n",
      "T-stats reported in parentheses\n"
     ]
    }
   ],
   "source": [
    "# Fixed Effects Model\n",
    "fe_model = PanelOLS.from_formula('Q(\"GDP Growth Rate\") ~ Q(\"Unemployment Rate\") + EntityEffects', data=merged_df_reset)\n",
    "fe_res = fe_model.fit()\n",
    "\n",
    "# Random Effects Model\n",
    "re_model = RandomEffects.from_formula('Q(\"GDP Growth Rate\") ~ Q(\"Unemployment Rate\")', data=merged_df_reset)\n",
    "re_res = re_model.fit()\n",
    "\n",
    "# Hausman Test Comparison\n",
    "comparison = compare({'Fixed Effects': fe_res, 'Random Effects': re_res})\n",
    "print(comparison)"
   ]
  },
  {
   "cell_type": "code",
   "execution_count": 66,
   "metadata": {},
   "outputs": [
    {
     "name": "stdout",
     "output_type": "stream",
     "text": [
      "Hausman Statistic: 58.3342\n",
      "p-value: 2.2093438190040615e-14\n"
     ]
    }
   ],
   "source": [
    "# Extract coefficients and covariance matrices\n",
    "b_fe = fe_res.params\n",
    "b_re = re_res.params\n",
    "\n",
    "# Calculate the difference between coefficients\n",
    "coeff_diff = b_fe - b_re\n",
    "\n",
    "# Variance difference (covariance matrix of FE - covariance matrix of RE)\n",
    "var_diff = fe_res.cov - re_res.cov\n",
    "\n",
    "# Hausman statistic calculation\n",
    "hausman_stat = coeff_diff.T @ np.linalg.inv(var_diff) @ coeff_diff\n",
    "\n",
    "# Degrees of freedom: number of regressors\n",
    "df = len(coeff_diff)\n",
    "\n",
    "# P-value calculation\n",
    "p_value = 1 - stats.chi2.cdf(hausman_stat, df)\n",
    "\n",
    "print(f\"Hausman Statistic: {hausman_stat:.4f}\")\n",
    "print(\"p-value:\", p_value)"
   ]
  },
  {
   "cell_type": "markdown",
   "metadata": {},
   "source": [
    "Hausman Statistic (58.3342):\n",
    "\n",
    "A large value (like 58.33) indicates a significant difference between the FE and RE coefficients. This suggests that the RE model’s assumption of no correlation between unobserved effects and the independent variable is violated.\n",
    "\n",
    "P-value (0.0000):\n",
    "\n",
    "Since the p-value is essentially 0, it means the difference in coefficients is statistically significant. You reject the null hypothesis, confirming that the Fixed Effects model is better.\n"
   ]
  },
  {
   "cell_type": "markdown",
   "metadata": {},
   "source": [
    "### General Analysis for all countries across years [Fixed Model]"
   ]
  },
  {
   "cell_type": "code",
   "execution_count": 67,
   "metadata": {},
   "outputs": [
    {
     "name": "stdout",
     "output_type": "stream",
     "text": [
      "                           PanelOLS Estimation Summary                            \n",
      "==================================================================================\n",
      "Dep. Variable:     Q('GDP Growth Rate')   R-squared:                        0.0205\n",
      "Estimator:                     PanelOLS   R-squared (Between):             -3.3345\n",
      "No. Observations:                  1760   R-squared (Within):               0.0205\n",
      "Date:                  Fri, Dec 06 2024   R-squared (Overall):             -1.0972\n",
      "Time:                          22:57:02   Log-likelihood                   -5392.9\n",
      "Cov. Estimator:              Unadjusted                                           \n",
      "                                          F-statistic:                      33.186\n",
      "Entities:                           176   P-value                           0.0000\n",
      "Avg Obs:                        10.0000   Distribution:                  F(1,1583)\n",
      "Min Obs:                        10.0000                                           \n",
      "Max Obs:                        10.0000   F-statistic (robust):             33.186\n",
      "                                          P-value                           0.0000\n",
      "Time periods:                        10   Distribution:                  F(1,1583)\n",
      "Avg Obs:                         176.00                                           \n",
      "Min Obs:                         176.00                                           \n",
      "Max Obs:                         176.00                                           \n",
      "                                                                                  \n",
      "                                   Parameter Estimates                                    \n",
      "==========================================================================================\n",
      "                        Parameter  Std. Err.     T-stat    P-value    Lower CI    Upper CI\n",
      "------------------------------------------------------------------------------------------\n",
      "Q('Unemployment Rate')    -0.3461     0.0601    -5.7607     0.0000     -0.4639     -0.2282\n",
      "==========================================================================================\n",
      "\n",
      "F-test for Poolability: 2.2447\n",
      "P-value: 0.0000\n",
      "Distribution: F(175,1583)\n",
      "\n",
      "Included effects: Entity\n"
     ]
    }
   ],
   "source": [
    "# Fixed Effects Model\n",
    "fe_model = PanelOLS.from_formula('Q(\"GDP Growth Rate\") ~ Q(\"Unemployment Rate\") + EntityEffects', data=merged_df_reset)\n",
    "fe_res = fe_model.fit()\n",
    "\n",
    "# Display the results\n",
    "print(fe_res)"
   ]
  },
  {
   "cell_type": "markdown",
   "metadata": {},
   "source": [
    "### Continent-based Analysis for all countries across years [Fixed Model]"
   ]
  },
  {
   "cell_type": "markdown",
   "metadata": {},
   "source": [
    "#### Asia"
   ]
  },
  {
   "cell_type": "code",
   "execution_count": 68,
   "metadata": {},
   "outputs": [
    {
     "data": {
      "text/html": [
       "<div>\n",
       "<style scoped>\n",
       "    .dataframe tbody tr th:only-of-type {\n",
       "        vertical-align: middle;\n",
       "    }\n",
       "\n",
       "    .dataframe tbody tr th {\n",
       "        vertical-align: top;\n",
       "    }\n",
       "\n",
       "    .dataframe thead th {\n",
       "        text-align: right;\n",
       "    }\n",
       "</style>\n",
       "<table border=\"1\" class=\"dataframe\">\n",
       "  <thead>\n",
       "    <tr style=\"text-align: right;\">\n",
       "      <th></th>\n",
       "      <th>Country</th>\n",
       "      <th>GDP Growth Rate % [2014]</th>\n",
       "      <th>GDP Growth Rate % [2015]</th>\n",
       "      <th>GDP Growth Rate % [2016]</th>\n",
       "      <th>GDP Growth Rate % [2017]</th>\n",
       "      <th>GDP Growth Rate % [2018]</th>\n",
       "      <th>GDP Growth Rate % [2019]</th>\n",
       "      <th>GDP Growth Rate % [2020]</th>\n",
       "      <th>GDP Growth Rate % [2021]</th>\n",
       "      <th>GDP Growth Rate % [2022]</th>\n",
       "      <th>GDP Growth Rate % [2023]</th>\n",
       "      <th>Unemployment Rate [2014]</th>\n",
       "      <th>Unemployment Rate [2015]</th>\n",
       "      <th>Unemployment Rate [2016]</th>\n",
       "      <th>Unemployment Rate [2017]</th>\n",
       "      <th>Unemployment Rate [2018]</th>\n",
       "      <th>Unemployment Rate [2019]</th>\n",
       "      <th>Unemployment Rate [2020]</th>\n",
       "      <th>Unemployment Rate [2021]</th>\n",
       "      <th>Unemployment Rate [2022]</th>\n",
       "      <th>Unemployment Rate [2023]</th>\n",
       "    </tr>\n",
       "  </thead>\n",
       "  <tbody>\n",
       "    <tr>\n",
       "      <th>0</th>\n",
       "      <td>AFGHANISTAN</td>\n",
       "      <td>2.7</td>\n",
       "      <td>1.0</td>\n",
       "      <td>2.2</td>\n",
       "      <td>2.6</td>\n",
       "      <td>1.2</td>\n",
       "      <td>3.9</td>\n",
       "      <td>-2.4</td>\n",
       "      <td>-14.5</td>\n",
       "      <td>-6.2</td>\n",
       "      <td>2.7</td>\n",
       "      <td>9.39625</td>\n",
       "      <td>10.84225</td>\n",
       "      <td>12.27650</td>\n",
       "      <td>13.7030</td>\n",
       "      <td>13.72600</td>\n",
       "      <td>13.76575</td>\n",
       "      <td>14.62275</td>\n",
       "      <td>15.08825</td>\n",
       "      <td>20.59775</td>\n",
       "      <td>22.30775</td>\n",
       "    </tr>\n",
       "    <tr>\n",
       "      <th>1</th>\n",
       "      <td>ARMENIA</td>\n",
       "      <td>3.6</td>\n",
       "      <td>3.3</td>\n",
       "      <td>0.2</td>\n",
       "      <td>7.5</td>\n",
       "      <td>5.2</td>\n",
       "      <td>7.6</td>\n",
       "      <td>-7.1</td>\n",
       "      <td>5.8</td>\n",
       "      <td>12.6</td>\n",
       "      <td>8.3</td>\n",
       "      <td>15.69825</td>\n",
       "      <td>16.58650</td>\n",
       "      <td>17.50325</td>\n",
       "      <td>18.4635</td>\n",
       "      <td>19.42725</td>\n",
       "      <td>17.70275</td>\n",
       "      <td>17.42025</td>\n",
       "      <td>15.67125</td>\n",
       "      <td>13.25450</td>\n",
       "      <td>12.98200</td>\n",
       "    </tr>\n",
       "    <tr>\n",
       "      <th>2</th>\n",
       "      <td>AZERBAIJAN</td>\n",
       "      <td>2.8</td>\n",
       "      <td>1.1</td>\n",
       "      <td>-3.1</td>\n",
       "      <td>0.2</td>\n",
       "      <td>1.5</td>\n",
       "      <td>2.5</td>\n",
       "      <td>-4.2</td>\n",
       "      <td>5.6</td>\n",
       "      <td>4.7</td>\n",
       "      <td>1.1</td>\n",
       "      <td>8.52250</td>\n",
       "      <td>8.52850</td>\n",
       "      <td>8.36700</td>\n",
       "      <td>8.1695</td>\n",
       "      <td>7.81325</td>\n",
       "      <td>7.77450</td>\n",
       "      <td>10.70125</td>\n",
       "      <td>9.71825</td>\n",
       "      <td>9.14100</td>\n",
       "      <td>9.14925</td>\n",
       "    </tr>\n",
       "    <tr>\n",
       "      <th>3</th>\n",
       "      <td>BAHRAIN</td>\n",
       "      <td>4.3</td>\n",
       "      <td>2.5</td>\n",
       "      <td>3.8</td>\n",
       "      <td>5.0</td>\n",
       "      <td>2.1</td>\n",
       "      <td>2.1</td>\n",
       "      <td>-5.9</td>\n",
       "      <td>4.4</td>\n",
       "      <td>6.0</td>\n",
       "      <td>3.0</td>\n",
       "      <td>4.45625</td>\n",
       "      <td>4.41000</td>\n",
       "      <td>4.50625</td>\n",
       "      <td>4.5885</td>\n",
       "      <td>4.66125</td>\n",
       "      <td>4.72400</td>\n",
       "      <td>5.76650</td>\n",
       "      <td>5.39900</td>\n",
       "      <td>4.81800</td>\n",
       "      <td>4.70975</td>\n",
       "    </tr>\n",
       "    <tr>\n",
       "      <th>4</th>\n",
       "      <td>BANGLADESH</td>\n",
       "      <td>6.1</td>\n",
       "      <td>6.6</td>\n",
       "      <td>7.1</td>\n",
       "      <td>6.6</td>\n",
       "      <td>7.3</td>\n",
       "      <td>7.9</td>\n",
       "      <td>3.4</td>\n",
       "      <td>6.9</td>\n",
       "      <td>7.1</td>\n",
       "      <td>5.8</td>\n",
       "      <td>7.33425</td>\n",
       "      <td>7.55400</td>\n",
       "      <td>7.75450</td>\n",
       "      <td>8.1410</td>\n",
       "      <td>8.16925</td>\n",
       "      <td>8.21075</td>\n",
       "      <td>9.72250</td>\n",
       "      <td>9.59325</td>\n",
       "      <td>8.39525</td>\n",
       "      <td>8.24175</td>\n",
       "    </tr>\n",
       "  </tbody>\n",
       "</table>\n",
       "</div>"
      ],
      "text/plain": [
       "       Country  GDP Growth Rate % [2014]  GDP Growth Rate % [2015]  \\\n",
       "0  AFGHANISTAN                       2.7                       1.0   \n",
       "1      ARMENIA                       3.6                       3.3   \n",
       "2   AZERBAIJAN                       2.8                       1.1   \n",
       "3      BAHRAIN                       4.3                       2.5   \n",
       "4   BANGLADESH                       6.1                       6.6   \n",
       "\n",
       "   GDP Growth Rate % [2016]  GDP Growth Rate % [2017]  \\\n",
       "0                       2.2                       2.6   \n",
       "1                       0.2                       7.5   \n",
       "2                      -3.1                       0.2   \n",
       "3                       3.8                       5.0   \n",
       "4                       7.1                       6.6   \n",
       "\n",
       "   GDP Growth Rate % [2018]  GDP Growth Rate % [2019]  \\\n",
       "0                       1.2                       3.9   \n",
       "1                       5.2                       7.6   \n",
       "2                       1.5                       2.5   \n",
       "3                       2.1                       2.1   \n",
       "4                       7.3                       7.9   \n",
       "\n",
       "   GDP Growth Rate % [2020]  GDP Growth Rate % [2021]  \\\n",
       "0                      -2.4                     -14.5   \n",
       "1                      -7.1                       5.8   \n",
       "2                      -4.2                       5.6   \n",
       "3                      -5.9                       4.4   \n",
       "4                       3.4                       6.9   \n",
       "\n",
       "   GDP Growth Rate % [2022]  GDP Growth Rate % [2023]  \\\n",
       "0                      -6.2                       2.7   \n",
       "1                      12.6                       8.3   \n",
       "2                       4.7                       1.1   \n",
       "3                       6.0                       3.0   \n",
       "4                       7.1                       5.8   \n",
       "\n",
       "   Unemployment Rate [2014]  Unemployment Rate [2015]  \\\n",
       "0                   9.39625                  10.84225   \n",
       "1                  15.69825                  16.58650   \n",
       "2                   8.52250                   8.52850   \n",
       "3                   4.45625                   4.41000   \n",
       "4                   7.33425                   7.55400   \n",
       "\n",
       "   Unemployment Rate [2016]  Unemployment Rate [2017]  \\\n",
       "0                  12.27650                   13.7030   \n",
       "1                  17.50325                   18.4635   \n",
       "2                   8.36700                    8.1695   \n",
       "3                   4.50625                    4.5885   \n",
       "4                   7.75450                    8.1410   \n",
       "\n",
       "   Unemployment Rate [2018]  Unemployment Rate [2019]  \\\n",
       "0                  13.72600                  13.76575   \n",
       "1                  19.42725                  17.70275   \n",
       "2                   7.81325                   7.77450   \n",
       "3                   4.66125                   4.72400   \n",
       "4                   8.16925                   8.21075   \n",
       "\n",
       "   Unemployment Rate [2020]  Unemployment Rate [2021]  \\\n",
       "0                  14.62275                  15.08825   \n",
       "1                  17.42025                  15.67125   \n",
       "2                  10.70125                   9.71825   \n",
       "3                   5.76650                   5.39900   \n",
       "4                   9.72250                   9.59325   \n",
       "\n",
       "   Unemployment Rate [2022]  Unemployment Rate [2023]  \n",
       "0                  20.59775                  22.30775  \n",
       "1                  13.25450                  12.98200  \n",
       "2                   9.14100                   9.14925  \n",
       "3                   4.81800                   4.70975  \n",
       "4                   8.39525                   8.24175  "
      ]
     },
     "execution_count": 68,
     "metadata": {},
     "output_type": "execute_result"
    }
   ],
   "source": [
    "# Extracting Asian Countries for Combined Dataset\n",
    "asia_df = gdp_unemp[(gdp_unemp['Continent'] == 'AS') | (gdp_unemp['Continent'] == 'AS/EU')]\n",
    "\n",
    "# Aggregating Countries\n",
    "asia_mean_reset = (\n",
    "    asia_df\n",
    "    .groupby('Country', as_index=False)\n",
    "    .mean(numeric_only = True)  # Calculate the mean for all columns\n",
    ")\n",
    "# Display the first few rows\n",
    "asia_mean_reset.head()"
   ]
  },
  {
   "cell_type": "code",
   "execution_count": 69,
   "metadata": {},
   "outputs": [
    {
     "data": {
      "text/html": [
       "<div>\n",
       "<style scoped>\n",
       "    .dataframe tbody tr th:only-of-type {\n",
       "        vertical-align: middle;\n",
       "    }\n",
       "\n",
       "    .dataframe tbody tr th {\n",
       "        vertical-align: top;\n",
       "    }\n",
       "\n",
       "    .dataframe thead th {\n",
       "        text-align: right;\n",
       "    }\n",
       "</style>\n",
       "<table border=\"1\" class=\"dataframe\">\n",
       "  <thead>\n",
       "    <tr style=\"text-align: right;\">\n",
       "      <th></th>\n",
       "      <th></th>\n",
       "      <th>GDP Growth Rate</th>\n",
       "      <th>Unemployment Rate</th>\n",
       "    </tr>\n",
       "    <tr>\n",
       "      <th>Country</th>\n",
       "      <th>Year</th>\n",
       "      <th></th>\n",
       "      <th></th>\n",
       "    </tr>\n",
       "  </thead>\n",
       "  <tbody>\n",
       "    <tr>\n",
       "      <th>AFGHANISTAN</th>\n",
       "      <th>2014</th>\n",
       "      <td>2.7</td>\n",
       "      <td>9.39625</td>\n",
       "    </tr>\n",
       "    <tr>\n",
       "      <th>ARMENIA</th>\n",
       "      <th>2014</th>\n",
       "      <td>3.6</td>\n",
       "      <td>15.69825</td>\n",
       "    </tr>\n",
       "    <tr>\n",
       "      <th>AZERBAIJAN</th>\n",
       "      <th>2014</th>\n",
       "      <td>2.8</td>\n",
       "      <td>8.52250</td>\n",
       "    </tr>\n",
       "    <tr>\n",
       "      <th>BAHRAIN</th>\n",
       "      <th>2014</th>\n",
       "      <td>4.3</td>\n",
       "      <td>4.45625</td>\n",
       "    </tr>\n",
       "    <tr>\n",
       "      <th>BANGLADESH</th>\n",
       "      <th>2014</th>\n",
       "      <td>6.1</td>\n",
       "      <td>7.33425</td>\n",
       "    </tr>\n",
       "  </tbody>\n",
       "</table>\n",
       "</div>"
      ],
      "text/plain": [
       "                  GDP Growth Rate  Unemployment Rate\n",
       "Country     Year                                    \n",
       "AFGHANISTAN 2014              2.7            9.39625\n",
       "ARMENIA     2014              3.6           15.69825\n",
       "AZERBAIJAN  2014              2.8            8.52250\n",
       "BAHRAIN     2014              4.3            4.45625\n",
       "BANGLADESH  2014              6.1            7.33425"
      ]
     },
     "execution_count": 69,
     "metadata": {},
     "output_type": "execute_result"
    }
   ],
   "source": [
    "# Reshape GDP Growth Rate\n",
    "asia_gdp_long = asia_mean_reset.melt(id_vars=['Country'], \n",
    "                   value_vars=[col for col in asia_mean_reset.columns if 'GDP Growth Rate' in col],\n",
    "                   var_name='Year', value_name='GDP Growth Rate')\n",
    "\n",
    "# Reshape Unemployment Rate\n",
    "asia_unemp_long = asia_mean_reset.melt(id_vars=['Country'], \n",
    "                     value_vars=[col for col in asia_mean_reset.columns if 'Unemployment Rate' in col],\n",
    "                     var_name='Year', value_name='Unemployment Rate')\n",
    "\n",
    "# Merge the two datasets\n",
    "asia_gdp_long['Year'] = asia_gdp_long['Year'].str.extract(r'(\\d{4})').astype(int)\n",
    "asia_unemp_long['Year'] = asia_unemp_long['Year'].str.extract(r'(\\d{4})').astype(int)\n",
    "asia_merged_df = pd.merge(asia_gdp_long, asia_unemp_long, on=['Country', 'Year'])\n",
    "\n",
    "# Ensure 'Country' and 'Year' are the multi-index\n",
    "asia_merged_df = asia_merged_df.set_index(['Country', 'Year'])\n",
    "asia_merged_df.head()"
   ]
  },
  {
   "cell_type": "code",
   "execution_count": 70,
   "metadata": {},
   "outputs": [
    {
     "name": "stdout",
     "output_type": "stream",
     "text": [
      "                           PanelOLS Estimation Summary                            \n",
      "==================================================================================\n",
      "Dep. Variable:     Q('GDP Growth Rate')   R-squared:                        0.0290\n",
      "Estimator:                     PanelOLS   R-squared (Between):             -5.7396\n",
      "No. Observations:                   470   R-squared (Within):               0.0290\n",
      "Date:                  Fri, Dec 06 2024   R-squared (Overall):             -1.4584\n",
      "Time:                          22:57:02   Log-likelihood                   -1538.5\n",
      "Cov. Estimator:              Unadjusted                                           \n",
      "                                          F-statistic:                      12.603\n",
      "Entities:                            47   P-value                           0.0004\n",
      "Avg Obs:                        10.0000   Distribution:                   F(1,422)\n",
      "Min Obs:                        10.0000                                           \n",
      "Max Obs:                        10.0000   F-statistic (robust):             12.603\n",
      "                                          P-value                           0.0004\n",
      "Time periods:                        10   Distribution:                   F(1,422)\n",
      "Avg Obs:                         47.000                                           \n",
      "Min Obs:                         47.000                                           \n",
      "Max Obs:                         47.000                                           \n",
      "                                                                                  \n",
      "                                   Parameter Estimates                                    \n",
      "==========================================================================================\n",
      "                        Parameter  Std. Err.     T-stat    P-value    Lower CI    Upper CI\n",
      "------------------------------------------------------------------------------------------\n",
      "Q('Unemployment Rate')    -0.6037     0.1701    -3.5500     0.0004     -0.9379     -0.2694\n",
      "==========================================================================================\n",
      "\n",
      "F-test for Poolability: 1.3516\n",
      "P-value: 0.0688\n",
      "Distribution: F(46,422)\n",
      "\n",
      "Included effects: Entity\n"
     ]
    }
   ],
   "source": [
    "# Fixed Effects Model\n",
    "asia_fe_model = PanelOLS.from_formula('Q(\"GDP Growth Rate\") ~ Q(\"Unemployment Rate\") + EntityEffects', data=asia_merged_df)\n",
    "asia_fe_res = asia_fe_model.fit()\n",
    "\n",
    "# Display the results\n",
    "print(asia_fe_res)"
   ]
  },
  {
   "cell_type": "markdown",
   "metadata": {},
   "source": [
    "#### Oceania"
   ]
  },
  {
   "cell_type": "code",
   "execution_count": 71,
   "metadata": {},
   "outputs": [
    {
     "data": {
      "text/html": [
       "<div>\n",
       "<style scoped>\n",
       "    .dataframe tbody tr th:only-of-type {\n",
       "        vertical-align: middle;\n",
       "    }\n",
       "\n",
       "    .dataframe tbody tr th {\n",
       "        vertical-align: top;\n",
       "    }\n",
       "\n",
       "    .dataframe thead th {\n",
       "        text-align: right;\n",
       "    }\n",
       "</style>\n",
       "<table border=\"1\" class=\"dataframe\">\n",
       "  <thead>\n",
       "    <tr style=\"text-align: right;\">\n",
       "      <th></th>\n",
       "      <th>Country</th>\n",
       "      <th>GDP Growth Rate % [2014]</th>\n",
       "      <th>GDP Growth Rate % [2015]</th>\n",
       "      <th>GDP Growth Rate % [2016]</th>\n",
       "      <th>GDP Growth Rate % [2017]</th>\n",
       "      <th>GDP Growth Rate % [2018]</th>\n",
       "      <th>GDP Growth Rate % [2019]</th>\n",
       "      <th>GDP Growth Rate % [2020]</th>\n",
       "      <th>GDP Growth Rate % [2021]</th>\n",
       "      <th>GDP Growth Rate % [2022]</th>\n",
       "      <th>GDP Growth Rate % [2023]</th>\n",
       "      <th>Unemployment Rate [2014]</th>\n",
       "      <th>Unemployment Rate [2015]</th>\n",
       "      <th>Unemployment Rate [2016]</th>\n",
       "      <th>Unemployment Rate [2017]</th>\n",
       "      <th>Unemployment Rate [2018]</th>\n",
       "      <th>Unemployment Rate [2019]</th>\n",
       "      <th>Unemployment Rate [2020]</th>\n",
       "      <th>Unemployment Rate [2021]</th>\n",
       "      <th>Unemployment Rate [2022]</th>\n",
       "      <th>Unemployment Rate [2023]</th>\n",
       "    </tr>\n",
       "  </thead>\n",
       "  <tbody>\n",
       "    <tr>\n",
       "      <th>0</th>\n",
       "      <td>AUSTRALIA</td>\n",
       "      <td>2.6</td>\n",
       "      <td>2.4</td>\n",
       "      <td>2.7</td>\n",
       "      <td>2.4</td>\n",
       "      <td>2.8</td>\n",
       "      <td>1.8</td>\n",
       "      <td>-2.1</td>\n",
       "      <td>5.5</td>\n",
       "      <td>3.9</td>\n",
       "      <td>2.0</td>\n",
       "      <td>8.95400</td>\n",
       "      <td>8.86025</td>\n",
       "      <td>8.47400</td>\n",
       "      <td>8.39325</td>\n",
       "      <td>7.89500</td>\n",
       "      <td>7.80650</td>\n",
       "      <td>9.6040</td>\n",
       "      <td>7.59650</td>\n",
       "      <td>5.54850</td>\n",
       "      <td>5.52350</td>\n",
       "    </tr>\n",
       "    <tr>\n",
       "      <th>1</th>\n",
       "      <td>FIJI</td>\n",
       "      <td>5.6</td>\n",
       "      <td>4.5</td>\n",
       "      <td>2.4</td>\n",
       "      <td>5.4</td>\n",
       "      <td>3.8</td>\n",
       "      <td>-0.6</td>\n",
       "      <td>-17.0</td>\n",
       "      <td>-4.9</td>\n",
       "      <td>19.8</td>\n",
       "      <td>7.5</td>\n",
       "      <td>8.81800</td>\n",
       "      <td>9.02600</td>\n",
       "      <td>9.35725</td>\n",
       "      <td>9.53925</td>\n",
       "      <td>9.68600</td>\n",
       "      <td>9.77875</td>\n",
       "      <td>10.8685</td>\n",
       "      <td>10.74025</td>\n",
       "      <td>10.07200</td>\n",
       "      <td>9.48475</td>\n",
       "    </tr>\n",
       "    <tr>\n",
       "      <th>2</th>\n",
       "      <td>NEW ZEALAND</td>\n",
       "      <td>3.8</td>\n",
       "      <td>3.6</td>\n",
       "      <td>3.9</td>\n",
       "      <td>3.3</td>\n",
       "      <td>3.5</td>\n",
       "      <td>3.1</td>\n",
       "      <td>-1.4</td>\n",
       "      <td>5.6</td>\n",
       "      <td>2.4</td>\n",
       "      <td>0.6</td>\n",
       "      <td>9.01275</td>\n",
       "      <td>8.88900</td>\n",
       "      <td>8.58625</td>\n",
       "      <td>8.16100</td>\n",
       "      <td>7.43425</td>\n",
       "      <td>7.10575</td>\n",
       "      <td>7.8805</td>\n",
       "      <td>6.54800</td>\n",
       "      <td>5.79025</td>\n",
       "      <td>6.59325</td>\n",
       "    </tr>\n",
       "    <tr>\n",
       "      <th>3</th>\n",
       "      <td>PAPUA NEW GUINEA</td>\n",
       "      <td>13.5</td>\n",
       "      <td>6.6</td>\n",
       "      <td>5.5</td>\n",
       "      <td>3.5</td>\n",
       "      <td>-0.3</td>\n",
       "      <td>4.5</td>\n",
       "      <td>-3.2</td>\n",
       "      <td>-0.8</td>\n",
       "      <td>5.2</td>\n",
       "      <td>2.9</td>\n",
       "      <td>3.23325</td>\n",
       "      <td>3.22625</td>\n",
       "      <td>3.22025</td>\n",
       "      <td>3.32800</td>\n",
       "      <td>3.40125</td>\n",
       "      <td>3.42250</td>\n",
       "      <td>3.8635</td>\n",
       "      <td>3.98800</td>\n",
       "      <td>3.52525</td>\n",
       "      <td>3.47625</td>\n",
       "    </tr>\n",
       "    <tr>\n",
       "      <th>4</th>\n",
       "      <td>SAMOA</td>\n",
       "      <td>0.7</td>\n",
       "      <td>3.9</td>\n",
       "      <td>8.0</td>\n",
       "      <td>1.4</td>\n",
       "      <td>-0.6</td>\n",
       "      <td>4.5</td>\n",
       "      <td>-3.1</td>\n",
       "      <td>-7.1</td>\n",
       "      <td>-5.3</td>\n",
       "      <td>8.0</td>\n",
       "      <td>11.94800</td>\n",
       "      <td>12.53950</td>\n",
       "      <td>13.17525</td>\n",
       "      <td>13.94725</td>\n",
       "      <td>14.10600</td>\n",
       "      <td>14.31675</td>\n",
       "      <td>15.6165</td>\n",
       "      <td>15.67075</td>\n",
       "      <td>14.98225</td>\n",
       "      <td>14.29100</td>\n",
       "    </tr>\n",
       "  </tbody>\n",
       "</table>\n",
       "</div>"
      ],
      "text/plain": [
       "            Country  GDP Growth Rate % [2014]  GDP Growth Rate % [2015]  \\\n",
       "0         AUSTRALIA                       2.6                       2.4   \n",
       "1              FIJI                       5.6                       4.5   \n",
       "2       NEW ZEALAND                       3.8                       3.6   \n",
       "3  PAPUA NEW GUINEA                      13.5                       6.6   \n",
       "4             SAMOA                       0.7                       3.9   \n",
       "\n",
       "   GDP Growth Rate % [2016]  GDP Growth Rate % [2017]  \\\n",
       "0                       2.7                       2.4   \n",
       "1                       2.4                       5.4   \n",
       "2                       3.9                       3.3   \n",
       "3                       5.5                       3.5   \n",
       "4                       8.0                       1.4   \n",
       "\n",
       "   GDP Growth Rate % [2018]  GDP Growth Rate % [2019]  \\\n",
       "0                       2.8                       1.8   \n",
       "1                       3.8                      -0.6   \n",
       "2                       3.5                       3.1   \n",
       "3                      -0.3                       4.5   \n",
       "4                      -0.6                       4.5   \n",
       "\n",
       "   GDP Growth Rate % [2020]  GDP Growth Rate % [2021]  \\\n",
       "0                      -2.1                       5.5   \n",
       "1                     -17.0                      -4.9   \n",
       "2                      -1.4                       5.6   \n",
       "3                      -3.2                      -0.8   \n",
       "4                      -3.1                      -7.1   \n",
       "\n",
       "   GDP Growth Rate % [2022]  GDP Growth Rate % [2023]  \\\n",
       "0                       3.9                       2.0   \n",
       "1                      19.8                       7.5   \n",
       "2                       2.4                       0.6   \n",
       "3                       5.2                       2.9   \n",
       "4                      -5.3                       8.0   \n",
       "\n",
       "   Unemployment Rate [2014]  Unemployment Rate [2015]  \\\n",
       "0                   8.95400                   8.86025   \n",
       "1                   8.81800                   9.02600   \n",
       "2                   9.01275                   8.88900   \n",
       "3                   3.23325                   3.22625   \n",
       "4                  11.94800                  12.53950   \n",
       "\n",
       "   Unemployment Rate [2016]  Unemployment Rate [2017]  \\\n",
       "0                   8.47400                   8.39325   \n",
       "1                   9.35725                   9.53925   \n",
       "2                   8.58625                   8.16100   \n",
       "3                   3.22025                   3.32800   \n",
       "4                  13.17525                  13.94725   \n",
       "\n",
       "   Unemployment Rate [2018]  Unemployment Rate [2019]  \\\n",
       "0                   7.89500                   7.80650   \n",
       "1                   9.68600                   9.77875   \n",
       "2                   7.43425                   7.10575   \n",
       "3                   3.40125                   3.42250   \n",
       "4                  14.10600                  14.31675   \n",
       "\n",
       "   Unemployment Rate [2020]  Unemployment Rate [2021]  \\\n",
       "0                    9.6040                   7.59650   \n",
       "1                   10.8685                  10.74025   \n",
       "2                    7.8805                   6.54800   \n",
       "3                    3.8635                   3.98800   \n",
       "4                   15.6165                  15.67075   \n",
       "\n",
       "   Unemployment Rate [2022]  Unemployment Rate [2023]  \n",
       "0                   5.54850                   5.52350  \n",
       "1                  10.07200                   9.48475  \n",
       "2                   5.79025                   6.59325  \n",
       "3                   3.52525                   3.47625  \n",
       "4                  14.98225                  14.29100  "
      ]
     },
     "execution_count": 71,
     "metadata": {},
     "output_type": "execute_result"
    }
   ],
   "source": [
    "# Extracting Oceania Countries for Combined Dataset\n",
    "oceania_df = gdp_unemp[(gdp_unemp['Continent'] == 'OC')]\n",
    "\n",
    "# Aggregating Countries\n",
    "oceania_mean_reset = (\n",
    "    oceania_df\n",
    "    .groupby('Country', as_index=False)\n",
    "    .mean(numeric_only=True)  # Calculate the mean for numeric columns only\n",
    ")\n",
    "# Display the first few rows\n",
    "oceania_mean_reset.head()"
   ]
  },
  {
   "cell_type": "code",
   "execution_count": 72,
   "metadata": {},
   "outputs": [
    {
     "data": {
      "text/html": [
       "<div>\n",
       "<style scoped>\n",
       "    .dataframe tbody tr th:only-of-type {\n",
       "        vertical-align: middle;\n",
       "    }\n",
       "\n",
       "    .dataframe tbody tr th {\n",
       "        vertical-align: top;\n",
       "    }\n",
       "\n",
       "    .dataframe thead th {\n",
       "        text-align: right;\n",
       "    }\n",
       "</style>\n",
       "<table border=\"1\" class=\"dataframe\">\n",
       "  <thead>\n",
       "    <tr style=\"text-align: right;\">\n",
       "      <th></th>\n",
       "      <th></th>\n",
       "      <th>GDP Growth Rate</th>\n",
       "      <th>Unemployment Rate</th>\n",
       "    </tr>\n",
       "    <tr>\n",
       "      <th>Country</th>\n",
       "      <th>Year</th>\n",
       "      <th></th>\n",
       "      <th></th>\n",
       "    </tr>\n",
       "  </thead>\n",
       "  <tbody>\n",
       "    <tr>\n",
       "      <th>AUSTRALIA</th>\n",
       "      <th>2014</th>\n",
       "      <td>2.6</td>\n",
       "      <td>8.95400</td>\n",
       "    </tr>\n",
       "    <tr>\n",
       "      <th>FIJI</th>\n",
       "      <th>2014</th>\n",
       "      <td>5.6</td>\n",
       "      <td>8.81800</td>\n",
       "    </tr>\n",
       "    <tr>\n",
       "      <th>NEW ZEALAND</th>\n",
       "      <th>2014</th>\n",
       "      <td>3.8</td>\n",
       "      <td>9.01275</td>\n",
       "    </tr>\n",
       "    <tr>\n",
       "      <th>PAPUA NEW GUINEA</th>\n",
       "      <th>2014</th>\n",
       "      <td>13.5</td>\n",
       "      <td>3.23325</td>\n",
       "    </tr>\n",
       "    <tr>\n",
       "      <th>SAMOA</th>\n",
       "      <th>2014</th>\n",
       "      <td>0.7</td>\n",
       "      <td>11.94800</td>\n",
       "    </tr>\n",
       "  </tbody>\n",
       "</table>\n",
       "</div>"
      ],
      "text/plain": [
       "                       GDP Growth Rate  Unemployment Rate\n",
       "Country          Year                                    \n",
       "AUSTRALIA        2014              2.6            8.95400\n",
       "FIJI             2014              5.6            8.81800\n",
       "NEW ZEALAND      2014              3.8            9.01275\n",
       "PAPUA NEW GUINEA 2014             13.5            3.23325\n",
       "SAMOA            2014              0.7           11.94800"
      ]
     },
     "execution_count": 72,
     "metadata": {},
     "output_type": "execute_result"
    }
   ],
   "source": [
    "# Reshape GDP Growth Rate\n",
    "oceania_gdp_long = oceania_mean_reset.melt(id_vars=['Country'], \n",
    "                   value_vars=[col for col in oceania_mean_reset.columns if 'GDP Growth Rate' in col],\n",
    "                   var_name='Year', value_name='GDP Growth Rate')\n",
    "\n",
    "# Reshape Unemployment Rate\n",
    "oceania_unemp_long = oceania_mean_reset.melt(id_vars=['Country'], \n",
    "                     value_vars=[col for col in oceania_mean_reset.columns if 'Unemployment Rate' in col],\n",
    "                     var_name='Year', value_name='Unemployment Rate')\n",
    "\n",
    "# Merge the two datasets\n",
    "oceania_gdp_long['Year'] = oceania_gdp_long['Year'].str.extract(r'(\\d{4})').astype(int)\n",
    "oceania_unemp_long['Year'] = oceania_unemp_long['Year'].str.extract(r'(\\d{4})').astype(int)\n",
    "oceania_merged_df = pd.merge(oceania_gdp_long, oceania_unemp_long, on=['Country', 'Year'])\n",
    "\n",
    "# Ensure 'Country' and 'Year' are the multi-index\n",
    "oceania_merged_df = oceania_merged_df.set_index(['Country', 'Year'])\n",
    "oceania_merged_df.head()"
   ]
  },
  {
   "cell_type": "code",
   "execution_count": 73,
   "metadata": {},
   "outputs": [
    {
     "name": "stdout",
     "output_type": "stream",
     "text": [
      "                           PanelOLS Estimation Summary                            \n",
      "==================================================================================\n",
      "Dep. Variable:     Q('GDP Growth Rate')   R-squared:                        0.0584\n",
      "Estimator:                     PanelOLS   R-squared (Between):             -24.292\n",
      "No. Observations:                    80   R-squared (Within):               0.0584\n",
      "Date:                  Fri, Dec 06 2024   R-squared (Overall):             -5.7123\n",
      "Time:                          22:57:03   Log-likelihood                   -227.91\n",
      "Cov. Estimator:              Unadjusted                                           \n",
      "                                          F-statistic:                      4.4032\n",
      "Entities:                             8   P-value                           0.0394\n",
      "Avg Obs:                        10.0000   Distribution:                    F(1,71)\n",
      "Min Obs:                        10.0000                                           \n",
      "Max Obs:                        10.0000   F-statistic (robust):             4.4032\n",
      "                                          P-value                           0.0394\n",
      "Time periods:                        10   Distribution:                    F(1,71)\n",
      "Avg Obs:                         8.0000                                           \n",
      "Min Obs:                         8.0000                                           \n",
      "Max Obs:                         8.0000                                           \n",
      "                                                                                  \n",
      "                                   Parameter Estimates                                    \n",
      "==========================================================================================\n",
      "                        Parameter  Std. Err.     T-stat    P-value    Lower CI    Upper CI\n",
      "------------------------------------------------------------------------------------------\n",
      "Q('Unemployment Rate')    -1.2871     0.6134    -2.0984     0.0394     -2.5101     -0.0641\n",
      "==========================================================================================\n",
      "\n",
      "F-test for Poolability: 0.8165\n",
      "P-value: 0.5767\n",
      "Distribution: F(7,71)\n",
      "\n",
      "Included effects: Entity\n"
     ]
    }
   ],
   "source": [
    "# Fixed Effects Model\n",
    "oceania_fe_model = PanelOLS.from_formula('Q(\"GDP Growth Rate\") ~ Q(\"Unemployment Rate\") + EntityEffects', data=oceania_merged_df)\n",
    "oceania_fe_res = oceania_fe_model.fit()\n",
    "\n",
    "# Display the results\n",
    "print(oceania_fe_res)"
   ]
  },
  {
   "cell_type": "markdown",
   "metadata": {},
   "source": [
    "#### North America"
   ]
  },
  {
   "cell_type": "code",
   "execution_count": 74,
   "metadata": {},
   "outputs": [
    {
     "data": {
      "text/html": [
       "<div>\n",
       "<style scoped>\n",
       "    .dataframe tbody tr th:only-of-type {\n",
       "        vertical-align: middle;\n",
       "    }\n",
       "\n",
       "    .dataframe tbody tr th {\n",
       "        vertical-align: top;\n",
       "    }\n",
       "\n",
       "    .dataframe thead th {\n",
       "        text-align: right;\n",
       "    }\n",
       "</style>\n",
       "<table border=\"1\" class=\"dataframe\">\n",
       "  <thead>\n",
       "    <tr style=\"text-align: right;\">\n",
       "      <th></th>\n",
       "      <th>Country</th>\n",
       "      <th>GDP Growth Rate % [2014]</th>\n",
       "      <th>GDP Growth Rate % [2015]</th>\n",
       "      <th>GDP Growth Rate % [2016]</th>\n",
       "      <th>GDP Growth Rate % [2017]</th>\n",
       "      <th>GDP Growth Rate % [2018]</th>\n",
       "      <th>GDP Growth Rate % [2019]</th>\n",
       "      <th>GDP Growth Rate % [2020]</th>\n",
       "      <th>GDP Growth Rate % [2021]</th>\n",
       "      <th>GDP Growth Rate % [2022]</th>\n",
       "      <th>GDP Growth Rate % [2023]</th>\n",
       "      <th>Unemployment Rate [2014]</th>\n",
       "      <th>Unemployment Rate [2015]</th>\n",
       "      <th>Unemployment Rate [2016]</th>\n",
       "      <th>Unemployment Rate [2017]</th>\n",
       "      <th>Unemployment Rate [2018]</th>\n",
       "      <th>Unemployment Rate [2019]</th>\n",
       "      <th>Unemployment Rate [2020]</th>\n",
       "      <th>Unemployment Rate [2021]</th>\n",
       "      <th>Unemployment Rate [2022]</th>\n",
       "      <th>Unemployment Rate [2023]</th>\n",
       "    </tr>\n",
       "  </thead>\n",
       "  <tbody>\n",
       "    <tr>\n",
       "      <th>0</th>\n",
       "      <td>BAHAMAS</td>\n",
       "      <td>1.8</td>\n",
       "      <td>1.0</td>\n",
       "      <td>-1.0</td>\n",
       "      <td>2.8</td>\n",
       "      <td>2.6</td>\n",
       "      <td>-1.4</td>\n",
       "      <td>-21.4</td>\n",
       "      <td>15.4</td>\n",
       "      <td>10.8</td>\n",
       "      <td>2.6</td>\n",
       "      <td>20.36875</td>\n",
       "      <td>17.64200</td>\n",
       "      <td>18.70000</td>\n",
       "      <td>15.17050</td>\n",
       "      <td>16.08600</td>\n",
       "      <td>16.11975</td>\n",
       "      <td>20.14600</td>\n",
       "      <td>18.51450</td>\n",
       "      <td>16.70025</td>\n",
       "      <td>15.81775</td>\n",
       "    </tr>\n",
       "    <tr>\n",
       "      <th>1</th>\n",
       "      <td>BARBADOS</td>\n",
       "      <td>0.2</td>\n",
       "      <td>-0.8</td>\n",
       "      <td>1.8</td>\n",
       "      <td>0.1</td>\n",
       "      <td>-1.2</td>\n",
       "      <td>0.7</td>\n",
       "      <td>-15.1</td>\n",
       "      <td>-0.3</td>\n",
       "      <td>17.8</td>\n",
       "      <td>4.1</td>\n",
       "      <td>21.10650</td>\n",
       "      <td>18.10650</td>\n",
       "      <td>16.10475</td>\n",
       "      <td>16.30000</td>\n",
       "      <td>15.19075</td>\n",
       "      <td>15.72550</td>\n",
       "      <td>18.22500</td>\n",
       "      <td>17.41250</td>\n",
       "      <td>16.09375</td>\n",
       "      <td>15.12725</td>\n",
       "    </tr>\n",
       "    <tr>\n",
       "      <th>2</th>\n",
       "      <td>BELIZE</td>\n",
       "      <td>4.0</td>\n",
       "      <td>3.2</td>\n",
       "      <td>0.0</td>\n",
       "      <td>-1.8</td>\n",
       "      <td>1.1</td>\n",
       "      <td>4.2</td>\n",
       "      <td>-13.7</td>\n",
       "      <td>17.9</td>\n",
       "      <td>9.8</td>\n",
       "      <td>1.1</td>\n",
       "      <td>13.45525</td>\n",
       "      <td>12.05800</td>\n",
       "      <td>11.91500</td>\n",
       "      <td>11.13825</td>\n",
       "      <td>12.83425</td>\n",
       "      <td>14.33025</td>\n",
       "      <td>16.28400</td>\n",
       "      <td>14.91050</td>\n",
       "      <td>13.21900</td>\n",
       "      <td>12.74750</td>\n",
       "    </tr>\n",
       "    <tr>\n",
       "      <th>3</th>\n",
       "      <td>CANADA</td>\n",
       "      <td>2.9</td>\n",
       "      <td>0.6</td>\n",
       "      <td>1.0</td>\n",
       "      <td>3.0</td>\n",
       "      <td>2.7</td>\n",
       "      <td>1.9</td>\n",
       "      <td>-5.0</td>\n",
       "      <td>5.3</td>\n",
       "      <td>3.8</td>\n",
       "      <td>1.2</td>\n",
       "      <td>9.55575</td>\n",
       "      <td>9.33150</td>\n",
       "      <td>9.32425</td>\n",
       "      <td>8.41225</td>\n",
       "      <td>7.86700</td>\n",
       "      <td>7.78450</td>\n",
       "      <td>14.05950</td>\n",
       "      <td>10.05725</td>\n",
       "      <td>7.30575</td>\n",
       "      <td>7.58400</td>\n",
       "    </tr>\n",
       "    <tr>\n",
       "      <th>4</th>\n",
       "      <td>COSTA RICA</td>\n",
       "      <td>3.5</td>\n",
       "      <td>3.7</td>\n",
       "      <td>4.2</td>\n",
       "      <td>4.2</td>\n",
       "      <td>2.6</td>\n",
       "      <td>2.4</td>\n",
       "      <td>-4.3</td>\n",
       "      <td>7.9</td>\n",
       "      <td>4.6</td>\n",
       "      <td>5.1</td>\n",
       "      <td>15.41425</td>\n",
       "      <td>14.58725</td>\n",
       "      <td>14.43900</td>\n",
       "      <td>13.77375</td>\n",
       "      <td>16.44825</td>\n",
       "      <td>19.96800</td>\n",
       "      <td>27.36175</td>\n",
       "      <td>26.00500</td>\n",
       "      <td>20.25850</td>\n",
       "      <td>15.83050</td>\n",
       "    </tr>\n",
       "  </tbody>\n",
       "</table>\n",
       "</div>"
      ],
      "text/plain": [
       "      Country  GDP Growth Rate % [2014]  GDP Growth Rate % [2015]  \\\n",
       "0     BAHAMAS                       1.8                       1.0   \n",
       "1    BARBADOS                       0.2                      -0.8   \n",
       "2      BELIZE                       4.0                       3.2   \n",
       "3      CANADA                       2.9                       0.6   \n",
       "4  COSTA RICA                       3.5                       3.7   \n",
       "\n",
       "   GDP Growth Rate % [2016]  GDP Growth Rate % [2017]  \\\n",
       "0                      -1.0                       2.8   \n",
       "1                       1.8                       0.1   \n",
       "2                       0.0                      -1.8   \n",
       "3                       1.0                       3.0   \n",
       "4                       4.2                       4.2   \n",
       "\n",
       "   GDP Growth Rate % [2018]  GDP Growth Rate % [2019]  \\\n",
       "0                       2.6                      -1.4   \n",
       "1                      -1.2                       0.7   \n",
       "2                       1.1                       4.2   \n",
       "3                       2.7                       1.9   \n",
       "4                       2.6                       2.4   \n",
       "\n",
       "   GDP Growth Rate % [2020]  GDP Growth Rate % [2021]  \\\n",
       "0                     -21.4                      15.4   \n",
       "1                     -15.1                      -0.3   \n",
       "2                     -13.7                      17.9   \n",
       "3                      -5.0                       5.3   \n",
       "4                      -4.3                       7.9   \n",
       "\n",
       "   GDP Growth Rate % [2022]  GDP Growth Rate % [2023]  \\\n",
       "0                      10.8                       2.6   \n",
       "1                      17.8                       4.1   \n",
       "2                       9.8                       1.1   \n",
       "3                       3.8                       1.2   \n",
       "4                       4.6                       5.1   \n",
       "\n",
       "   Unemployment Rate [2014]  Unemployment Rate [2015]  \\\n",
       "0                  20.36875                  17.64200   \n",
       "1                  21.10650                  18.10650   \n",
       "2                  13.45525                  12.05800   \n",
       "3                   9.55575                   9.33150   \n",
       "4                  15.41425                  14.58725   \n",
       "\n",
       "   Unemployment Rate [2016]  Unemployment Rate [2017]  \\\n",
       "0                  18.70000                  15.17050   \n",
       "1                  16.10475                  16.30000   \n",
       "2                  11.91500                  11.13825   \n",
       "3                   9.32425                   8.41225   \n",
       "4                  14.43900                  13.77375   \n",
       "\n",
       "   Unemployment Rate [2018]  Unemployment Rate [2019]  \\\n",
       "0                  16.08600                  16.11975   \n",
       "1                  15.19075                  15.72550   \n",
       "2                  12.83425                  14.33025   \n",
       "3                   7.86700                   7.78450   \n",
       "4                  16.44825                  19.96800   \n",
       "\n",
       "   Unemployment Rate [2020]  Unemployment Rate [2021]  \\\n",
       "0                  20.14600                  18.51450   \n",
       "1                  18.22500                  17.41250   \n",
       "2                  16.28400                  14.91050   \n",
       "3                  14.05950                  10.05725   \n",
       "4                  27.36175                  26.00500   \n",
       "\n",
       "   Unemployment Rate [2022]  Unemployment Rate [2023]  \n",
       "0                  16.70025                  15.81775  \n",
       "1                  16.09375                  15.12725  \n",
       "2                  13.21900                  12.74750  \n",
       "3                   7.30575                   7.58400  \n",
       "4                  20.25850                  15.83050  "
      ]
     },
     "execution_count": 74,
     "metadata": {},
     "output_type": "execute_result"
    }
   ],
   "source": [
    "# Extracting North American Countries for Combined Dataset\n",
    "northam_df = gdp_unemp[(gdp_unemp['Continent'] == 'NAM')]\n",
    "\n",
    "# Aggregating Countries\n",
    "northam_mean_reset = (\n",
    "    northam_df\n",
    "    .groupby('Country', as_index=False)\n",
    "    .mean(numeric_only=True)  # Calculate the mean for numeric columns only\n",
    ")\n",
    "# Display the first few rows\n",
    "northam_mean_reset.head()"
   ]
  },
  {
   "cell_type": "code",
   "execution_count": 75,
   "metadata": {},
   "outputs": [
    {
     "data": {
      "text/html": [
       "<div>\n",
       "<style scoped>\n",
       "    .dataframe tbody tr th:only-of-type {\n",
       "        vertical-align: middle;\n",
       "    }\n",
       "\n",
       "    .dataframe tbody tr th {\n",
       "        vertical-align: top;\n",
       "    }\n",
       "\n",
       "    .dataframe thead th {\n",
       "        text-align: right;\n",
       "    }\n",
       "</style>\n",
       "<table border=\"1\" class=\"dataframe\">\n",
       "  <thead>\n",
       "    <tr style=\"text-align: right;\">\n",
       "      <th></th>\n",
       "      <th></th>\n",
       "      <th>GDP Growth Rate</th>\n",
       "      <th>Unemployment Rate</th>\n",
       "    </tr>\n",
       "    <tr>\n",
       "      <th>Country</th>\n",
       "      <th>Year</th>\n",
       "      <th></th>\n",
       "      <th></th>\n",
       "    </tr>\n",
       "  </thead>\n",
       "  <tbody>\n",
       "    <tr>\n",
       "      <th>BAHAMAS</th>\n",
       "      <th>2014</th>\n",
       "      <td>1.8</td>\n",
       "      <td>20.36875</td>\n",
       "    </tr>\n",
       "    <tr>\n",
       "      <th>BARBADOS</th>\n",
       "      <th>2014</th>\n",
       "      <td>0.2</td>\n",
       "      <td>21.10650</td>\n",
       "    </tr>\n",
       "    <tr>\n",
       "      <th>BELIZE</th>\n",
       "      <th>2014</th>\n",
       "      <td>4.0</td>\n",
       "      <td>13.45525</td>\n",
       "    </tr>\n",
       "    <tr>\n",
       "      <th>CANADA</th>\n",
       "      <th>2014</th>\n",
       "      <td>2.9</td>\n",
       "      <td>9.55575</td>\n",
       "    </tr>\n",
       "    <tr>\n",
       "      <th>COSTA RICA</th>\n",
       "      <th>2014</th>\n",
       "      <td>3.5</td>\n",
       "      <td>15.41425</td>\n",
       "    </tr>\n",
       "  </tbody>\n",
       "</table>\n",
       "</div>"
      ],
      "text/plain": [
       "                 GDP Growth Rate  Unemployment Rate\n",
       "Country    Year                                    \n",
       "BAHAMAS    2014              1.8           20.36875\n",
       "BARBADOS   2014              0.2           21.10650\n",
       "BELIZE     2014              4.0           13.45525\n",
       "CANADA     2014              2.9            9.55575\n",
       "COSTA RICA 2014              3.5           15.41425"
      ]
     },
     "execution_count": 75,
     "metadata": {},
     "output_type": "execute_result"
    }
   ],
   "source": [
    "# Reshape GDP Growth Rate\n",
    "northam_gdp_long = northam_mean_reset.melt(id_vars=['Country'], \n",
    "                   value_vars=[col for col in northam_mean_reset.columns if 'GDP Growth Rate' in col],\n",
    "                   var_name='Year', value_name='GDP Growth Rate')\n",
    "\n",
    "# Reshape Unemployment Rate\n",
    "northam_unemp_long = northam_mean_reset.melt(id_vars=['Country'], \n",
    "                     value_vars=[col for col in northam_mean_reset.columns if 'Unemployment Rate' in col],\n",
    "                     var_name='Year', value_name='Unemployment Rate')\n",
    "\n",
    "# Merge the two datasets\n",
    "northam_gdp_long['Year'] = northam_gdp_long['Year'].str.extract(r'(\\d{4})').astype(int)\n",
    "northam_unemp_long['Year'] = northam_unemp_long['Year'].str.extract(r'(\\d{4})').astype(int)\n",
    "northam_merged_df = pd.merge(northam_gdp_long, northam_unemp_long, on=['Country', 'Year'])\n",
    "\n",
    "# Ensure 'Country' and 'Year' are the multi-index\n",
    "northam_merged_df = northam_merged_df.set_index(['Country', 'Year'])\n",
    "northam_merged_df.head()"
   ]
  },
  {
   "cell_type": "code",
   "execution_count": 76,
   "metadata": {},
   "outputs": [
    {
     "name": "stdout",
     "output_type": "stream",
     "text": [
      "                           PanelOLS Estimation Summary                            \n",
      "==================================================================================\n",
      "Dep. Variable:     Q('GDP Growth Rate')   R-squared:                        0.0934\n",
      "Estimator:                     PanelOLS   R-squared (Between):             -22.563\n",
      "No. Observations:                   190   R-squared (Within):               0.0934\n",
      "Date:                  Fri, Dec 06 2024   R-squared (Overall):             -4.2011\n",
      "Time:                          22:57:03   Log-likelihood                   -579.34\n",
      "Cov. Estimator:              Unadjusted                                           \n",
      "                                          F-statistic:                      17.515\n",
      "Entities:                            19   P-value                           0.0000\n",
      "Avg Obs:                        10.0000   Distribution:                   F(1,170)\n",
      "Min Obs:                        10.0000                                           \n",
      "Max Obs:                        10.0000   F-statistic (robust):             17.515\n",
      "                                          P-value                           0.0000\n",
      "Time periods:                        10   Distribution:                   F(1,170)\n",
      "Avg Obs:                         19.000                                           \n",
      "Min Obs:                         19.000                                           \n",
      "Max Obs:                         19.000                                           \n",
      "                                                                                  \n",
      "                                   Parameter Estimates                                    \n",
      "==========================================================================================\n",
      "                        Parameter  Std. Err.     T-stat    P-value    Lower CI    Upper CI\n",
      "------------------------------------------------------------------------------------------\n",
      "Q('Unemployment Rate')    -0.7201     0.1721    -4.1851     0.0000     -1.0597     -0.3804\n",
      "==========================================================================================\n",
      "\n",
      "F-test for Poolability: 1.7785\n",
      "P-value: 0.0313\n",
      "Distribution: F(18,170)\n",
      "\n",
      "Included effects: Entity\n"
     ]
    }
   ],
   "source": [
    "# Fixed Effects Model\n",
    "northam_fe_model = PanelOLS.from_formula('Q(\"GDP Growth Rate\") ~ Q(\"Unemployment Rate\") + EntityEffects', data=northam_merged_df)\n",
    "northam_fe_res = northam_fe_model.fit()\n",
    "\n",
    "# Display the results\n",
    "print(northam_fe_res)"
   ]
  },
  {
   "cell_type": "markdown",
   "metadata": {},
   "source": [
    "#### South America"
   ]
  },
  {
   "cell_type": "code",
   "execution_count": 77,
   "metadata": {},
   "outputs": [
    {
     "data": {
      "text/html": [
       "<div>\n",
       "<style scoped>\n",
       "    .dataframe tbody tr th:only-of-type {\n",
       "        vertical-align: middle;\n",
       "    }\n",
       "\n",
       "    .dataframe tbody tr th {\n",
       "        vertical-align: top;\n",
       "    }\n",
       "\n",
       "    .dataframe thead th {\n",
       "        text-align: right;\n",
       "    }\n",
       "</style>\n",
       "<table border=\"1\" class=\"dataframe\">\n",
       "  <thead>\n",
       "    <tr style=\"text-align: right;\">\n",
       "      <th></th>\n",
       "      <th>Country</th>\n",
       "      <th>GDP Growth Rate % [2014]</th>\n",
       "      <th>GDP Growth Rate % [2015]</th>\n",
       "      <th>GDP Growth Rate % [2016]</th>\n",
       "      <th>GDP Growth Rate % [2017]</th>\n",
       "      <th>GDP Growth Rate % [2018]</th>\n",
       "      <th>GDP Growth Rate % [2019]</th>\n",
       "      <th>GDP Growth Rate % [2020]</th>\n",
       "      <th>GDP Growth Rate % [2021]</th>\n",
       "      <th>GDP Growth Rate % [2022]</th>\n",
       "      <th>GDP Growth Rate % [2023]</th>\n",
       "      <th>Unemployment Rate [2014]</th>\n",
       "      <th>Unemployment Rate [2015]</th>\n",
       "      <th>Unemployment Rate [2016]</th>\n",
       "      <th>Unemployment Rate [2017]</th>\n",
       "      <th>Unemployment Rate [2018]</th>\n",
       "      <th>Unemployment Rate [2019]</th>\n",
       "      <th>Unemployment Rate [2020]</th>\n",
       "      <th>Unemployment Rate [2021]</th>\n",
       "      <th>Unemployment Rate [2022]</th>\n",
       "      <th>Unemployment Rate [2023]</th>\n",
       "    </tr>\n",
       "  </thead>\n",
       "  <tbody>\n",
       "    <tr>\n",
       "      <th>0</th>\n",
       "      <td>ARGENTINA</td>\n",
       "      <td>-2.5</td>\n",
       "      <td>2.7</td>\n",
       "      <td>-2.1</td>\n",
       "      <td>2.8</td>\n",
       "      <td>-2.6</td>\n",
       "      <td>-2.0</td>\n",
       "      <td>-9.9</td>\n",
       "      <td>10.4</td>\n",
       "      <td>5.3</td>\n",
       "      <td>-1.6</td>\n",
       "      <td>12.57825</td>\n",
       "      <td>13.26225</td>\n",
       "      <td>14.21925</td>\n",
       "      <td>14.84425</td>\n",
       "      <td>15.75250</td>\n",
       "      <td>16.87075</td>\n",
       "      <td>20.02625</td>\n",
       "      <td>15.32050</td>\n",
       "      <td>12.25650</td>\n",
       "      <td>12.13175</td>\n",
       "    </tr>\n",
       "    <tr>\n",
       "      <th>1</th>\n",
       "      <td>BOLIVIA</td>\n",
       "      <td>5.5</td>\n",
       "      <td>4.9</td>\n",
       "      <td>4.3</td>\n",
       "      <td>4.2</td>\n",
       "      <td>4.2</td>\n",
       "      <td>2.2</td>\n",
       "      <td>-8.7</td>\n",
       "      <td>6.1</td>\n",
       "      <td>3.6</td>\n",
       "      <td>3.1</td>\n",
       "      <td>3.16275</td>\n",
       "      <td>4.70700</td>\n",
       "      <td>4.84950</td>\n",
       "      <td>4.88150</td>\n",
       "      <td>4.75300</td>\n",
       "      <td>4.99025</td>\n",
       "      <td>10.90500</td>\n",
       "      <td>6.47025</td>\n",
       "      <td>4.70725</td>\n",
       "      <td>5.38025</td>\n",
       "    </tr>\n",
       "    <tr>\n",
       "      <th>2</th>\n",
       "      <td>BRAZIL</td>\n",
       "      <td>0.5</td>\n",
       "      <td>-3.5</td>\n",
       "      <td>-3.3</td>\n",
       "      <td>1.3</td>\n",
       "      <td>1.8</td>\n",
       "      <td>1.2</td>\n",
       "      <td>-3.3</td>\n",
       "      <td>4.8</td>\n",
       "      <td>3.0</td>\n",
       "      <td>2.9</td>\n",
       "      <td>10.39725</td>\n",
       "      <td>13.11075</td>\n",
       "      <td>17.74300</td>\n",
       "      <td>19.25425</td>\n",
       "      <td>18.75525</td>\n",
       "      <td>18.23525</td>\n",
       "      <td>20.74675</td>\n",
       "      <td>19.62800</td>\n",
       "      <td>14.12400</td>\n",
       "      <td>12.04225</td>\n",
       "    </tr>\n",
       "    <tr>\n",
       "      <th>3</th>\n",
       "      <td>CHILE</td>\n",
       "      <td>1.8</td>\n",
       "      <td>2.2</td>\n",
       "      <td>1.8</td>\n",
       "      <td>1.4</td>\n",
       "      <td>4.0</td>\n",
       "      <td>0.6</td>\n",
       "      <td>-6.1</td>\n",
       "      <td>11.3</td>\n",
       "      <td>2.1</td>\n",
       "      <td>0.2</td>\n",
       "      <td>11.33900</td>\n",
       "      <td>10.86275</td>\n",
       "      <td>10.94925</td>\n",
       "      <td>11.55400</td>\n",
       "      <td>12.13600</td>\n",
       "      <td>12.83275</td>\n",
       "      <td>17.22675</td>\n",
       "      <td>14.55125</td>\n",
       "      <td>12.97000</td>\n",
       "      <td>14.99500</td>\n",
       "    </tr>\n",
       "    <tr>\n",
       "      <th>4</th>\n",
       "      <td>COLOMBIA</td>\n",
       "      <td>4.5</td>\n",
       "      <td>3.0</td>\n",
       "      <td>2.1</td>\n",
       "      <td>1.4</td>\n",
       "      <td>2.6</td>\n",
       "      <td>3.2</td>\n",
       "      <td>-7.2</td>\n",
       "      <td>10.8</td>\n",
       "      <td>7.3</td>\n",
       "      <td>0.6</td>\n",
       "      <td>12.99225</td>\n",
       "      <td>12.56425</td>\n",
       "      <td>13.12950</td>\n",
       "      <td>13.37575</td>\n",
       "      <td>13.98800</td>\n",
       "      <td>15.05625</td>\n",
       "      <td>21.44175</td>\n",
       "      <td>19.14225</td>\n",
       "      <td>15.47950</td>\n",
       "      <td>14.01900</td>\n",
       "    </tr>\n",
       "  </tbody>\n",
       "</table>\n",
       "</div>"
      ],
      "text/plain": [
       "     Country  GDP Growth Rate % [2014]  GDP Growth Rate % [2015]  \\\n",
       "0  ARGENTINA                      -2.5                       2.7   \n",
       "1    BOLIVIA                       5.5                       4.9   \n",
       "2     BRAZIL                       0.5                      -3.5   \n",
       "3      CHILE                       1.8                       2.2   \n",
       "4   COLOMBIA                       4.5                       3.0   \n",
       "\n",
       "   GDP Growth Rate % [2016]  GDP Growth Rate % [2017]  \\\n",
       "0                      -2.1                       2.8   \n",
       "1                       4.3                       4.2   \n",
       "2                      -3.3                       1.3   \n",
       "3                       1.8                       1.4   \n",
       "4                       2.1                       1.4   \n",
       "\n",
       "   GDP Growth Rate % [2018]  GDP Growth Rate % [2019]  \\\n",
       "0                      -2.6                      -2.0   \n",
       "1                       4.2                       2.2   \n",
       "2                       1.8                       1.2   \n",
       "3                       4.0                       0.6   \n",
       "4                       2.6                       3.2   \n",
       "\n",
       "   GDP Growth Rate % [2020]  GDP Growth Rate % [2021]  \\\n",
       "0                      -9.9                      10.4   \n",
       "1                      -8.7                       6.1   \n",
       "2                      -3.3                       4.8   \n",
       "3                      -6.1                      11.3   \n",
       "4                      -7.2                      10.8   \n",
       "\n",
       "   GDP Growth Rate % [2022]  GDP Growth Rate % [2023]  \\\n",
       "0                       5.3                      -1.6   \n",
       "1                       3.6                       3.1   \n",
       "2                       3.0                       2.9   \n",
       "3                       2.1                       0.2   \n",
       "4                       7.3                       0.6   \n",
       "\n",
       "   Unemployment Rate [2014]  Unemployment Rate [2015]  \\\n",
       "0                  12.57825                  13.26225   \n",
       "1                   3.16275                   4.70700   \n",
       "2                  10.39725                  13.11075   \n",
       "3                  11.33900                  10.86275   \n",
       "4                  12.99225                  12.56425   \n",
       "\n",
       "   Unemployment Rate [2016]  Unemployment Rate [2017]  \\\n",
       "0                  14.21925                  14.84425   \n",
       "1                   4.84950                   4.88150   \n",
       "2                  17.74300                  19.25425   \n",
       "3                  10.94925                  11.55400   \n",
       "4                  13.12950                  13.37575   \n",
       "\n",
       "   Unemployment Rate [2018]  Unemployment Rate [2019]  \\\n",
       "0                  15.75250                  16.87075   \n",
       "1                   4.75300                   4.99025   \n",
       "2                  18.75525                  18.23525   \n",
       "3                  12.13600                  12.83275   \n",
       "4                  13.98800                  15.05625   \n",
       "\n",
       "   Unemployment Rate [2020]  Unemployment Rate [2021]  \\\n",
       "0                  20.02625                  15.32050   \n",
       "1                  10.90500                   6.47025   \n",
       "2                  20.74675                  19.62800   \n",
       "3                  17.22675                  14.55125   \n",
       "4                  21.44175                  19.14225   \n",
       "\n",
       "   Unemployment Rate [2022]  Unemployment Rate [2023]  \n",
       "0                  12.25650                  12.13175  \n",
       "1                   4.70725                   5.38025  \n",
       "2                  14.12400                  12.04225  \n",
       "3                  12.97000                  14.99500  \n",
       "4                  15.47950                  14.01900  "
      ]
     },
     "execution_count": 77,
     "metadata": {},
     "output_type": "execute_result"
    }
   ],
   "source": [
    "# Extracting South American Countries for Combined Dataset\n",
    "southam_df = gdp_unemp[(gdp_unemp['Continent'] == 'SAM')]\n",
    "\n",
    "# Aggregating Countries\n",
    "southam_mean_reset = (\n",
    "    southam_df\n",
    "    .groupby('Country', as_index=False)\n",
    "    .mean(numeric_only=True)  # Calculate the mean for numeric columns only\n",
    ")\n",
    "# Display the first few rows\n",
    "southam_mean_reset.head()"
   ]
  },
  {
   "cell_type": "code",
   "execution_count": 78,
   "metadata": {},
   "outputs": [
    {
     "data": {
      "text/html": [
       "<div>\n",
       "<style scoped>\n",
       "    .dataframe tbody tr th:only-of-type {\n",
       "        vertical-align: middle;\n",
       "    }\n",
       "\n",
       "    .dataframe tbody tr th {\n",
       "        vertical-align: top;\n",
       "    }\n",
       "\n",
       "    .dataframe thead th {\n",
       "        text-align: right;\n",
       "    }\n",
       "</style>\n",
       "<table border=\"1\" class=\"dataframe\">\n",
       "  <thead>\n",
       "    <tr style=\"text-align: right;\">\n",
       "      <th></th>\n",
       "      <th></th>\n",
       "      <th>GDP Growth Rate</th>\n",
       "      <th>Unemployment Rate</th>\n",
       "    </tr>\n",
       "    <tr>\n",
       "      <th>Country</th>\n",
       "      <th>Year</th>\n",
       "      <th></th>\n",
       "      <th></th>\n",
       "    </tr>\n",
       "  </thead>\n",
       "  <tbody>\n",
       "    <tr>\n",
       "      <th>ARGENTINA</th>\n",
       "      <th>2014</th>\n",
       "      <td>-2.5</td>\n",
       "      <td>12.57825</td>\n",
       "    </tr>\n",
       "    <tr>\n",
       "      <th>BOLIVIA</th>\n",
       "      <th>2014</th>\n",
       "      <td>5.5</td>\n",
       "      <td>3.16275</td>\n",
       "    </tr>\n",
       "    <tr>\n",
       "      <th>BRAZIL</th>\n",
       "      <th>2014</th>\n",
       "      <td>0.5</td>\n",
       "      <td>10.39725</td>\n",
       "    </tr>\n",
       "    <tr>\n",
       "      <th>CHILE</th>\n",
       "      <th>2014</th>\n",
       "      <td>1.8</td>\n",
       "      <td>11.33900</td>\n",
       "    </tr>\n",
       "    <tr>\n",
       "      <th>COLOMBIA</th>\n",
       "      <th>2014</th>\n",
       "      <td>4.5</td>\n",
       "      <td>12.99225</td>\n",
       "    </tr>\n",
       "  </tbody>\n",
       "</table>\n",
       "</div>"
      ],
      "text/plain": [
       "                GDP Growth Rate  Unemployment Rate\n",
       "Country   Year                                    \n",
       "ARGENTINA 2014             -2.5           12.57825\n",
       "BOLIVIA   2014              5.5            3.16275\n",
       "BRAZIL    2014              0.5           10.39725\n",
       "CHILE     2014              1.8           11.33900\n",
       "COLOMBIA  2014              4.5           12.99225"
      ]
     },
     "execution_count": 78,
     "metadata": {},
     "output_type": "execute_result"
    }
   ],
   "source": [
    "# Reshape GDP Growth Rate\n",
    "southam_gdp_long = southam_mean_reset.melt(id_vars=['Country'], \n",
    "                   value_vars=[col for col in southam_mean_reset.columns if 'GDP Growth Rate' in col],\n",
    "                   var_name='Year', value_name='GDP Growth Rate')\n",
    "\n",
    "# Reshape Unemployment Rate\n",
    "southam_unemp_long = southam_mean_reset.melt(id_vars=['Country'], \n",
    "                     value_vars=[col for col in southam_mean_reset.columns if 'Unemployment Rate' in col],\n",
    "                     var_name='Year', value_name='Unemployment Rate')\n",
    "\n",
    "# Merge the two datasets\n",
    "southam_gdp_long['Year'] = southam_gdp_long['Year'].str.extract(r'(\\d{4})').astype(int)\n",
    "southam_unemp_long['Year'] = southam_unemp_long['Year'].str.extract(r'(\\d{4})').astype(int)\n",
    "southam_merged_df = pd.merge(southam_gdp_long, southam_unemp_long, on=['Country', 'Year'])\n",
    "\n",
    "# Ensure 'Country' and 'Year' are the multi-index\n",
    "southam_merged_df = southam_merged_df.set_index(['Country', 'Year'])\n",
    "southam_merged_df.head()"
   ]
  },
  {
   "cell_type": "code",
   "execution_count": 79,
   "metadata": {},
   "outputs": [
    {
     "name": "stdout",
     "output_type": "stream",
     "text": [
      "                           PanelOLS Estimation Summary                            \n",
      "==================================================================================\n",
      "Dep. Variable:     Q('GDP Growth Rate')   R-squared:                        0.0263\n",
      "Estimator:                     PanelOLS   R-squared (Between):             -2.6062\n",
      "No. Observations:                   120   R-squared (Within):               0.0263\n",
      "Date:                  Fri, Dec 06 2024   R-squared (Overall):             -0.9839\n",
      "Time:                          22:57:03   Log-likelihood                   -417.83\n",
      "Cov. Estimator:              Unadjusted                                           \n",
      "                                          F-statistic:                      2.8874\n",
      "Entities:                            12   P-value                           0.0922\n",
      "Avg Obs:                        10.0000   Distribution:                   F(1,107)\n",
      "Min Obs:                        10.0000                                           \n",
      "Max Obs:                        10.0000   F-statistic (robust):             2.8874\n",
      "                                          P-value                           0.0922\n",
      "Time periods:                        10   Distribution:                   F(1,107)\n",
      "Avg Obs:                         12.000                                           \n",
      "Min Obs:                         12.000                                           \n",
      "Max Obs:                         12.000                                           \n",
      "                                                                                  \n",
      "                                   Parameter Estimates                                    \n",
      "==========================================================================================\n",
      "                        Parameter  Std. Err.     T-stat    P-value    Lower CI    Upper CI\n",
      "------------------------------------------------------------------------------------------\n",
      "Q('Unemployment Rate')    -0.6223     0.3662    -1.6992     0.0922     -1.3483      0.1037\n",
      "==========================================================================================\n",
      "\n",
      "F-test for Poolability: 5.7385\n",
      "P-value: 0.0000\n",
      "Distribution: F(11,107)\n",
      "\n",
      "Included effects: Entity\n"
     ]
    }
   ],
   "source": [
    "# Fixed Effects Model\n",
    "southam_fe_model = PanelOLS.from_formula('Q(\"GDP Growth Rate\") ~ Q(\"Unemployment Rate\") + EntityEffects', data=southam_merged_df)\n",
    "southam_fe_res = southam_fe_model.fit()\n",
    "\n",
    "# Display the results\n",
    "print(southam_fe_res)"
   ]
  },
  {
   "cell_type": "markdown",
   "metadata": {},
   "source": [
    "#### Africa"
   ]
  },
  {
   "cell_type": "code",
   "execution_count": 80,
   "metadata": {},
   "outputs": [
    {
     "data": {
      "text/html": [
       "<div>\n",
       "<style scoped>\n",
       "    .dataframe tbody tr th:only-of-type {\n",
       "        vertical-align: middle;\n",
       "    }\n",
       "\n",
       "    .dataframe tbody tr th {\n",
       "        vertical-align: top;\n",
       "    }\n",
       "\n",
       "    .dataframe thead th {\n",
       "        text-align: right;\n",
       "    }\n",
       "</style>\n",
       "<table border=\"1\" class=\"dataframe\">\n",
       "  <thead>\n",
       "    <tr style=\"text-align: right;\">\n",
       "      <th></th>\n",
       "      <th>Country</th>\n",
       "      <th>GDP Growth Rate % [2014]</th>\n",
       "      <th>GDP Growth Rate % [2015]</th>\n",
       "      <th>GDP Growth Rate % [2016]</th>\n",
       "      <th>GDP Growth Rate % [2017]</th>\n",
       "      <th>GDP Growth Rate % [2018]</th>\n",
       "      <th>GDP Growth Rate % [2019]</th>\n",
       "      <th>GDP Growth Rate % [2020]</th>\n",
       "      <th>GDP Growth Rate % [2021]</th>\n",
       "      <th>GDP Growth Rate % [2022]</th>\n",
       "      <th>GDP Growth Rate % [2023]</th>\n",
       "      <th>Unemployment Rate [2014]</th>\n",
       "      <th>Unemployment Rate [2015]</th>\n",
       "      <th>Unemployment Rate [2016]</th>\n",
       "      <th>Unemployment Rate [2017]</th>\n",
       "      <th>Unemployment Rate [2018]</th>\n",
       "      <th>Unemployment Rate [2019]</th>\n",
       "      <th>Unemployment Rate [2020]</th>\n",
       "      <th>Unemployment Rate [2021]</th>\n",
       "      <th>Unemployment Rate [2022]</th>\n",
       "      <th>Unemployment Rate [2023]</th>\n",
       "    </tr>\n",
       "  </thead>\n",
       "  <tbody>\n",
       "    <tr>\n",
       "      <th>0</th>\n",
       "      <td>ALGERIA</td>\n",
       "      <td>4.1</td>\n",
       "      <td>3.2</td>\n",
       "      <td>3.9</td>\n",
       "      <td>1.5</td>\n",
       "      <td>1.4</td>\n",
       "      <td>0.9</td>\n",
       "      <td>-5.0</td>\n",
       "      <td>3.8</td>\n",
       "      <td>3.6</td>\n",
       "      <td>4.1</td>\n",
       "      <td>20.07875</td>\n",
       "      <td>22.77475</td>\n",
       "      <td>21.74250</td>\n",
       "      <td>24.38900</td>\n",
       "      <td>24.75850</td>\n",
       "      <td>25.07025</td>\n",
       "      <td>28.48025</td>\n",
       "      <td>27.43150</td>\n",
       "      <td>25.79900</td>\n",
       "      <td>25.35050</td>\n",
       "    </tr>\n",
       "    <tr>\n",
       "      <th>1</th>\n",
       "      <td>ANGOLA</td>\n",
       "      <td>4.7</td>\n",
       "      <td>0.8</td>\n",
       "      <td>-1.7</td>\n",
       "      <td>-0.1</td>\n",
       "      <td>-0.6</td>\n",
       "      <td>-0.2</td>\n",
       "      <td>-4.0</td>\n",
       "      <td>2.1</td>\n",
       "      <td>4.2</td>\n",
       "      <td>1.0</td>\n",
       "      <td>22.54875</td>\n",
       "      <td>22.49700</td>\n",
       "      <td>22.42900</td>\n",
       "      <td>22.25800</td>\n",
       "      <td>21.98375</td>\n",
       "      <td>21.56400</td>\n",
       "      <td>21.98850</td>\n",
       "      <td>20.55575</td>\n",
       "      <td>19.05525</td>\n",
       "      <td>18.73725</td>\n",
       "    </tr>\n",
       "    <tr>\n",
       "      <th>2</th>\n",
       "      <td>BENIN</td>\n",
       "      <td>6.4</td>\n",
       "      <td>1.8</td>\n",
       "      <td>3.3</td>\n",
       "      <td>5.7</td>\n",
       "      <td>6.7</td>\n",
       "      <td>6.9</td>\n",
       "      <td>3.8</td>\n",
       "      <td>7.2</td>\n",
       "      <td>6.3</td>\n",
       "      <td>6.4</td>\n",
       "      <td>2.77725</td>\n",
       "      <td>2.78275</td>\n",
       "      <td>2.81625</td>\n",
       "      <td>2.71475</td>\n",
       "      <td>2.40550</td>\n",
       "      <td>2.29925</td>\n",
       "      <td>2.66800</td>\n",
       "      <td>2.77975</td>\n",
       "      <td>2.44400</td>\n",
       "      <td>2.33575</td>\n",
       "    </tr>\n",
       "    <tr>\n",
       "      <th>3</th>\n",
       "      <td>BOTSWANA</td>\n",
       "      <td>5.7</td>\n",
       "      <td>-4.9</td>\n",
       "      <td>7.2</td>\n",
       "      <td>4.1</td>\n",
       "      <td>4.2</td>\n",
       "      <td>3.0</td>\n",
       "      <td>-8.7</td>\n",
       "      <td>11.9</td>\n",
       "      <td>5.5</td>\n",
       "      <td>2.7</td>\n",
       "      <td>25.00050</td>\n",
       "      <td>25.48850</td>\n",
       "      <td>25.91825</td>\n",
       "      <td>26.21725</td>\n",
       "      <td>25.96375</td>\n",
       "      <td>26.35950</td>\n",
       "      <td>29.59050</td>\n",
       "      <td>32.02725</td>\n",
       "      <td>31.98825</td>\n",
       "      <td>32.01550</td>\n",
       "    </tr>\n",
       "    <tr>\n",
       "      <th>4</th>\n",
       "      <td>BURKINA FASO</td>\n",
       "      <td>4.3</td>\n",
       "      <td>3.9</td>\n",
       "      <td>6.0</td>\n",
       "      <td>6.2</td>\n",
       "      <td>6.6</td>\n",
       "      <td>5.5</td>\n",
       "      <td>1.9</td>\n",
       "      <td>6.9</td>\n",
       "      <td>1.8</td>\n",
       "      <td>3.1</td>\n",
       "      <td>5.14325</td>\n",
       "      <td>5.42075</td>\n",
       "      <td>5.57025</td>\n",
       "      <td>5.63175</td>\n",
       "      <td>5.64975</td>\n",
       "      <td>5.67650</td>\n",
       "      <td>6.25075</td>\n",
       "      <td>6.39000</td>\n",
       "      <td>6.06200</td>\n",
       "      <td>5.98500</td>\n",
       "    </tr>\n",
       "  </tbody>\n",
       "</table>\n",
       "</div>"
      ],
      "text/plain": [
       "        Country  GDP Growth Rate % [2014]  GDP Growth Rate % [2015]  \\\n",
       "0       ALGERIA                       4.1                       3.2   \n",
       "1        ANGOLA                       4.7                       0.8   \n",
       "2         BENIN                       6.4                       1.8   \n",
       "3      BOTSWANA                       5.7                      -4.9   \n",
       "4  BURKINA FASO                       4.3                       3.9   \n",
       "\n",
       "   GDP Growth Rate % [2016]  GDP Growth Rate % [2017]  \\\n",
       "0                       3.9                       1.5   \n",
       "1                      -1.7                      -0.1   \n",
       "2                       3.3                       5.7   \n",
       "3                       7.2                       4.1   \n",
       "4                       6.0                       6.2   \n",
       "\n",
       "   GDP Growth Rate % [2018]  GDP Growth Rate % [2019]  \\\n",
       "0                       1.4                       0.9   \n",
       "1                      -0.6                      -0.2   \n",
       "2                       6.7                       6.9   \n",
       "3                       4.2                       3.0   \n",
       "4                       6.6                       5.5   \n",
       "\n",
       "   GDP Growth Rate % [2020]  GDP Growth Rate % [2021]  \\\n",
       "0                      -5.0                       3.8   \n",
       "1                      -4.0                       2.1   \n",
       "2                       3.8                       7.2   \n",
       "3                      -8.7                      11.9   \n",
       "4                       1.9                       6.9   \n",
       "\n",
       "   GDP Growth Rate % [2022]  GDP Growth Rate % [2023]  \\\n",
       "0                       3.6                       4.1   \n",
       "1                       4.2                       1.0   \n",
       "2                       6.3                       6.4   \n",
       "3                       5.5                       2.7   \n",
       "4                       1.8                       3.1   \n",
       "\n",
       "   Unemployment Rate [2014]  Unemployment Rate [2015]  \\\n",
       "0                  20.07875                  22.77475   \n",
       "1                  22.54875                  22.49700   \n",
       "2                   2.77725                   2.78275   \n",
       "3                  25.00050                  25.48850   \n",
       "4                   5.14325                   5.42075   \n",
       "\n",
       "   Unemployment Rate [2016]  Unemployment Rate [2017]  \\\n",
       "0                  21.74250                  24.38900   \n",
       "1                  22.42900                  22.25800   \n",
       "2                   2.81625                   2.71475   \n",
       "3                  25.91825                  26.21725   \n",
       "4                   5.57025                   5.63175   \n",
       "\n",
       "   Unemployment Rate [2018]  Unemployment Rate [2019]  \\\n",
       "0                  24.75850                  25.07025   \n",
       "1                  21.98375                  21.56400   \n",
       "2                   2.40550                   2.29925   \n",
       "3                  25.96375                  26.35950   \n",
       "4                   5.64975                   5.67650   \n",
       "\n",
       "   Unemployment Rate [2020]  Unemployment Rate [2021]  \\\n",
       "0                  28.48025                  27.43150   \n",
       "1                  21.98850                  20.55575   \n",
       "2                   2.66800                   2.77975   \n",
       "3                  29.59050                  32.02725   \n",
       "4                   6.25075                   6.39000   \n",
       "\n",
       "   Unemployment Rate [2022]  Unemployment Rate [2023]  \n",
       "0                  25.79900                  25.35050  \n",
       "1                  19.05525                  18.73725  \n",
       "2                   2.44400                   2.33575  \n",
       "3                  31.98825                  32.01550  \n",
       "4                   6.06200                   5.98500  "
      ]
     },
     "execution_count": 80,
     "metadata": {},
     "output_type": "execute_result"
    }
   ],
   "source": [
    "# Extracting African Countries for Combined Dataset\n",
    "africa_df = gdp_unemp[(gdp_unemp['Continent'] == 'AF')]\n",
    "\n",
    "# Aggregating Countries\n",
    "africa_mean_reset = (\n",
    "    africa_df\n",
    "    .groupby('Country', as_index=False)\n",
    "    .mean(numeric_only=True)  # Calculate the mean for numeric columns only\n",
    ")\n",
    "# Display the first few rows\n",
    "africa_mean_reset.head()"
   ]
  },
  {
   "cell_type": "code",
   "execution_count": 81,
   "metadata": {},
   "outputs": [
    {
     "data": {
      "text/html": [
       "<div>\n",
       "<style scoped>\n",
       "    .dataframe tbody tr th:only-of-type {\n",
       "        vertical-align: middle;\n",
       "    }\n",
       "\n",
       "    .dataframe tbody tr th {\n",
       "        vertical-align: top;\n",
       "    }\n",
       "\n",
       "    .dataframe thead th {\n",
       "        text-align: right;\n",
       "    }\n",
       "</style>\n",
       "<table border=\"1\" class=\"dataframe\">\n",
       "  <thead>\n",
       "    <tr style=\"text-align: right;\">\n",
       "      <th></th>\n",
       "      <th></th>\n",
       "      <th>GDP Growth Rate</th>\n",
       "      <th>Unemployment Rate</th>\n",
       "    </tr>\n",
       "    <tr>\n",
       "      <th>Country</th>\n",
       "      <th>Year</th>\n",
       "      <th></th>\n",
       "      <th></th>\n",
       "    </tr>\n",
       "  </thead>\n",
       "  <tbody>\n",
       "    <tr>\n",
       "      <th>ALGERIA</th>\n",
       "      <th>2014</th>\n",
       "      <td>4.1</td>\n",
       "      <td>20.07875</td>\n",
       "    </tr>\n",
       "    <tr>\n",
       "      <th>ANGOLA</th>\n",
       "      <th>2014</th>\n",
       "      <td>4.7</td>\n",
       "      <td>22.54875</td>\n",
       "    </tr>\n",
       "    <tr>\n",
       "      <th>BENIN</th>\n",
       "      <th>2014</th>\n",
       "      <td>6.4</td>\n",
       "      <td>2.77725</td>\n",
       "    </tr>\n",
       "    <tr>\n",
       "      <th>BOTSWANA</th>\n",
       "      <th>2014</th>\n",
       "      <td>5.7</td>\n",
       "      <td>25.00050</td>\n",
       "    </tr>\n",
       "    <tr>\n",
       "      <th>BURKINA FASO</th>\n",
       "      <th>2014</th>\n",
       "      <td>4.3</td>\n",
       "      <td>5.14325</td>\n",
       "    </tr>\n",
       "  </tbody>\n",
       "</table>\n",
       "</div>"
      ],
      "text/plain": [
       "                   GDP Growth Rate  Unemployment Rate\n",
       "Country      Year                                    \n",
       "ALGERIA      2014              4.1           20.07875\n",
       "ANGOLA       2014              4.7           22.54875\n",
       "BENIN        2014              6.4            2.77725\n",
       "BOTSWANA     2014              5.7           25.00050\n",
       "BURKINA FASO 2014              4.3            5.14325"
      ]
     },
     "execution_count": 81,
     "metadata": {},
     "output_type": "execute_result"
    }
   ],
   "source": [
    "# Reshape GDP Growth Rate\n",
    "africa_gdp_long = africa_mean_reset.melt(id_vars=['Country'], \n",
    "                   value_vars=[col for col in africa_mean_reset.columns if 'GDP Growth Rate' in col],\n",
    "                   var_name='Year', value_name='GDP Growth Rate')\n",
    "\n",
    "# Reshape Unemployment Rate\n",
    "africa_unemp_long = africa_mean_reset.melt(id_vars=['Country'], \n",
    "                     value_vars=[col for col in africa_mean_reset.columns if 'Unemployment Rate' in col],\n",
    "                     var_name='Year', value_name='Unemployment Rate')\n",
    "\n",
    "# Merge the two datasets\n",
    "africa_gdp_long['Year'] = africa_gdp_long['Year'].str.extract(r'(\\d{4})').astype(int)\n",
    "africa_unemp_long['Year'] = africa_unemp_long['Year'].str.extract(r'(\\d{4})').astype(int)\n",
    "africa_merged_df = pd.merge(africa_gdp_long, africa_unemp_long, on=['Country', 'Year'])\n",
    "\n",
    "# Ensure 'Country' and 'Year' are the multi-index\n",
    "africa_merged_df = africa_merged_df.set_index(['Country', 'Year'])\n",
    "africa_merged_df.head()"
   ]
  },
  {
   "cell_type": "code",
   "execution_count": 82,
   "metadata": {},
   "outputs": [
    {
     "name": "stdout",
     "output_type": "stream",
     "text": [
      "                           PanelOLS Estimation Summary                            \n",
      "==================================================================================\n",
      "Dep. Variable:     Q('GDP Growth Rate')   R-squared:                        0.0342\n",
      "Estimator:                     PanelOLS   R-squared (Between):             -9.2453\n",
      "No. Observations:                   520   R-squared (Within):               0.0342\n",
      "Date:                  Fri, Dec 06 2024   R-squared (Overall):             -4.1606\n",
      "Time:                          22:57:03   Log-likelihood                   -1472.6\n",
      "Cov. Estimator:              Unadjusted                                           \n",
      "                                          F-statistic:                      16.558\n",
      "Entities:                            52   P-value                           0.0001\n",
      "Avg Obs:                        10.0000   Distribution:                   F(1,467)\n",
      "Min Obs:                        10.0000                                           \n",
      "Max Obs:                        10.0000   F-statistic (robust):             16.558\n",
      "                                          P-value                           0.0001\n",
      "Time periods:                        10   Distribution:                   F(1,467)\n",
      "Avg Obs:                         52.000                                           \n",
      "Min Obs:                         52.000                                           \n",
      "Max Obs:                         52.000                                           \n",
      "                                                                                  \n",
      "                                   Parameter Estimates                                    \n",
      "==========================================================================================\n",
      "                        Parameter  Std. Err.     T-stat    P-value    Lower CI    Upper CI\n",
      "------------------------------------------------------------------------------------------\n",
      "Q('Unemployment Rate')    -0.5624     0.1382    -4.0691     0.0001     -0.8340     -0.2908\n",
      "==========================================================================================\n",
      "\n",
      "F-test for Poolability: 2.7349\n",
      "P-value: 0.0000\n",
      "Distribution: F(51,467)\n",
      "\n",
      "Included effects: Entity\n"
     ]
    }
   ],
   "source": [
    "# Fixed Effects Model\n",
    "africa_fe_model = PanelOLS.from_formula('Q(\"GDP Growth Rate\") ~ Q(\"Unemployment Rate\") + EntityEffects', data=africa_merged_df)\n",
    "africa_fe_res = africa_fe_model.fit()\n",
    "\n",
    "# Display the results\n",
    "print(africa_fe_res)"
   ]
  },
  {
   "cell_type": "markdown",
   "metadata": {},
   "source": [
    "#### Europe"
   ]
  },
  {
   "cell_type": "code",
   "execution_count": 83,
   "metadata": {},
   "outputs": [
    {
     "data": {
      "text/html": [
       "<div>\n",
       "<style scoped>\n",
       "    .dataframe tbody tr th:only-of-type {\n",
       "        vertical-align: middle;\n",
       "    }\n",
       "\n",
       "    .dataframe tbody tr th {\n",
       "        vertical-align: top;\n",
       "    }\n",
       "\n",
       "    .dataframe thead th {\n",
       "        text-align: right;\n",
       "    }\n",
       "</style>\n",
       "<table border=\"1\" class=\"dataframe\">\n",
       "  <thead>\n",
       "    <tr style=\"text-align: right;\">\n",
       "      <th></th>\n",
       "      <th>Country</th>\n",
       "      <th>GDP Growth Rate % [2014]</th>\n",
       "      <th>GDP Growth Rate % [2015]</th>\n",
       "      <th>GDP Growth Rate % [2016]</th>\n",
       "      <th>GDP Growth Rate % [2017]</th>\n",
       "      <th>GDP Growth Rate % [2018]</th>\n",
       "      <th>GDP Growth Rate % [2019]</th>\n",
       "      <th>GDP Growth Rate % [2020]</th>\n",
       "      <th>GDP Growth Rate % [2021]</th>\n",
       "      <th>GDP Growth Rate % [2022]</th>\n",
       "      <th>GDP Growth Rate % [2023]</th>\n",
       "      <th>Unemployment Rate [2014]</th>\n",
       "      <th>Unemployment Rate [2015]</th>\n",
       "      <th>Unemployment Rate [2016]</th>\n",
       "      <th>Unemployment Rate [2017]</th>\n",
       "      <th>Unemployment Rate [2018]</th>\n",
       "      <th>Unemployment Rate [2019]</th>\n",
       "      <th>Unemployment Rate [2020]</th>\n",
       "      <th>Unemployment Rate [2021]</th>\n",
       "      <th>Unemployment Rate [2022]</th>\n",
       "      <th>Unemployment Rate [2023]</th>\n",
       "    </tr>\n",
       "  </thead>\n",
       "  <tbody>\n",
       "    <tr>\n",
       "      <th>0</th>\n",
       "      <td>ALBANIA</td>\n",
       "      <td>1.8</td>\n",
       "      <td>2.2</td>\n",
       "      <td>3.3</td>\n",
       "      <td>3.8</td>\n",
       "      <td>4.0</td>\n",
       "      <td>2.1</td>\n",
       "      <td>-3.3</td>\n",
       "      <td>8.9</td>\n",
       "      <td>4.9</td>\n",
       "      <td>3.5</td>\n",
       "      <td>26.51550</td>\n",
       "      <td>27.07275</td>\n",
       "      <td>24.29625</td>\n",
       "      <td>21.07475</td>\n",
       "      <td>19.04600</td>\n",
       "      <td>18.26250</td>\n",
       "      <td>20.69025</td>\n",
       "      <td>20.12650</td>\n",
       "      <td>18.99000</td>\n",
       "      <td>18.15625</td>\n",
       "    </tr>\n",
       "    <tr>\n",
       "      <th>1</th>\n",
       "      <td>AUSTRIA</td>\n",
       "      <td>0.7</td>\n",
       "      <td>1.0</td>\n",
       "      <td>2.0</td>\n",
       "      <td>2.3</td>\n",
       "      <td>2.4</td>\n",
       "      <td>1.5</td>\n",
       "      <td>-6.6</td>\n",
       "      <td>4.2</td>\n",
       "      <td>4.8</td>\n",
       "      <td>-0.8</td>\n",
       "      <td>7.71275</td>\n",
       "      <td>7.95300</td>\n",
       "      <td>8.31650</td>\n",
       "      <td>7.43475</td>\n",
       "      <td>6.92975</td>\n",
       "      <td>6.36450</td>\n",
       "      <td>7.39575</td>\n",
       "      <td>8.91850</td>\n",
       "      <td>7.33450</td>\n",
       "      <td>7.53000</td>\n",
       "    </tr>\n",
       "    <tr>\n",
       "      <th>2</th>\n",
       "      <td>AZERBAIJAN</td>\n",
       "      <td>2.8</td>\n",
       "      <td>1.1</td>\n",
       "      <td>-3.1</td>\n",
       "      <td>0.2</td>\n",
       "      <td>1.5</td>\n",
       "      <td>2.5</td>\n",
       "      <td>-4.2</td>\n",
       "      <td>5.6</td>\n",
       "      <td>4.7</td>\n",
       "      <td>1.1</td>\n",
       "      <td>8.52250</td>\n",
       "      <td>8.52850</td>\n",
       "      <td>8.36700</td>\n",
       "      <td>8.16950</td>\n",
       "      <td>7.81325</td>\n",
       "      <td>7.77450</td>\n",
       "      <td>10.70125</td>\n",
       "      <td>9.71825</td>\n",
       "      <td>9.14100</td>\n",
       "      <td>9.14925</td>\n",
       "    </tr>\n",
       "    <tr>\n",
       "      <th>3</th>\n",
       "      <td>BELARUS</td>\n",
       "      <td>1.7</td>\n",
       "      <td>-3.8</td>\n",
       "      <td>-2.5</td>\n",
       "      <td>2.5</td>\n",
       "      <td>3.1</td>\n",
       "      <td>1.4</td>\n",
       "      <td>-0.7</td>\n",
       "      <td>2.4</td>\n",
       "      <td>-4.7</td>\n",
       "      <td>3.9</td>\n",
       "      <td>8.06350</td>\n",
       "      <td>8.04425</td>\n",
       "      <td>8.00875</td>\n",
       "      <td>7.30825</td>\n",
       "      <td>7.40050</td>\n",
       "      <td>6.90600</td>\n",
       "      <td>7.67175</td>\n",
       "      <td>6.91100</td>\n",
       "      <td>6.63350</td>\n",
       "      <td>6.40000</td>\n",
       "    </tr>\n",
       "    <tr>\n",
       "      <th>4</th>\n",
       "      <td>BELGIUM</td>\n",
       "      <td>1.6</td>\n",
       "      <td>2.0</td>\n",
       "      <td>1.3</td>\n",
       "      <td>1.6</td>\n",
       "      <td>1.8</td>\n",
       "      <td>2.2</td>\n",
       "      <td>-5.3</td>\n",
       "      <td>6.9</td>\n",
       "      <td>3.0</td>\n",
       "      <td>1.4</td>\n",
       "      <td>15.16175</td>\n",
       "      <td>14.58425</td>\n",
       "      <td>13.37125</td>\n",
       "      <td>12.65250</td>\n",
       "      <td>10.43025</td>\n",
       "      <td>9.36775</td>\n",
       "      <td>10.04625</td>\n",
       "      <td>11.65725</td>\n",
       "      <td>10.48525</td>\n",
       "      <td>9.52350</td>\n",
       "    </tr>\n",
       "  </tbody>\n",
       "</table>\n",
       "</div>"
      ],
      "text/plain": [
       "      Country  GDP Growth Rate % [2014]  GDP Growth Rate % [2015]  \\\n",
       "0     ALBANIA                       1.8                       2.2   \n",
       "1     AUSTRIA                       0.7                       1.0   \n",
       "2  AZERBAIJAN                       2.8                       1.1   \n",
       "3     BELARUS                       1.7                      -3.8   \n",
       "4     BELGIUM                       1.6                       2.0   \n",
       "\n",
       "   GDP Growth Rate % [2016]  GDP Growth Rate % [2017]  \\\n",
       "0                       3.3                       3.8   \n",
       "1                       2.0                       2.3   \n",
       "2                      -3.1                       0.2   \n",
       "3                      -2.5                       2.5   \n",
       "4                       1.3                       1.6   \n",
       "\n",
       "   GDP Growth Rate % [2018]  GDP Growth Rate % [2019]  \\\n",
       "0                       4.0                       2.1   \n",
       "1                       2.4                       1.5   \n",
       "2                       1.5                       2.5   \n",
       "3                       3.1                       1.4   \n",
       "4                       1.8                       2.2   \n",
       "\n",
       "   GDP Growth Rate % [2020]  GDP Growth Rate % [2021]  \\\n",
       "0                      -3.3                       8.9   \n",
       "1                      -6.6                       4.2   \n",
       "2                      -4.2                       5.6   \n",
       "3                      -0.7                       2.4   \n",
       "4                      -5.3                       6.9   \n",
       "\n",
       "   GDP Growth Rate % [2022]  GDP Growth Rate % [2023]  \\\n",
       "0                       4.9                       3.5   \n",
       "1                       4.8                      -0.8   \n",
       "2                       4.7                       1.1   \n",
       "3                      -4.7                       3.9   \n",
       "4                       3.0                       1.4   \n",
       "\n",
       "   Unemployment Rate [2014]  Unemployment Rate [2015]  \\\n",
       "0                  26.51550                  27.07275   \n",
       "1                   7.71275                   7.95300   \n",
       "2                   8.52250                   8.52850   \n",
       "3                   8.06350                   8.04425   \n",
       "4                  15.16175                  14.58425   \n",
       "\n",
       "   Unemployment Rate [2016]  Unemployment Rate [2017]  \\\n",
       "0                  24.29625                  21.07475   \n",
       "1                   8.31650                   7.43475   \n",
       "2                   8.36700                   8.16950   \n",
       "3                   8.00875                   7.30825   \n",
       "4                  13.37125                  12.65250   \n",
       "\n",
       "   Unemployment Rate [2018]  Unemployment Rate [2019]  \\\n",
       "0                  19.04600                  18.26250   \n",
       "1                   6.92975                   6.36450   \n",
       "2                   7.81325                   7.77450   \n",
       "3                   7.40050                   6.90600   \n",
       "4                  10.43025                   9.36775   \n",
       "\n",
       "   Unemployment Rate [2020]  Unemployment Rate [2021]  \\\n",
       "0                  20.69025                  20.12650   \n",
       "1                   7.39575                   8.91850   \n",
       "2                  10.70125                   9.71825   \n",
       "3                   7.67175                   6.91100   \n",
       "4                  10.04625                  11.65725   \n",
       "\n",
       "   Unemployment Rate [2022]  Unemployment Rate [2023]  \n",
       "0                  18.99000                  18.15625  \n",
       "1                   7.33450                   7.53000  \n",
       "2                   9.14100                   9.14925  \n",
       "3                   6.63350                   6.40000  \n",
       "4                  10.48525                   9.52350  "
      ]
     },
     "execution_count": 83,
     "metadata": {},
     "output_type": "execute_result"
    }
   ],
   "source": [
    "# Extracting European Countries for Combined Dataset\n",
    "europe_df = gdp_unemp[(gdp_unemp['Continent'] == 'EU') | (gdp_unemp['Continent'] == 'AS/EU')]\n",
    "\n",
    "# Aggregating Countries\n",
    "europe_mean_reset = (\n",
    "    europe_df\n",
    "    .groupby('Country', as_index=False)\n",
    "    .mean(numeric_only=True)  # Calculate the mean for numeric columns only\n",
    ")\n",
    "# Display the first few rows\n",
    "europe_mean_reset.head()"
   ]
  },
  {
   "cell_type": "code",
   "execution_count": 84,
   "metadata": {},
   "outputs": [
    {
     "data": {
      "text/html": [
       "<div>\n",
       "<style scoped>\n",
       "    .dataframe tbody tr th:only-of-type {\n",
       "        vertical-align: middle;\n",
       "    }\n",
       "\n",
       "    .dataframe tbody tr th {\n",
       "        vertical-align: top;\n",
       "    }\n",
       "\n",
       "    .dataframe thead th {\n",
       "        text-align: right;\n",
       "    }\n",
       "</style>\n",
       "<table border=\"1\" class=\"dataframe\">\n",
       "  <thead>\n",
       "    <tr style=\"text-align: right;\">\n",
       "      <th></th>\n",
       "      <th></th>\n",
       "      <th>GDP Growth Rate</th>\n",
       "      <th>Unemployment Rate</th>\n",
       "    </tr>\n",
       "    <tr>\n",
       "      <th>Country</th>\n",
       "      <th>Year</th>\n",
       "      <th></th>\n",
       "      <th></th>\n",
       "    </tr>\n",
       "  </thead>\n",
       "  <tbody>\n",
       "    <tr>\n",
       "      <th>ALBANIA</th>\n",
       "      <th>2014</th>\n",
       "      <td>1.8</td>\n",
       "      <td>26.51550</td>\n",
       "    </tr>\n",
       "    <tr>\n",
       "      <th>AUSTRIA</th>\n",
       "      <th>2014</th>\n",
       "      <td>0.7</td>\n",
       "      <td>7.71275</td>\n",
       "    </tr>\n",
       "    <tr>\n",
       "      <th>AZERBAIJAN</th>\n",
       "      <th>2014</th>\n",
       "      <td>2.8</td>\n",
       "      <td>8.52250</td>\n",
       "    </tr>\n",
       "    <tr>\n",
       "      <th>BELARUS</th>\n",
       "      <th>2014</th>\n",
       "      <td>1.7</td>\n",
       "      <td>8.06350</td>\n",
       "    </tr>\n",
       "    <tr>\n",
       "      <th>BELGIUM</th>\n",
       "      <th>2014</th>\n",
       "      <td>1.6</td>\n",
       "      <td>15.16175</td>\n",
       "    </tr>\n",
       "  </tbody>\n",
       "</table>\n",
       "</div>"
      ],
      "text/plain": [
       "                 GDP Growth Rate  Unemployment Rate\n",
       "Country    Year                                    \n",
       "ALBANIA    2014              1.8           26.51550\n",
       "AUSTRIA    2014              0.7            7.71275\n",
       "AZERBAIJAN 2014              2.8            8.52250\n",
       "BELARUS    2014              1.7            8.06350\n",
       "BELGIUM    2014              1.6           15.16175"
      ]
     },
     "execution_count": 84,
     "metadata": {},
     "output_type": "execute_result"
    }
   ],
   "source": [
    "# Reshape GDP Growth Rate\n",
    "europe_gdp_long = europe_mean_reset.melt(id_vars=['Country'], \n",
    "                   value_vars=[col for col in europe_mean_reset.columns if 'GDP Growth Rate' in col],\n",
    "                   var_name='Year', value_name='GDP Growth Rate')\n",
    "\n",
    "# Reshape Unemployment Rate\n",
    "europe_unemp_long = europe_mean_reset.melt(id_vars=['Country'], \n",
    "                     value_vars=[col for col in europe_mean_reset.columns if 'Unemployment Rate' in col],\n",
    "                     var_name='Year', value_name='Unemployment Rate')\n",
    "\n",
    "# Merge the two datasets\n",
    "europe_gdp_long['Year'] = europe_gdp_long['Year'].str.extract(r'(\\d{4})').astype(int)\n",
    "europe_unemp_long['Year'] = europe_unemp_long['Year'].str.extract(r'(\\d{4})').astype(int)\n",
    "europe_merged_df = pd.merge(europe_gdp_long, europe_unemp_long, on=['Country', 'Year'])\n",
    "\n",
    "# Ensure 'Country' and 'Year' are the multi-index\n",
    "europe_merged_df = europe_merged_df.set_index(['Country', 'Year'])\n",
    "europe_merged_df.head()"
   ]
  },
  {
   "cell_type": "code",
   "execution_count": 85,
   "metadata": {},
   "outputs": [
    {
     "name": "stdout",
     "output_type": "stream",
     "text": [
      "                           PanelOLS Estimation Summary                            \n",
      "==================================================================================\n",
      "Dep. Variable:     Q('GDP Growth Rate')   R-squared:                        0.0043\n",
      "Estimator:                     PanelOLS   R-squared (Between):             -0.6849\n",
      "No. Observations:                   420   R-squared (Within):               0.0043\n",
      "Date:                  Fri, Dec 06 2024   R-squared (Overall):             -0.2835\n",
      "Time:                          22:57:03   Log-likelihood                   -1126.7\n",
      "Cov. Estimator:              Unadjusted                                           \n",
      "                                          F-statistic:                      1.6091\n",
      "Entities:                            42   P-value                           0.2054\n",
      "Avg Obs:                        10.0000   Distribution:                   F(1,377)\n",
      "Min Obs:                        10.0000                                           \n",
      "Max Obs:                        10.0000   F-statistic (robust):             1.6091\n",
      "                                          P-value                           0.2054\n",
      "Time periods:                        10   Distribution:                   F(1,377)\n",
      "Avg Obs:                         42.000                                           \n",
      "Min Obs:                         42.000                                           \n",
      "Max Obs:                         42.000                                           \n",
      "                                                                                  \n",
      "                                   Parameter Estimates                                    \n",
      "==========================================================================================\n",
      "                        Parameter  Std. Err.     T-stat    P-value    Lower CI    Upper CI\n",
      "------------------------------------------------------------------------------------------\n",
      "Q('Unemployment Rate')    -0.0725     0.0572    -1.2685     0.2054     -0.1850      0.0399\n",
      "==========================================================================================\n",
      "\n",
      "F-test for Poolability: 1.7424\n",
      "P-value: 0.0043\n",
      "Distribution: F(41,377)\n",
      "\n",
      "Included effects: Entity\n"
     ]
    }
   ],
   "source": [
    "# Fixed Effects Model\n",
    "europe_fe_model = PanelOLS.from_formula('Q(\"GDP Growth Rate\") ~ Q(\"Unemployment Rate\") + EntityEffects', data=europe_merged_df)\n",
    "europe_fe_res = europe_fe_model.fit()\n",
    "\n",
    "# Display the results\n",
    "print(europe_fe_res)"
   ]
  },
  {
   "cell_type": "markdown",
   "metadata": {},
   "source": [
    "### Comparison of Models"
   ]
  },
  {
   "cell_type": "code",
   "execution_count": 86,
   "metadata": {},
   "outputs": [
    {
     "data": {
      "text/html": [
       "<div>\n",
       "<style scoped>\n",
       "    .dataframe tbody tr th:only-of-type {\n",
       "        vertical-align: middle;\n",
       "    }\n",
       "\n",
       "    .dataframe tbody tr th {\n",
       "        vertical-align: top;\n",
       "    }\n",
       "\n",
       "    .dataframe thead th {\n",
       "        text-align: right;\n",
       "    }\n",
       "</style>\n",
       "<table border=\"1\" class=\"dataframe\">\n",
       "  <thead>\n",
       "    <tr style=\"text-align: right;\">\n",
       "      <th></th>\n",
       "      <th>F-statistic (Robust)</th>\n",
       "      <th>p-value</th>\n",
       "      <th>R-squared (Within)</th>\n",
       "      <th>R-squared (Between)</th>\n",
       "      <th>R-squared (Overall)</th>\n",
       "    </tr>\n",
       "  </thead>\n",
       "  <tbody>\n",
       "    <tr>\n",
       "      <th>Europe</th>\n",
       "      <td>1.609147</td>\n",
       "      <td>2.053944e-01</td>\n",
       "      <td>0.004250</td>\n",
       "      <td>-0.684947</td>\n",
       "      <td>0.004250</td>\n",
       "    </tr>\n",
       "    <tr>\n",
       "      <th>Asia</th>\n",
       "      <td>12.602795</td>\n",
       "      <td>4.285061e-04</td>\n",
       "      <td>0.028998</td>\n",
       "      <td>-5.739603</td>\n",
       "      <td>0.028998</td>\n",
       "    </tr>\n",
       "    <tr>\n",
       "      <th>Africa</th>\n",
       "      <td>16.557976</td>\n",
       "      <td>5.539739e-05</td>\n",
       "      <td>0.034242</td>\n",
       "      <td>-9.245314</td>\n",
       "      <td>0.034242</td>\n",
       "    </tr>\n",
       "    <tr>\n",
       "      <th>North America</th>\n",
       "      <td>17.514737</td>\n",
       "      <td>4.563144e-05</td>\n",
       "      <td>0.093405</td>\n",
       "      <td>-22.562866</td>\n",
       "      <td>0.093405</td>\n",
       "    </tr>\n",
       "    <tr>\n",
       "      <th>South America</th>\n",
       "      <td>2.887423</td>\n",
       "      <td>9.217928e-02</td>\n",
       "      <td>0.026276</td>\n",
       "      <td>-2.606222</td>\n",
       "      <td>0.026276</td>\n",
       "    </tr>\n",
       "    <tr>\n",
       "      <th>Oceania</th>\n",
       "      <td>4.403181</td>\n",
       "      <td>3.943074e-02</td>\n",
       "      <td>0.058395</td>\n",
       "      <td>-24.292089</td>\n",
       "      <td>0.058395</td>\n",
       "    </tr>\n",
       "    <tr>\n",
       "      <th>World</th>\n",
       "      <td>33.186037</td>\n",
       "      <td>1.004455e-08</td>\n",
       "      <td>0.020534</td>\n",
       "      <td>-3.334519</td>\n",
       "      <td>0.020534</td>\n",
       "    </tr>\n",
       "  </tbody>\n",
       "</table>\n",
       "</div>"
      ],
      "text/plain": [
       "               F-statistic (Robust)       p-value  R-squared (Within)  \\\n",
       "Europe                     1.609147  2.053944e-01            0.004250   \n",
       "Asia                      12.602795  4.285061e-04            0.028998   \n",
       "Africa                    16.557976  5.539739e-05            0.034242   \n",
       "North America             17.514737  4.563144e-05            0.093405   \n",
       "South America              2.887423  9.217928e-02            0.026276   \n",
       "Oceania                    4.403181  3.943074e-02            0.058395   \n",
       "World                     33.186037  1.004455e-08            0.020534   \n",
       "\n",
       "               R-squared (Between)  R-squared (Overall)  \n",
       "Europe                   -0.684947             0.004250  \n",
       "Asia                     -5.739603             0.028998  \n",
       "Africa                   -9.245314             0.034242  \n",
       "North America           -22.562866             0.093405  \n",
       "South America            -2.606222             0.026276  \n",
       "Oceania                 -24.292089             0.058395  \n",
       "World                    -3.334519             0.020534  "
      ]
     },
     "execution_count": 86,
     "metadata": {},
     "output_type": "execute_result"
    }
   ],
   "source": [
    "# List of models\n",
    "models = [europe_fe_res, asia_fe_res, africa_fe_res, northam_fe_res, southam_fe_res, oceania_fe_res, fe_res] \n",
    "model_names = ['Europe', 'Asia', 'Africa', 'North America', 'South America', 'Oceania', 'World']  \n",
    "\n",
    "# Initialize an empty list to store the results\n",
    "model_stats = []\n",
    "\n",
    "# Loop through each model and extract the desired statistics\n",
    "for model, name in zip(models, model_names):\n",
    "    stats = {\n",
    "        'F-statistic (Robust)': model.f_statistic_robust.stat,  # F-statistic value\n",
    "        'p-value': model.pvalues[0],  # p-value\n",
    "        'R-squared (Within)': model.rsquared_within,  # R-squared (within)\n",
    "        'R-squared (Between)': model.rsquared_between,  # R-squared (between)\n",
    "        'R-squared (Overall)': model.rsquared,  # R-squared (overall)\n",
    "    }\n",
    "    model_stats.append(stats)\n",
    "\n",
    "# Convert the list of dictionaries into a pandas DataFrame\n",
    "comparison_model_stats = pd.DataFrame(model_stats, index = model_names)\n",
    "\n",
    "comparison_model_stats\n",
    "\n",
    "# Definitions:\n",
    "# F-statistic (Robust): A measure that tests whether the model as a whole (including all independent variables) explains a significant amount of variation in the dependent variable. The robust F-statistic adjusts for potential heteroskedasticity or autocorrelation in the error terms to provide a more reliable test.\n",
    "# p-value: Indicates the statistical significance of the relationship between the unemployment rate and GDP growth. A small p-value (typically < 0.05) suggests that the unemployment rate has a significant effect on GDP growth, while a larger p-value indicates the relationship is not statistically significant.\n",
    "# R-Squared (Within): A measure of how well the independent variable explains the variation within entities (e.g., countries or regions) over time. It focuses only on changes within each entity, ignoring differences between entities.\n",
    "# R-Squared (Between): A measure of how well the independent variable (in this case the unemployment rate) explains the variation in the dependent variable (e.g., GDP growth) between groups or entities (e.g., countries or regions) in a panel data model.\n",
    "# R-Squared (Overall): A measure of how well the independent variable (in this case, the unemployment rate) explains the total variation in the dependent variable (e.g., GDP growth) across both time (within entities) and groups (between entities) in a panel data model."
   ]
  },
  {
   "cell_type": "code",
   "execution_count": 87,
   "metadata": {},
   "outputs": [
    {
     "data": {
      "image/png": "[encoded data removed]",
      "text/plain": [
       "<Figure size 720x432 with 2 Axes>"
      ]
     },
     "metadata": {
      "needs_background": "light"
     },
     "output_type": "display_data"
    }
   ],
   "source": [
    "# Heatmap comparing the different R-Squared Values\n",
    "# Filter R-squared columns\n",
    "r_squared_data = comparison_model_stats[['R-squared (Within)', 'R-squared (Between)', 'R-squared (Overall)']]\n",
    "\n",
    "# Create heatmap\n",
    "plt.figure(figsize=(10, 6))\n",
    "sns.heatmap(r_squared_data, annot=True, fmt=\".3f\", cmap='Spectral', linewidths=.5)\n",
    "plt.title('Heatmap of R-squared Values Across Regions')\n",
    "plt.ylabel('Region')\n",
    "plt.show()\n",
    "\n",
    "# Insights:\n",
    "# Comparing the different R-squared values (within, between and overall), it can be identified that R-squared (within) and R-squared (overall) have minimal variation across the different regions, with values close to 0. \n",
    "# The minimal variation and near-zero values for R-squared (Within) and R-squared (Overall) suggest that the unemployment rate poorly explains GDP growth both within individual countries over time and across all regions combined.\n",
    "# However, R-squared (Between) exhibits high variation across the different regions with highly negative values for North America and Oceania, and close to 0 values for Europe. \n",
    "# For North America and Oceania, the highly negative R-squared (Between) suggests that the model performs worse than a simple mean model for explaining differences between countries within these regions.  \n",
    "# This can be attributed to Insufficient Between-Country Variation or Homogeneity of Economic Structures. \n",
    "# In comparison, Europe having close to 0 R-Squared (Between) value suggests that the model is neither good nor terrible at explaining the variance between countries. \n",
    "# Several factors could explain this including Diverse Economies in a Common Framework and the presence of Structural Economic Differences between countries"
   ]
  },
  {
   "cell_type": "code",
   "execution_count": 88,
   "metadata": {},
   "outputs": [
    {
     "data": {
      "application/vnd.plotly.v1+json": {
       "config": {
        "plotlyServerURL": "https://plot.ly"
       },
       "data": [
        {
         "hovertemplate": "index=Europe<br>R-squared (Overall)=%{x}<br>p-value=%{y}<br>F-statistic (Robust)=%{marker.size}<extra></extra>",
         "legendgroup": "Europe",
         "marker": {
          "color": "#636efa",
          "size": [
           1.6091473452575185
          ],
          "sizemode": "area",
          "sizeref": 0.08296509183083237,
          "symbol": "circle"
         },
         "mode": "markers",
         "name": "Europe",
         "orientation": "v",
         "showlegend": true,
         "type": "scatter",
         "x": [
          0.004250154431134301
         ],
         "xaxis": "x",
         "y": [
          0.20539442047401013
         ],
         "yaxis": "y"
        },
        {
         "hovertemplate": "index=Asia<br>R-squared (Overall)=%{x}<br>p-value=%{y}<br>F-statistic (Robust)=%{marker.size}<extra></extra>",
         "legendgroup": "Asia",
         "marker": {
          "color": "#EF553B",
          "size": [
           12.602795280748031
          ],
          "sizemode": "area",
          "sizeref": 0.08296509183083237,
          "symbol": "circle"
         },
         "mode": "markers",
         "name": "Asia",
         "orientation": "v",
         "showlegend": true,
         "type": "scatter",
         "x": [
          0.02899842204789982
         ],
         "xaxis": "x",
         "y": [
          0.00042850613449973984
         ],
         "yaxis": "y"
        },
        {
         "hovertemplate": "index=Africa<br>R-squared (Overall)=%{x}<br>p-value=%{y}<br>F-statistic (Robust)=%{marker.size}<extra></extra>",
         "legendgroup": "Africa",
         "marker": {
          "color": "#00cc96",
          "size": [
           16.557975920801404
          ],
          "sizemode": "area",
          "sizeref": 0.08296509183083237,
          "symbol": "circle"
         },
         "mode": "markers",
         "name": "Africa",
         "orientation": "v",
         "showlegend": true,
         "type": "scatter",
         "x": [
          0.03424196631080567
         ],
         "xaxis": "x",
         "y": [
          0.0000553973873689273
         ],
         "yaxis": "y"
        },
        {
         "hovertemplate": "index=North America<br>R-squared (Overall)=%{x}<br>p-value=%{y}<br>F-statistic (Robust)=%{marker.size}<extra></extra>",
         "legendgroup": "North America",
         "marker": {
          "color": "#ab63fa",
          "size": [
           17.51473704712696
          ],
          "sizemode": "area",
          "sizeref": 0.08296509183083237,
          "symbol": "circle"
         },
         "mode": "markers",
         "name": "North America",
         "orientation": "v",
         "showlegend": true,
         "type": "scatter",
         "x": [
          0.0934045895428749
         ],
         "xaxis": "x",
         "y": [
          0.0000456314406012126
         ],
         "yaxis": "y"
        },
        {
         "hovertemplate": "index=South America<br>R-squared (Overall)=%{x}<br>p-value=%{y}<br>F-statistic (Robust)=%{marker.size}<extra></extra>",
         "legendgroup": "South America",
         "marker": {
          "color": "#FFA15A",
          "size": [
           2.8874225668736795
          ],
          "sizemode": "area",
          "sizeref": 0.08296509183083237,
          "symbol": "circle"
         },
         "mode": "markers",
         "name": "South America",
         "orientation": "v",
         "showlegend": true,
         "type": "scatter",
         "x": [
          0.026276187933305217
         ],
         "xaxis": "x",
         "y": [
          0.09217927926730707
         ],
         "yaxis": "y"
        },
        {
         "hovertemplate": "index=Oceania<br>R-squared (Overall)=%{x}<br>p-value=%{y}<br>F-statistic (Robust)=%{marker.size}<extra></extra>",
         "legendgroup": "Oceania",
         "marker": {
          "color": "#19d3f3",
          "size": [
           4.403180674818376
          ],
          "sizemode": "area",
          "sizeref": 0.08296509183083237,
          "symbol": "circle"
         },
         "mode": "markers",
         "name": "Oceania",
         "orientation": "v",
         "showlegend": true,
         "type": "scatter",
         "x": [
          0.058395158339638153
         ],
         "xaxis": "x",
         "y": [
          0.03943073897539495
         ],
         "yaxis": "y"
        },
        {
         "hovertemplate": "index=World<br>R-squared (Overall)=%{x}<br>p-value=%{y}<br>F-statistic (Robust)=%{marker.size}<extra></extra>",
         "legendgroup": "World",
         "marker": {
          "color": "#FF6692",
          "size": [
           33.186036732332944
          ],
          "sizemode": "area",
          "sizeref": 0.08296509183083237,
          "symbol": "circle"
         },
         "mode": "markers",
         "name": "World",
         "orientation": "v",
         "showlegend": true,
         "type": "scatter",
         "x": [
          0.020533549961506692
         ],
         "xaxis": "x",
         "y": [
          1.0044547193999165e-8
         ],
         "yaxis": "y"
        }
       ],
       "layout": {
        "legend": {
         "itemsizing": "constant",
         "title": {
          "text": "index"
         },
         "tracegroupgap": 0
        },
        "template": {
         "data": {
          "bar": [
           {
            "error_x": {
             "color": "#2a3f5f"
            },
            "error_y": {
             "color": "#2a3f5f"
            },
            "marker": {
             "line": {
              "color": "#E5ECF6",
              "width": 0.5
             },
             "pattern": {
              "fillmode": "overlay",
              "size": 10,
              "solidity": 0.2
             }
            },
            "type": "bar"
           }
          ],
          "barpolar": [
           {
            "marker": {
             "line": {
              "color": "#E5ECF6",
              "width": 0.5
             },
             "pattern": {
              "fillmode": "overlay",
              "size": 10,
              "solidity": 0.2
             }
            },
            "type": "barpolar"
           }
          ],
          "carpet": [
           {
            "aaxis": {
             "endlinecolor": "#2a3f5f",
             "gridcolor": "white",
             "linecolor": "white",
             "minorgridcolor": "white",
             "startlinecolor": "#2a3f5f"
            },
            "baxis": {
             "endlinecolor": "#2a3f5f",
             "gridcolor": "white",
             "linecolor": "white",
             "minorgridcolor": "white",
             "startlinecolor": "#2a3f5f"
            },
            "type": "carpet"
           }
          ],
          "choropleth": [
           {
            "colorbar": {
             "outlinewidth": 0,
             "ticks": ""
            },
            "type": "choropleth"
           }
          ],
          "contour": [
           {
            "colorbar": {
             "outlinewidth": 0,
             "ticks": ""
            },
            "colorscale": [
             [
              0,
              "#0d0887"
             ],
             [
              0.1111111111111111,
              "#46039f"
             ],
             [
              0.2222222222222222,
              "#7201a8"
             ],
             [
              0.3333333333333333,
              "#9c179e"
             ],
             [
              0.4444444444444444,
              "#bd3786"
             ],
             [
              0.5555555555555556,
              "#d8576b"
             ],
             [
              0.6666666666666666,
              "#ed7953"
             ],
             [
              0.7777777777777778,
              "#fb9f3a"
             ],
             [
              0.8888888888888888,
              "#fdca26"
             ],
             [
              1,
              "#f0f921"
             ]
            ],
            "type": "contour"
           }
          ],
          "contourcarpet": [
           {
            "colorbar": {
             "outlinewidth": 0,
             "ticks": ""
            },
            "type": "contourcarpet"
           }
          ],
          "heatmap": [
           {
            "colorbar": {
             "outlinewidth": 0,
             "ticks": ""
            },
            "colorscale": [
             [
              0,
              "#0d0887"
             ],
             [
              0.1111111111111111,
              "#46039f"
             ],
             [
              0.2222222222222222,
              "#7201a8"
             ],
             [
              0.3333333333333333,
              "#9c179e"
             ],
             [
              0.4444444444444444,
              "#bd3786"
             ],
             [
              0.5555555555555556,
              "#d8576b"
             ],
             [
              0.6666666666666666,
              "#ed7953"
             ],
             [
              0.7777777777777778,
              "#fb9f3a"
             ],
             [
              0.8888888888888888,
              "#fdca26"
             ],
             [
              1,
              "#f0f921"
             ]
            ],
            "type": "heatmap"
           }
          ],
          "heatmapgl": [
           {
            "colorbar": {
             "outlinewidth": 0,
             "ticks": ""
            },
            "colorscale": [
             [
              0,
              "#0d0887"
             ],
             [
              0.1111111111111111,
              "#46039f"
             ],
             [
              0.2222222222222222,
              "#7201a8"
             ],
             [
              0.3333333333333333,
              "#9c179e"
             ],
             [
              0.4444444444444444,
              "#bd3786"
             ],
             [
              0.5555555555555556,
              "#d8576b"
             ],
             [
              0.6666666666666666,
              "#ed7953"
             ],
             [
              0.7777777777777778,
              "#fb9f3a"
             ],
             [
              0.8888888888888888,
              "#fdca26"
             ],
             [
              1,
              "#f0f921"
             ]
            ],
            "type": "heatmapgl"
           }
          ],
          "histogram": [
           {
            "marker": {
             "pattern": {
              "fillmode": "overlay",
              "size": 10,
              "solidity": 0.2
             }
            },
            "type": "histogram"
           }
          ],
          "histogram2d": [
           {
            "colorbar": {
             "outlinewidth": 0,
             "ticks": ""
            },
            "colorscale": [
             [
              0,
              "#0d0887"
             ],
             [
              0.1111111111111111,
              "#46039f"
             ],
             [
              0.2222222222222222,
              "#7201a8"
             ],
             [
              0.3333333333333333,
              "#9c179e"
             ],
             [
              0.4444444444444444,
              "#bd3786"
             ],
             [
              0.5555555555555556,
              "#d8576b"
             ],
             [
              0.6666666666666666,
              "#ed7953"
             ],
             [
              0.7777777777777778,
              "#fb9f3a"
             ],
             [
              0.8888888888888888,
              "#fdca26"
             ],
             [
              1,
              "#f0f921"
             ]
            ],
            "type": "histogram2d"
           }
          ],
          "histogram2dcontour": [
           {
            "colorbar": {
             "outlinewidth": 0,
             "ticks": ""
            },
            "colorscale": [
             [
              0,
              "#0d0887"
             ],
             [
              0.1111111111111111,
              "#46039f"
             ],
             [
              0.2222222222222222,
              "#7201a8"
             ],
             [
              0.3333333333333333,
              "#9c179e"
             ],
             [
              0.4444444444444444,
              "#bd3786"
             ],
             [
              0.5555555555555556,
              "#d8576b"
             ],
             [
              0.6666666666666666,
              "#ed7953"
             ],
             [
              0.7777777777777778,
              "#fb9f3a"
             ],
             [
              0.8888888888888888,
              "#fdca26"
             ],
             [
              1,
              "#f0f921"
             ]
            ],
            "type": "histogram2dcontour"
           }
          ],
          "mesh3d": [
           {
            "colorbar": {
             "outlinewidth": 0,
             "ticks": ""
            },
            "type": "mesh3d"
           }
          ],
          "parcoords": [
           {
            "line": {
             "colorbar": {
              "outlinewidth": 0,
              "ticks": ""
             }
            },
            "type": "parcoords"
           }
          ],
          "pie": [
           {
            "automargin": true,
            "type": "pie"
           }
          ],
          "scatter": [
           {
            "fillpattern": {
             "fillmode": "overlay",
             "size": 10,
             "solidity": 0.2
            },
            "type": "scatter"
           }
          ],
          "scatter3d": [
           {
            "line": {
             "colorbar": {
              "outlinewidth": 0,
              "ticks": ""
             }
            },
            "marker": {
             "colorbar": {
              "outlinewidth": 0,
              "ticks": ""
             }
            },
            "type": "scatter3d"
           }
          ],
          "scattercarpet": [
           {
            "marker": {
             "colorbar": {
              "outlinewidth": 0,
              "ticks": ""
             }
            },
            "type": "scattercarpet"
           }
          ],
          "scattergeo": [
           {
            "marker": {
             "colorbar": {
              "outlinewidth": 0,
              "ticks": ""
             }
            },
            "type": "scattergeo"
           }
          ],
          "scattergl": [
           {
            "marker": {
             "colorbar": {
              "outlinewidth": 0,
              "ticks": ""
             }
            },
            "type": "scattergl"
           }
          ],
          "scattermapbox": [
           {
            "marker": {
             "colorbar": {
              "outlinewidth": 0,
              "ticks": ""
             }
            },
            "type": "scattermapbox"
           }
          ],
          "scatterpolar": [
           {
            "marker": {
             "colorbar": {
              "outlinewidth": 0,
              "ticks": ""
             }
            },
            "type": "scatterpolar"
           }
          ],
          "scatterpolargl": [
           {
            "marker": {
             "colorbar": {
              "outlinewidth": 0,
              "ticks": ""
             }
            },
            "type": "scatterpolargl"
           }
          ],
          "scatterternary": [
           {
            "marker": {
             "colorbar": {
              "outlinewidth": 0,
              "ticks": ""
             }
            },
            "type": "scatterternary"
           }
          ],
          "surface": [
           {
            "colorbar": {
             "outlinewidth": 0,
             "ticks": ""
            },
            "colorscale": [
             [
              0,
              "#0d0887"
             ],
             [
              0.1111111111111111,
              "#46039f"
             ],
             [
              0.2222222222222222,
              "#7201a8"
             ],
             [
              0.3333333333333333,
              "#9c179e"
             ],
             [
              0.4444444444444444,
              "#bd3786"
             ],
             [
              0.5555555555555556,
              "#d8576b"
             ],
             [
              0.6666666666666666,
              "#ed7953"
             ],
             [
              0.7777777777777778,
              "#fb9f3a"
             ],
             [
              0.8888888888888888,
              "#fdca26"
             ],
             [
              1,
              "#f0f921"
             ]
            ],
            "type": "surface"
           }
          ],
          "table": [
           {
            "cells": {
             "fill": {
              "color": "#EBF0F8"
             },
             "line": {
              "color": "white"
             }
            },
            "header": {
             "fill": {
              "color": "#C8D4E3"
             },
             "line": {
              "color": "white"
             }
            },
            "type": "table"
           }
          ]
         },
         "layout": {
          "annotationdefaults": {
           "arrowcolor": "#2a3f5f",
           "arrowhead": 0,
           "arrowwidth": 1
          },
          "autotypenumbers": "strict",
          "coloraxis": {
           "colorbar": {
            "outlinewidth": 0,
            "ticks": ""
           }
          },
          "colorscale": {
           "diverging": [
            [
             0,
             "#8e0152"
            ],
            [
             0.1,
             "#c51b7d"
            ],
            [
             0.2,
             "#de77ae"
            ],
            [
             0.3,
             "#f1b6da"
            ],
            [
             0.4,
             "#fde0ef"
            ],
            [
             0.5,
             "#f7f7f7"
            ],
            [
             0.6,
             "#e6f5d0"
            ],
            [
             0.7,
             "#b8e186"
            ],
            [
             0.8,
             "#7fbc41"
            ],
            [
             0.9,
             "#4d9221"
            ],
            [
             1,
             "#276419"
            ]
           ],
           "sequential": [
            [
             0,
             "#0d0887"
            ],
            [
             0.1111111111111111,
             "#46039f"
            ],
            [
             0.2222222222222222,
             "#7201a8"
            ],
            [
             0.3333333333333333,
             "#9c179e"
            ],
            [
             0.4444444444444444,
             "#bd3786"
            ],
            [
             0.5555555555555556,
             "#d8576b"
            ],
            [
             0.6666666666666666,
             "#ed7953"
            ],
            [
             0.7777777777777778,
             "#fb9f3a"
            ],
            [
             0.8888888888888888,
             "#fdca26"
            ],
            [
             1,
             "#f0f921"
            ]
           ],
           "sequentialminus": [
            [
             0,
             "#0d0887"
            ],
            [
             0.1111111111111111,
             "#46039f"
            ],
            [
             0.2222222222222222,
             "#7201a8"
            ],
            [
             0.3333333333333333,
             "#9c179e"
            ],
            [
             0.4444444444444444,
             "#bd3786"
            ],
            [
             0.5555555555555556,
             "#d8576b"
            ],
            [
             0.6666666666666666,
             "#ed7953"
            ],
            [
             0.7777777777777778,
             "#fb9f3a"
            ],
            [
             0.8888888888888888,
             "#fdca26"
            ],
            [
             1,
             "#f0f921"
            ]
           ]
          },
          "colorway": [
           "#636efa",
           "#EF553B",
           "#00cc96",
           "#ab63fa",
           "#FFA15A",
           "#19d3f3",
           "#FF6692",
           "#B6E880",
           "#FF97FF",
           "#FECB52"
          ],
          "font": {
           "color": "#2a3f5f"
          },
          "geo": {
           "bgcolor": "white",
           "lakecolor": "white",
           "landcolor": "#E5ECF6",
           "showlakes": true,
           "showland": true,
           "subunitcolor": "white"
          },
          "hoverlabel": {
           "align": "left"
          },
          "hovermode": "closest",
          "mapbox": {
           "style": "light"
          },
          "paper_bgcolor": "white",
          "plot_bgcolor": "#E5ECF6",
          "polar": {
           "angularaxis": {
            "gridcolor": "white",
            "linecolor": "white",
            "ticks": ""
           },
           "bgcolor": "#E5ECF6",
           "radialaxis": {
            "gridcolor": "white",
            "linecolor": "white",
            "ticks": ""
           }
          },
          "scene": {
           "xaxis": {
            "backgroundcolor": "#E5ECF6",
            "gridcolor": "white",
            "gridwidth": 2,
            "linecolor": "white",
            "showbackground": true,
            "ticks": "",
            "zerolinecolor": "white"
           },
           "yaxis": {
            "backgroundcolor": "#E5ECF6",
            "gridcolor": "white",
            "gridwidth": 2,
            "linecolor": "white",
            "showbackground": true,
            "ticks": "",
            "zerolinecolor": "white"
           },
           "zaxis": {
            "backgroundcolor": "#E5ECF6",
            "gridcolor": "white",
            "gridwidth": 2,
            "linecolor": "white",
            "showbackground": true,
            "ticks": "",
            "zerolinecolor": "white"
           }
          },
          "shapedefaults": {
           "line": {
            "color": "#2a3f5f"
           }
          },
          "ternary": {
           "aaxis": {
            "gridcolor": "white",
            "linecolor": "white",
            "ticks": ""
           },
           "baxis": {
            "gridcolor": "white",
            "linecolor": "white",
            "ticks": ""
           },
           "bgcolor": "#E5ECF6",
           "caxis": {
            "gridcolor": "white",
            "linecolor": "white",
            "ticks": ""
           }
          },
          "title": {
           "x": 0.05
          },
          "xaxis": {
           "automargin": true,
           "gridcolor": "white",
           "linecolor": "white",
           "ticks": "",
           "title": {
            "standoff": 15
           },
           "zerolinecolor": "white",
           "zerolinewidth": 2
          },
          "yaxis": {
           "automargin": true,
           "gridcolor": "white",
           "linecolor": "white",
           "ticks": "",
           "title": {
            "standoff": 15
           },
           "zerolinecolor": "white",
           "zerolinewidth": 2
          }
         }
        },
        "title": {
         "text": "F-statistic and R-squared Relation"
        },
        "xaxis": {
         "anchor": "y",
         "domain": [
          0,
          1
         ],
         "title": {
          "text": "R-squared (Overall)"
         }
        },
        "yaxis": {
         "anchor": "x",
         "domain": [
          0,
          1
         ],
         "title": {
          "text": "p-value"
         }
        }
       }
      }
     },
     "metadata": {},
     "output_type": "display_data"
    }
   ],
   "source": [
    "#  Bubble Chart for F-statistic vs R-squared (Overall)\n",
    "fig = px.scatter(comparison_model_stats, \n",
    "                 x='R-squared (Overall)', \n",
    "                 y='p-value', \n",
    "                 size='F-statistic (Robust)',\n",
    "                 color=comparison_model_stats.index,\n",
    "                 title='F-statistic and R-squared Relation',\n",
    "                 labels={'x': 'R-squared (Overall)', 'y': 'p-value'})\n",
    "fig.show()\n",
    "\n",
    "# Insights:\n",
    "# The larger bubbles indicate a higher F-Statistic which means World has the higher F-statistic followed by North America, Africa and Asia. Oceania. Europe, and South America have small bubbles indicating low F-statistic scores\n",
    "# With reference to the p-values, regions with low p-values also seem to have larger F-statistic values as seen by the larger sized bubbles nearer to the x-axis\n",
    "# North America's data suggests a moderately better model fit than other regions (highest R2, statistically significant and relatively higher F-statistic"
   ]
  }
 ],
 "metadata": {
  "kernelspec": {
   "display_name": "base",
   "language": "python",
   "name": "python3"
  },
  "language_info": {
   "codemirror_mode": {
    "name": "ipython",
    "version": 3
   },
   "file_extension": ".py",
   "mimetype": "text/x-python",
   "name": "python",
   "nbconvert_exporter": "python",
   "pygments_lexer": "ipython3",
   "version": "3.8.8"
  }
 },
 "nbformat": 4,
 "nbformat_minor": 2
}
