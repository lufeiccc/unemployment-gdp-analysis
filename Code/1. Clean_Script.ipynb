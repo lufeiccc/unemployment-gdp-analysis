{
 "cells": [
  {
   "cell_type": "markdown",
   "id": "53988927",
   "metadata": {},
   "source": [
    "## Cleaning Data"
   ]
  },
  {
   "cell_type": "markdown",
   "id": "3f156719",
   "metadata": {},
   "source": [
    "#### Author: cbagsics"
   ]
  },
  {
   "cell_type": "code",
   "execution_count": 13,
   "id": "044dc258-8e9c-47f0-8bc1-258f18787e57",
   "metadata": {},
   "outputs": [
    {
     "name": "stdout",
     "output_type": "stream",
     "text": [
      "(196, 50)\n",
      "(1128, 15)\n"
     ]
    }
   ],
   "source": [
    "## Link to GDP data: https://www.imf.org/external/datamapper/NGDP_RPCH@WEO/OEMDC/ADVEC/WEOWORLD\n",
    "## Link to Unemployment Data: https://www.kaggle.com/datasets/sazidthe1/global-unemployment-data\n",
    "\n",
    "import pandas as pd\n",
    "import numpy as np\n",
    "\n",
    "# open files\n",
    "gdp = pd.read_csv('../Data/gdp.csv', index_col = 0)\n",
    "unemp = pd.read_csv('../Data/unemployment.csv', index_col = 0)\n",
    "\n",
    "print(gdp.shape)\n",
    "print(unemp.shape)"
   ]
  },
  {
   "cell_type": "code",
   "execution_count": 14,
   "id": "64013e4e-0e18-40f8-8006-453e8c22c007",
   "metadata": {},
   "outputs": [
    {
     "name": "stdout",
     "output_type": "stream",
     "text": [
      "                    2014 2015  2016  2017  2018  2019   2020   2021  2022  \\\n",
      "country_name                                                                \n",
      "Afghanistan          2.7    1   2.2   2.6   1.2   3.9   -2.4  -14.5  -6.2   \n",
      "Albania              1.8  2.2   3.3   3.8     4   2.1   -3.3    8.9   4.9   \n",
      "Algeria              4.1  3.2   3.9   1.5   1.4   0.9     -5    3.8   3.6   \n",
      "Andorra              2.5  1.4   3.7   0.3   1.6     2  -11.2    8.3   9.6   \n",
      "Angola               4.7  0.8  -1.7  -0.1  -0.6  -0.2     -4    2.1   4.2   \n",
      "...                  ...  ...   ...   ...   ...   ...    ...    ...   ...   \n",
      "Vietnam              6.4    7   6.7   6.9   7.5   7.4    2.9    2.6   8.1   \n",
      "West Bank and Gaza  -0.2  3.7   8.9   1.4   1.2   1.4  -11.3      7   4.1   \n",
      "Yemen               -0.2  -28  -9.4  -5.1   0.8   2.1   -8.5     -1   1.5   \n",
      "Zambia               4.7  2.9   3.8   3.5     4   1.4   -2.8    6.2   5.2   \n",
      "Zimbabwe             2.4  1.8   0.8   5.2     5  -6.3   -7.8    8.5   6.1   \n",
      "\n",
      "                    2023  \n",
      "country_name              \n",
      "Afghanistan          2.7  \n",
      "Albania              3.5  \n",
      "Algeria              4.1  \n",
      "Andorra              1.4  \n",
      "Angola                 1  \n",
      "...                  ...  \n",
      "Vietnam                5  \n",
      "West Bank and Gaza  -5.4  \n",
      "Yemen                 -2  \n",
      "Zambia               5.4  \n",
      "Zimbabwe             5.3  \n",
      "\n",
      "[196 rows x 10 columns]\n",
      "                 sex age_group age_categories    2014    2015    2016    2017  \\\n",
      "country_name                                                                    \n",
      "Afghanistan   Female     15-24          Youth  13.340  15.974  18.570  21.137   \n",
      "Afghanistan   Female       25+         Adults   8.576   9.014   9.463   9.920   \n",
      "Afghanistan   Female  Under 15       Children  10.306  11.552  12.789  14.017   \n",
      "Afghanistan     Male     15-24          Youth   9.206  11.502  13.772  16.027   \n",
      "Afghanistan     Male       25+         Adults   6.463   6.879   7.301   7.728   \n",
      "...              ...       ...            ...     ...     ...     ...     ...   \n",
      "Zimbabwe      Female       25+         Adults   4.262   4.586   4.773   4.900   \n",
      "Zimbabwe      Female  Under 15       Children   5.174   5.666   6.014   6.289   \n",
      "Zimbabwe        Male     15-24          Youth   6.007   7.131   8.119   9.029   \n",
      "Zimbabwe        Male       25+         Adults   3.677   4.325   4.843   5.287   \n",
      "Zimbabwe        Male  Under 15       Children   4.355   5.152   5.821   6.410   \n",
      "\n",
      "                2018    2019    2020    2021    2022    2023  \n",
      "country_name                                                  \n",
      "Afghanistan   20.649  20.154  21.228  21.640  30.561  32.200  \n",
      "Afghanistan   11.223  12.587  14.079  14.415  23.818  26.192  \n",
      "Afghanistan   14.706  15.418  16.783  17.134  26.746  29.193  \n",
      "Afghanistan   15.199  14.361  14.452  15.099  16.655  18.512  \n",
      "Afghanistan    7.833   7.961   8.732   9.199  11.357  12.327  \n",
      "...              ...     ...     ...     ...     ...     ...  \n",
      "Zimbabwe       5.027   5.309   6.345   7.792   7.704   7.597  \n",
      "Zimbabwe       6.555   6.990   8.494   9.853   9.670   9.518  \n",
      "Zimbabwe       9.927  11.048  13.191  14.261  13.966  13.675  \n",
      "Zimbabwe       5.722   6.362   6.996   7.234   6.858   6.757  \n",
      "Zimbabwe       6.984   7.760   8.809   9.223   8.842   8.713  \n",
      "\n",
      "[1128 rows x 13 columns]\n"
     ]
    }
   ],
   "source": [
    "# remove data not in 2014-2023 to keep data current and consistent\n",
    "gdp_to_keep = ['2014', '2015', '2016', '2017', '2018', '2019', '2020',\n",
    "                '2021', '2022', '2023']\n",
    "gdp = gdp[[col for col in gdp.columns if col in gdp_to_keep]]\n",
    "print(gdp)\n",
    "\n",
    "unemp_to_keep = ['sex', 'age_group', 'age_categories', '2014', '2015', '2016', '2017', '2018', '2019', '2020',\n",
    "                '2021', '2022', '2023']\n",
    "unemp = unemp[[col for col in unemp.columns if col in unemp_to_keep]]\n",
    "print(unemp)"
   ]
  },
  {
   "cell_type": "code",
   "execution_count": 15,
   "id": "c2976d56-dd0d-4b2c-a666-36dce3b93fbb",
   "metadata": {},
   "outputs": [
    {
     "name": "stdout",
     "output_type": "stream",
     "text": [
      "                 sex age_group age_categories    2014    2015    2016    2017  \\\n",
      "country_name                                                                    \n",
      "Afghanistan   Female     15-24          Youth  13.340  15.974  18.570  21.137   \n",
      "Afghanistan   Female       25+         Adults   8.576   9.014   9.463   9.920   \n",
      "Afghanistan     Male     15-24          Youth   9.206  11.502  13.772  16.027   \n",
      "Afghanistan     Male       25+         Adults   6.463   6.879   7.301   7.728   \n",
      "Albania       Female     15-24          Youth  32.590  40.274  34.102  27.429   \n",
      "...              ...       ...            ...     ...     ...     ...     ...   \n",
      "Zambia          Male       25+         Adults   5.136   5.341   5.469   5.612   \n",
      "Zimbabwe      Female     15-24          Youth   8.027   9.035   9.869  10.617   \n",
      "Zimbabwe      Female       25+         Adults   4.262   4.586   4.773   4.900   \n",
      "Zimbabwe        Male     15-24          Youth   6.007   7.131   8.119   9.029   \n",
      "Zimbabwe        Male       25+         Adults   3.677   4.325   4.843   5.287   \n",
      "\n",
      "                2018    2019    2020    2021    2022    2023  \n",
      "country_name                                                  \n",
      "Afghanistan   20.649  20.154  21.228  21.640  30.561  32.200  \n",
      "Afghanistan   11.223  12.587  14.079  14.415  23.818  26.192  \n",
      "Afghanistan   15.199  14.361  14.452  15.099  16.655  18.512  \n",
      "Afghanistan    7.833   7.961   8.732   9.199  11.357  12.327  \n",
      "Albania       25.765  26.005  29.766  28.687  27.004  25.758  \n",
      "...              ...     ...     ...     ...     ...     ...  \n",
      "Zambia         3.796   4.026   3.934   3.558   2.833   2.696  \n",
      "Zimbabwe      11.353  12.306  15.088  16.168  15.761  15.627  \n",
      "Zimbabwe       5.027   5.309   6.345   7.792   7.704   7.597  \n",
      "Zimbabwe       9.927  11.048  13.191  14.261  13.966  13.675  \n",
      "Zimbabwe       5.722   6.362   6.996   7.234   6.858   6.757  \n",
      "\n",
      "[752 rows x 13 columns]\n",
      "\n",
      " number of rows with Under 15: 0\n"
     ]
    }
   ],
   "source": [
    "# remove Under 15 rows from unemp bc child labor laws differ from country to country\n",
    "unemp = unemp[unemp['age_group'] != 'Under 15']\n",
    "print(unemp)\n",
    "\n",
    "# check for Under 15 rows\n",
    "rows_to_drop = unemp[unemp['age_group'].str.contains('Under 15', na=False)]\n",
    "print('\\n number of rows with Under 15:', rows_to_drop.shape[0])"
   ]
  },
  {
   "cell_type": "code",
   "execution_count": 16,
   "id": "ef7f632c-320e-4524-a6d6-18e9c689a1f1",
   "metadata": {},
   "outputs": [
    {
     "name": "stdout",
     "output_type": "stream",
     "text": [
      "(196, 10)\n",
      "(752, 13)\n"
     ]
    }
   ],
   "source": [
    "# rename columns for both tables and add years to specify GDP and Unemployment data for each year\n",
    "\n",
    "gdp = gdp.rename(columns = {'2014': 'GDP Growth Rate % [2014]', '2015': 'GDP Growth Rate % [2015]',\n",
    "                            '2016': 'GDP Growth Rate % [2016]', '2017': 'GDP Growth Rate % [2017]',\n",
    "                            '2018': 'GDP Growth Rate % [2018]', '2019': 'GDP Growth Rate % [2019]',\n",
    "                            '2020': 'GDP Growth Rate % [2020]', '2021': 'GDP Growth Rate % [2021]',\n",
    "                            '2022': 'GDP Growth Rate % [2022]', '2023': 'GDP Growth Rate % [2023]'})\n",
    "\n",
    "unemp = unemp.rename(columns = {'2014': 'Unemployment Rate [2014]', '2015': 'Unemployment Rate [2015]',\n",
    "                                '2016': 'Unemployment Rate [2016]', '2017': 'Unemployment Rate [2017]',\n",
    "                                '2018': 'Unemployment Rate [2018]', '2019': 'Unemployment Rate [2019]',\n",
    "                                '2020': 'Unemployment Rate [2020]', '2021': 'Unemployment Rate [2021]',\n",
    "                                '2022': 'Unemployment Rate [2022]', '2023': 'Unemployment Rate [2023]'})\n",
    "print(gdp.shape)\n",
    "print(unemp.shape)\n",
    "                           "
   ]
  },
  {
   "cell_type": "code",
   "execution_count": 17,
   "id": "f7a923f4-1291-4ca2-8ff3-ec4ab3fc40c9",
   "metadata": {},
   "outputs": [],
   "source": [
    "# fix countries names to match both dataframes for concatenation purposes\n",
    "\n",
    "gdp = gdp.rename(index = {'Bahamas, The': 'Bahamas', '''China, People's Republic of''': 'China',\n",
    "                          'Congo, Dem. Rep. of the': 'Congo, Democratic Republic of the', 'Congo, Rep': 'Congo',\n",
    "                          'Czech Republic': 'Czechia', 'Gambia, The': 'Gambia', 'Kyrgyz Republic': 'Kyrgyzstan', \n",
    "                          'Slovak Republic': 'Slovakia', 'South Sudan, Republic of': 'South Sudan', \n",
    "                          'Taiwan Province of China': 'Taiwan, China'})\n",
    "\n",
    "\n",
    "unemp = unemp.rename(index = {'Hong Kong, China': 'Hong Kong SAR', 'Iran, Islamic Republic of': 'Iran', \n",
    "                              '''Korea, Democratic People's Republic of''': 'Korea, Republic of', \n",
    "                              '''Lao People's Democratic Republic''': 'Lao P.D.R.', 'Macau, China': 'Macao SAR',\n",
    "                             'Moldova, Republic of': 'Moldova', 'Syrian Arab Republic': 'Syria', \n",
    "                             'Tanzania, United Republic of': 'Tanzania', 'Venezuela, Bolivarian Republic of': 'Venezuela',\n",
    "                             'Viet Nam': 'Vietnam', 'Palestinian Territories': 'West Bank and Gaza',\n",
    "                             'North Macedonia': 'Macedonia'})\n"
   ]
  },
  {
   "cell_type": "code",
   "execution_count": 18,
   "id": "0a738044-8572-4d0e-83e0-6129f91750f6",
   "metadata": {},
   "outputs": [
    {
     "name": "stdout",
     "output_type": "stream",
     "text": [
      "(767, 23)\n"
     ]
    }
   ],
   "source": [
    "# concatenate both dfs\n",
    "\n",
    "df_comp = pd.merge(gdp, unemp, left_index = True, right_index = True, how = 'outer')\n",
    "print(df_comp.shape)\n",
    "\n",
    "# fix 'no data' cells to reflect missing values\n",
    "df_comp = df_comp.replace('no data', np.nan)\n",
    "\n",
    "df_comp.to_csv('../Data/concat_test.csv', index=True)\n"
   ]
  },
  {
   "cell_type": "code",
   "execution_count": 19,
   "id": "bf127f0c-7d10-4f65-8815-d1614a612598",
   "metadata": {},
   "outputs": [
    {
     "name": "stdout",
     "output_type": "stream",
     "text": [
      "GDP Growth Rate % [2014]    28\n",
      "GDP Growth Rate % [2015]    28\n",
      "GDP Growth Rate % [2016]    28\n",
      "GDP Growth Rate % [2017]    28\n",
      "GDP Growth Rate % [2018]    28\n",
      "GDP Growth Rate % [2019]    28\n",
      "GDP Growth Rate % [2020]    32\n",
      "GDP Growth Rate % [2021]    32\n",
      "GDP Growth Rate % [2022]    32\n",
      "GDP Growth Rate % [2023]    36\n",
      "sex                         15\n",
      "age_group                   15\n",
      "age_categories              15\n",
      "Unemployment Rate [2014]    15\n",
      "Unemployment Rate [2015]    15\n",
      "Unemployment Rate [2016]    15\n",
      "Unemployment Rate [2017]    15\n",
      "Unemployment Rate [2018]    15\n",
      "Unemployment Rate [2019]    15\n",
      "Unemployment Rate [2020]    15\n",
      "Unemployment Rate [2021]    15\n",
      "Unemployment Rate [2022]    19\n",
      "Unemployment Rate [2023]    23\n",
      "dtype: int64\n"
     ]
    }
   ],
   "source": [
    "# check for missing vals and fix them\n",
    "\n",
    "print(df_comp.isna().sum())"
   ]
  },
  {
   "cell_type": "code",
   "execution_count": 20,
   "id": "b9c847ba-fd4b-45ef-86a2-2f89adbef60d",
   "metadata": {},
   "outputs": [],
   "source": [
    "# drop the missing data \n",
    "# countries with missing GDP are either missing for all years or fluctuate too much from year to year - will make ffill, bfill, or interpolate inaccurate for analysis\n",
    "# countries with missing unemployment rate info has missing info for demographics as well - useless for analysis of relationship with GDP\n",
    "# ea country contains 4 rows so the total countries that will be removed is only seven countries, 2 of which are territories\n",
    "# dropping missing data will have less of an impact in final analysis than ffill, bfill, or interpolate\n",
    "                                                                                              \n",
    "df_clean = df_comp.dropna()\n",
    "df_clean.to_csv('../Data/no_null_test.csv', index=True)\n"
   ]
  },
  {
   "cell_type": "code",
   "execution_count": 21,
   "id": "84323d87-8925-4a13-9f89-064e9c5633ba",
   "metadata": {},
   "outputs": [
    {
     "name": "stdout",
     "output_type": "stream",
     "text": [
      "Index(['AFGHANISTAN', 'AFGHANISTAN', 'AFGHANISTAN', 'AFGHANISTAN', 'ALBANIA',\n",
      "       'ALBANIA', 'ALBANIA', 'ALBANIA', 'ALGERIA', 'ALGERIA',\n",
      "       ...\n",
      "       'YEMEN', 'YEMEN', 'ZAMBIA', 'ZAMBIA', 'ZAMBIA', 'ZAMBIA', 'ZIMBABWE',\n",
      "       'ZIMBABWE', 'ZIMBABWE', 'ZIMBABWE'],\n",
      "      dtype='object', name='country_name', length=708)\n"
     ]
    }
   ],
   "source": [
    "# convert country names to uppercase to make indexing easier for analysis\n",
    "\n",
    "df_clean.index = df_clean.index.str.upper()\n",
    "print(df_clean.index)"
   ]
  },
  {
   "cell_type": "code",
   "execution_count": 22,
   "id": "47cefc05-ae8e-45ec-b734-c79843f07216",
   "metadata": {},
   "outputs": [
    {
     "name": "stdout",
     "output_type": "stream",
     "text": [
      "176\n",
      "{'AFGHANISTAN': 'AS', 'ALBANIA': 'EU', 'ALGERIA': 'AF', 'ANGOLA': 'AF', 'ARGENTINA': 'SAM', 'ARMENIA': 'AS', 'AUSTRALIA': 'OC', 'AUSTRIA': 'EU', 'AZERBAIJAN': 'AS/EU', 'BAHAMAS': 'NAM', 'BAHRAIN': 'AS', 'BANGLADESH': 'AS', 'BARBADOS': 'NAM', 'BELARUS': 'EU', 'BELGIUM': 'EU', 'BELIZE': 'NAM', 'BENIN': 'AF', 'BHUTAN': 'AS', 'BOLIVIA': 'SAM', 'BOSNIA AND HERZEGOVINA': 'EU', 'BOTSWANA': 'AF', 'BRAZIL': 'SAM', 'BRUNEI DARUSSALAM': 'AS', 'BULGARIA': 'EU', 'BURKINA FASO': 'AF', 'BURUNDI': 'AF', 'CABO VERDE': 'AF', 'CAMBODIA': 'AS', 'CAMEROON': 'AF', 'CANADA': 'NAM', 'CENTRAL AFRICAN REPUBLIC': 'AF', 'CHAD': 'AF', 'CHILE': 'SAM', 'CHINA': 'AS', 'COLOMBIA': 'SAM', 'COMOROS': 'AF', 'CONGO': 'AF', 'CONGO, DEMOCRATIC REPUBLIC OF THE': 'AF', 'COSTA RICA': 'NAM', 'CROATIA': 'EU', 'CYPRUS': 'EU', 'CZECHIA': 'EU', 'DENMARK': 'EU', 'DJIBOUTI': 'AF', 'DOMINICAN REPUBLIC': 'NAM', 'ECUADOR': 'SAM', 'EGYPT': 'AF', 'EL SALVADOR': 'NAM', 'EQUATORIAL GUINEA': 'AF', 'ESTONIA': 'EU', 'ESWATINI': 'AF', 'ETHIOPIA': 'AF', 'FIJI': 'OC', 'FINLAND': 'EU', 'FRANCE': 'EU', 'GABON': 'AF', 'GAMBIA': 'AF', 'GEORGIA': 'AS/EU', 'GERMANY': 'EU', 'GHANA': 'AF', 'GREECE': 'EU', 'GUATEMALA': 'NAM', 'GUINEA': 'AF', 'GUINEA-BISSAU': 'AF', 'GUYANA': 'SAM', 'HAITI': 'NAM', 'HONDURAS': 'NAM', 'HONG KONG SAR': 'AS', 'HUNGARY': 'EU', 'ICELAND': 'EU', 'INDIA': 'AS', 'INDONESIA': 'AS', 'IRAN': 'AS', 'IRAQ': 'AS', 'IRELAND': 'EU', 'ISRAEL': 'AS', 'ITALY': 'EU', 'IVORY COAST': 'AF', 'JAMAICA': 'NAM', 'JAPAN': 'AS', 'JORDAN': 'AS', 'KAZAKHSTAN': 'AS', 'KENYA': 'AF', 'KOREA, REPUBLIC OF': 'AS', 'KUWAIT': 'AS', 'KYRGYZSTAN': 'AS', 'LAO P.D.R.': 'AS', 'LATVIA': 'EU', 'LEBANON': 'AS', 'LESOTHO': 'AF', 'LIBERIA': 'AF', 'LIBYA': 'AF', 'LITHUANIA': 'EU', 'LUXEMBOURG': 'EU', 'MACAO SAR': 'AS', 'MACEDONIA': 'EU', 'MADAGASCAR': 'AF', 'MALAWI': 'AF', 'MALAYSIA': 'AS', 'MALDIVES': 'AS', 'MALI': 'AF', 'MALTA': 'EU', 'MAURITANIA': 'AF', 'MAURITIUS': 'AF', 'MEXICO': 'NAM', 'MOLDOVA': 'EU', 'MONGOLIA': 'AS', 'MONTENEGRO': 'EU', 'MOROCCO': 'AF', 'MOZAMBIQUE': 'AF', 'MYANMAR': 'AS', 'NAMIBIA': 'AF', 'NEPAL': 'AS', 'NETHERLANDS': 'EU', 'NEW ZEALAND': 'OC', 'NICARAGUA': 'NAM', 'NIGER': 'AF', 'NIGERIA': 'AF', 'NORWAY': 'EU', 'OMAN': 'AS', 'PAKISTAN': 'AS', 'PANAMA': 'NAM', 'PAPUA NEW GUINEA': 'OC', 'PARAGUAY': 'SAM', 'PERU': 'SAM', 'PHILIPPINES': 'AS', 'POLAND': 'EU', 'PORTUGAL': 'EU', 'PUERTO RICO': 'NAM', 'QATAR': 'AS', 'ROMANIA': 'EU', 'RUSSIAN FEDERATION': 'AS/EU', 'RWANDA': 'AF', 'SAINT LUCIA': 'NAM', 'SAINT VINCENT AND THE GRENADINES': 'NAM', 'SAMOA': 'OC', 'SAO TOME AND PRINCIPE': 'AF', 'SAUDI ARABIA': 'AS', 'SENEGAL': 'AF', 'SERBIA': 'EU', 'SIERRA LEONE': 'AF', 'SINGAPORE': 'AS', 'SLOVAKIA': 'EU', 'SLOVENIA': 'EU', 'SOLOMON ISLANDS': 'OC', 'SOMALIA': 'AF', 'SOUTH AFRICA': 'AF', 'SOUTH SUDAN': 'AF', 'SPAIN': 'EU', 'SUDAN': 'AF', 'SURINAME': 'SAM', 'SWEDEN': 'EU', 'SWITZERLAND': 'EU', 'TAIWAN, CHINA': 'AS', 'TAJIKISTAN': 'AS', 'TANZANIA': 'AF', 'THAILAND': 'AS', 'TIMOR-LESTE': 'AS', 'TOGO': 'AF', 'TONGA': 'OC', 'TRINIDAD AND TOBAGO': 'NAM', 'TUNISIA': 'AF', 'TURKEY': 'AS/EU', 'TURKMENISTAN': 'AS', 'UGANDA': 'AF', 'UNITED ARAB EMIRATES': 'AS', 'UNITED KINGDOM': 'EU', 'UNITED STATES': 'NAM', 'URUGUAY': 'SAM', 'UZBEKISTAN': 'AS', 'VANUATU': 'OC', 'VENEZUELA': 'SAM', 'VIETNAM': 'AS', 'YEMEN': 'AS', 'ZAMBIA': 'AF', 'ZIMBABWE': 'AF'}\n"
     ]
    }
   ],
   "source": [
    "# create continents column and sort each country into their respective continent for analysis\n",
    "\n",
    "countries = sorted(list({x for x in df_clean.index}))\n",
    "print(len(countries))\n",
    "\n",
    "country_to_continent = {\n",
    "    'AFGHANISTAN': 'AS', 'ALBANIA': 'EU', 'ALGERIA': 'AF', 'ANGOLA': 'AF', 'ARGENTINA': 'SA',\n",
    "    'ARMENIA': 'AS', 'AUSTRALIA': 'OC', 'AUSTRIA': 'EU', 'AZERBAIJAN': 'AS/EU', 'BAHAMAS': 'NA',\n",
    "    'BAHRAIN': 'AS', 'BANGLADESH': 'AS', 'BARBADOS': 'NA', 'BELARUS': 'EU', 'BELGIUM': 'EU',\n",
    "    'BELIZE': 'NA', 'BENIN': 'AF', 'BHUTAN': 'AS', 'BOLIVIA': 'SA', 'BOSNIA AND HERZEGOVINA': 'EU',\n",
    "    'BOTSWANA': 'AF', 'BRAZIL': 'SA', 'BRUNEI DARUSSALAM': 'AS', 'BULGARIA': 'EU', 'BURKINA FASO': 'AF',\n",
    "    'BURUNDI': 'AF', 'CABO VERDE': 'AF', 'CAMBODIA': 'AS', 'CAMEROON': 'AF', 'CANADA': 'NA',\n",
    "    'CENTRAL AFRICAN REPUBLIC': 'AF', 'CHAD': 'AF', 'CHILE': 'SA', 'CHINA': 'AS', 'COLOMBIA': 'SA',\n",
    "    'COMOROS': 'AF', 'CONGO': 'AF', 'CONGO, DEMOCRATIC REPUBLIC OF THE': 'AF', 'COSTA RICA': 'NA', 'CROATIA': 'EU',\n",
    "    'CYPRUS': 'EU', 'CZECHIA': 'EU', 'DENMARK': 'EU', 'DJIBOUTI': 'AF', 'DOMINICAN REPUBLIC': 'NA', 'ECUADOR': 'SA',\n",
    "    'EGYPT': 'AF', 'EL SALVADOR': 'NA', 'EQUATORIAL GUINEA': 'AF', 'ESTONIA': 'EU', 'ESWATINI': 'AF', 'ETHIOPIA': 'AF',\n",
    "    'FIJI': 'OC', 'FINLAND': 'EU', 'FRANCE': 'EU', 'GABON': 'AF', 'GAMBIA': 'AF', 'GEORGIA': 'AS/EU', 'GERMANY': 'EU',\n",
    "    'GHANA': 'AF', 'GREECE': 'EU', 'GUATEMALA': 'NA', 'GUINEA': 'AF', 'GUINEA-BISSAU': 'AF', 'GUYANA': 'SA',\n",
    "    'HAITI': 'NA', 'HONDURAS': 'NA', 'HONG KONG SAR': 'AS', 'HUNGARY': 'EU', 'ICELAND': 'EU', 'INDIA': 'AS', 'INDONESIA': 'AS',\n",
    "    'IRAN': 'AS', 'IRAQ': 'AS', 'IRELAND': 'EU', 'ISRAEL': 'AS', 'ITALY': 'EU', 'IVORY COAST': 'AF', 'JAMAICA': 'NA',\n",
    "    'JAPAN': 'AS', 'JORDAN': 'AS', 'KAZAKHSTAN': 'AS', 'KENYA': 'AF', 'KOREA, REPUBLIC OF': 'AS', 'KUWAIT': 'AS',\n",
    "    'KYRGYZSTAN': 'AS', 'LAO P.D.R.': 'AS', 'LATVIA': 'EU', 'LEBANON': 'AS', 'LESOTHO': 'AF', 'LIBERIA': 'AF', 'LIBYA': 'AF',\n",
    "    'LITHUANIA': 'EU', 'LUXEMBOURG': 'EU', 'MACAO SAR': 'AS', 'MACEDONIA': 'EU', 'MADAGASCAR': 'AF', 'MALAWI': 'AF', 'MALAYSIA': 'AS',\n",
    "    'MALDIVES': 'AS', 'MALI': 'AF', 'MALTA': 'EU', 'MAURITANIA': 'AF', 'MAURITIUS': 'AF', 'MEXICO': 'NA', 'MOLDOVA': 'EU',\n",
    "    'MONGOLIA': 'AS', 'MONTENEGRO': 'EU', 'MOROCCO': 'AF', 'MOZAMBIQUE': 'AF', 'MYANMAR': 'AS', 'NAMIBIA': 'AF', 'NEPAL': 'AS',\n",
    "    'NETHERLANDS': 'EU', 'NEW ZEALAND': 'OC', 'NICARAGUA': 'NA', 'NIGER': 'AF', 'NIGERIA': 'AF', 'NORWAY': 'EU', 'OMAN': 'AS',\n",
    "    'PAKISTAN': 'AS', 'PANAMA': 'NA', 'PAPUA NEW GUINEA': 'OC', 'PARAGUAY': 'SA', 'PERU': 'SA', 'PHILIPPINES': 'AS',\n",
    "    'POLAND': 'EU', 'PORTUGAL': 'EU', 'PUERTO RICO': 'NA', 'QATAR': 'AS', 'ROMANIA': 'EU', 'RUSSIAN FEDERATION': 'AS/EU',\n",
    "    'RWANDA': 'AF', 'SAINT LUCIA': 'NA', 'SAINT VINCENT AND THE GRENADINES': 'NA', 'SAMOA': 'OC', 'SAO TOME AND PRINCIPE': 'AF',\n",
    "    'SAUDI ARABIA': 'AS', 'SENEGAL': 'AF', 'SERBIA': 'EU', 'SIERRA LEONE': 'AF', 'SINGAPORE': 'AS', 'SLOVAKIA': 'EU',\n",
    "    'SLOVENIA': 'EU', 'SOLOMON ISLANDS': 'OC', 'SOMALIA': 'AF', 'SOUTH AFRICA': 'AF', 'SOUTH SUDAN': 'AF', 'SPAIN': 'EU',\n",
    "    'SUDAN': 'AF', 'SURINAME': 'SA', 'SWEDEN': 'EU', 'SWITZERLAND': 'EU', 'TAIWAN, CHINA': 'AS', 'TAJIKISTAN': 'AS',\n",
    "    'TANZANIA': 'AF', 'THAILAND': 'AS', 'TIMOR-LESTE': 'AS', 'TOGO': 'AF', 'TONGA': 'OC', 'TRINIDAD AND TOBAGO': 'NA',\n",
    "    'TUNISIA': 'AF', 'TURKEY': 'AS/EU', 'TURKMENISTAN': 'AS', 'UGANDA': 'AF', 'UNITED ARAB EMIRATES': 'AS',\n",
    "    'UNITED KINGDOM': 'EU', 'UNITED STATES': 'NA', 'URUGUAY': 'SA', 'UZBEKISTAN': 'AS', 'VANUATU': 'OC', 'VENEZUELA': 'SA',\n",
    "    'VIETNAM': 'AS', 'YEMEN': 'AS', 'ZAMBIA': 'AF', 'ZIMBABWE': 'AF'\n",
    "}\n",
    "\n",
    "# update NA and SA continents to NAM and SAM, respectively\n",
    "# Bc NA is understood as NaN by Python\n",
    "def update_cont(dict):\n",
    "    for key in dict:\n",
    "        if dict[key] == 'NA':\n",
    "            dict[key] = 'NAM'\n",
    "        elif dict[key] == 'SA':\n",
    "            dict[key] = 'SAM'\n",
    "\n",
    "update_cont(country_to_continent)\n",
    "print(country_to_continent)\n",
    "\n",
    "def get_cont(country_name):\n",
    "    return country_to_continent.get(country_name, 'Unknown')\n",
    "\n",
    "countries_df = pd.DataFrame(countries, columns = ['Country'])\n",
    "countries_df['continent'] = countries_df['Country'].apply(get_cont)\n",
    "countries_df = countries_df.set_index('Country')\n",
    "\n",
    "countries_df.to_csv('../Data/countries.csv', index=True)"
   ]
  },
  {
   "cell_type": "code",
   "execution_count": 23,
   "id": "2b492498-5100-4a8c-8356-3eff063c8854",
   "metadata": {},
   "outputs": [],
   "source": [
    "# concatenate countries df to df_clean to add the new columns into the dataframe\n",
    "\n",
    "df_final = pd.merge(df_clean, countries_df, left_index = True, right_index = True, how = 'outer')\n",
    "df_final.to_csv('../Data/before_col_sort.csv', index=True)"
   ]
  },
  {
   "cell_type": "code",
   "execution_count": 24,
   "id": "87ec6e8d-bda3-4a8c-a046-d01a5960cc29",
   "metadata": {},
   "outputs": [],
   "source": [
    "# reorder columns to make it easier to read for analysis\n",
    "columns = ['continent', 'sex', 'age_group', 'age_categories', 'GDP Growth Rate % [2014]',\n",
    "           'GDP Growth Rate % [2015]', 'GDP Growth Rate % [2016]', 'GDP Growth Rate % [2017]',\n",
    "           'GDP Growth Rate % [2018]', 'GDP Growth Rate % [2019]', 'GDP Growth Rate % [2020]',\n",
    "           'GDP Growth Rate % [2021]', 'GDP Growth Rate % [2022]', 'GDP Growth Rate % [2023]',\n",
    "           'Unemployment Rate [2014]',\t'Unemployment Rate [2015]',\t'Unemployment Rate [2016]',\n",
    "           'Unemployment Rate [2017]',\t'Unemployment Rate [2018]',\t'Unemployment Rate [2019]',\n",
    "           'Unemployment Rate [2020]',\t'Unemployment Rate [2021]',\t'Unemployment Rate [2022]',\n",
    "           'Unemployment Rate [2023]']\n",
    "\n",
    "df_final = df_final[columns]\n",
    "df_final = df_final.rename_axis('Country')\n",
    "\n",
    "#capitalize all columns for consistent formatting\n",
    "columns_to_cap = {'continent': 'Continent', 'sex': 'Sex', 'age_group': 'Age_Group',\n",
    "                  'age_categories': 'Age_Categories'}\n",
    "df_final = df_final.rename(columns = columns_to_cap)\n",
    "\n",
    "df_final.to_csv('../Data/gdp_unemp_final.csv', index=True)"
   ]
  }
 ],
 "metadata": {
  "kernelspec": {
   "display_name": "base",
   "language": "python",
   "name": "python3"
  },
  "language_info": {
   "codemirror_mode": {
    "name": "ipython",
    "version": 3
   },
   "file_extension": ".py",
   "mimetype": "text/x-python",
   "name": "python",
   "nbconvert_exporter": "python",
   "pygments_lexer": "ipython3",
   "version": "3.8.8"
  }
 },
 "nbformat": 4,
 "nbformat_minor": 5
}
